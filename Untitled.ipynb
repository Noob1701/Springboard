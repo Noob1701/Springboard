{
 "cells": [
  {
   "cell_type": "code",
   "execution_count": 17,
   "id": "a7076524",
   "metadata": {},
   "outputs": [
    {
     "data": {
      "text/plain": [
       "0.80472049689441"
      ]
     },
     "execution_count": 17,
     "metadata": {},
     "output_type": "execute_result"
    }
   ],
   "source": [
    "2 * ((.79 * .82)/(.79+.82))"
   ]
  },
  {
   "cell_type": "code",
   "execution_count": 16,
   "id": "791f89e2",
   "metadata": {},
   "outputs": [
    {
     "data": {
      "text/plain": [
       "0.402360248447205"
      ]
     },
     "execution_count": 16,
     "metadata": {},
     "output_type": "execute_result"
    }
   ],
   "source": [
    ".79*.82/(.79+.82)"
   ]
  },
  {
   "cell_type": "code",
   "execution_count": null,
   "id": "881d22d4",
   "metadata": {},
   "outputs": [],
   "source": [
    "2 * ((.79 * .82)/(.79+.82))"
   ]
  }
 ],
 "metadata": {
  "kernelspec": {
   "display_name": "Python 3 (ipykernel)",
   "language": "python",
   "name": "python3"
  },
  "language_info": {
   "codemirror_mode": {
    "name": "ipython",
    "version": 3
   },
   "file_extension": ".py",
   "mimetype": "text/x-python",
   "name": "python",
   "nbconvert_exporter": "python",
   "pygments_lexer": "ipython3",
   "version": "3.10.9"
  }
 },
 "nbformat": 4,
 "nbformat_minor": 5
}
