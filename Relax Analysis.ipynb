{
 "cells": [
  {
   "cell_type": "code",
   "execution_count": 1,
   "id": "c198858a",
   "metadata": {},
   "outputs": [],
   "source": [
    "import numpy as np"
   ]
  },
  {
   "cell_type": "code",
   "execution_count": 16,
   "id": "ac2b53ce",
   "metadata": {},
   "outputs": [],
   "source": [
    "y_list = []\n",
    "while len(y_list) < 5:\n",
    "    x = np.random.randint(1,7)\n",
    "    y_list.append(x)"
   ]
  },
  {
   "cell_type": "code",
   "execution_count": 17,
   "id": "1301c217",
   "metadata": {},
   "outputs": [
    {
     "name": "stdout",
     "output_type": "stream",
     "text": [
      "[2, 3, 6, 1, 3]\n"
     ]
    }
   ],
   "source": [
    "print(y_list)"
   ]
  },
  {
   "cell_type": "code",
   "execution_count": 23,
   "id": "3a36e2ce",
   "metadata": {},
   "outputs": [
    {
     "data": {
      "text/plain": [
       "0.6651020233196159"
      ]
     },
     "execution_count": 23,
     "metadata": {},
     "output_type": "execute_result"
    }
   ],
   "source": [
    "(1 - (5/6)**6) "
   ]
  },
  {
   "cell_type": "code",
   "execution_count": 25,
   "id": "39ee7d55",
   "metadata": {},
   "outputs": [
    {
     "data": {
      "text/plain": [
       "15.532407407407405"
      ]
     },
     "execution_count": 25,
     "metadata": {},
     "output_type": "execute_result"
    }
   ],
   "source": [
    "(1 - (5/6) **4)*30"
   ]
  },
  {
   "cell_type": "code",
   "execution_count": 29,
   "id": "e40edfca",
   "metadata": {},
   "outputs": [
    {
     "data": {
      "text/plain": [
       "0.05555555555555555"
      ]
     },
     "execution_count": 29,
     "metadata": {},
     "output_type": "execute_result"
    }
   ],
   "source": [
    "(2/6*1/6)"
   ]
  },
  {
   "cell_type": "code",
   "execution_count": 32,
   "id": "b054e303",
   "metadata": {},
   "outputs": [
    {
     "data": {
      "text/plain": [
       "0.5555555555555556"
      ]
     },
     "execution_count": 32,
     "metadata": {},
     "output_type": "execute_result"
    }
   ],
   "source": [
    "1 - (4/6)**2"
   ]
  },
  {
   "cell_type": "code",
   "execution_count": null,
   "id": "6ef50648",
   "metadata": {},
   "outputs": [],
   "source": []
  }
 ],
 "metadata": {
  "kernelspec": {
   "display_name": "Python 3 (ipykernel)",
   "language": "python",
   "name": "python3"
  },
  "language_info": {
   "codemirror_mode": {
    "name": "ipython",
    "version": 3
   },
   "file_extension": ".py",
   "mimetype": "text/x-python",
   "name": "python",
   "nbconvert_exporter": "python",
   "pygments_lexer": "ipython3",
   "version": "3.10.9"
  }
 },
 "nbformat": 4,
 "nbformat_minor": 5
}
