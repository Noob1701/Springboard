{
 "cells": [
  {
   "cell_type": "code",
   "execution_count": 1,
   "id": "5cb535be",
   "metadata": {},
   "outputs": [],
   "source": [
    "import pandas as pd\n",
    "import numpy as np\n",
    "import time\n",
    "from sklearn import preprocessing\n",
    "from sklearn.linear_model import LogisticRegression\n",
    "from sklearn.preprocessing import StandardScaler\n",
    "import sklearn.model_selection\n",
    "import matplotlib.pyplot as plt\n",
    "from sklearn.model_selection import train_test_split\n",
    "from sklearn.linear_model import LogisticRegression\n",
    "from sklearn.metrics import accuracy_score, f1_score\n",
    "from sklearn.metrics import classification_report\n",
    "from sklearn.ensemble import RandomForestClassifier\n",
    "from sklearn.metrics import confusion_matrix\n",
    "from sklearn.metrics import ConfusionMatrixDisplay\n",
    "from sklearn.ensemble import RandomForestClassifier\n",
    "from sklearn.model_selection import GridSearchCV\n",
    "from sklearn.model_selection import RandomizedSearchCV\n",
    "from sklearn.ensemble import VotingClassifier\n",
    "from sklearn.svm import LinearSVC\n",
    "from sklearn import metrics\n",
    "from sklearn.metrics import roc_curve, auc\n",
    "from sklearn.metrics import PrecisionRecallDisplay\n",
    "import warnings\n",
    "from sklearn.naive_bayes import GaussianNB\n",
    "warnings.filterwarnings('ignore')"
   ]
  },
  {
   "cell_type": "code",
   "execution_count": 2,
   "id": "9fcf8442",
   "metadata": {},
   "outputs": [
    {
     "data": {
      "text/html": [
       "<div>\n",
       "<style scoped>\n",
       "    .dataframe tbody tr th:only-of-type {\n",
       "        vertical-align: middle;\n",
       "    }\n",
       "\n",
       "    .dataframe tbody tr th {\n",
       "        vertical-align: top;\n",
       "    }\n",
       "\n",
       "    .dataframe thead th {\n",
       "        text-align: right;\n",
       "    }\n",
       "</style>\n",
       "<table border=\"1\" class=\"dataframe\">\n",
       "  <thead>\n",
       "    <tr style=\"text-align: right;\">\n",
       "      <th></th>\n",
       "      <th>id</th>\n",
       "      <th>fe_score</th>\n",
       "      <th>fk_score</th>\n",
       "      <th>cl_score</th>\n",
       "      <th>ari_score</th>\n",
       "      <th>dc_score</th>\n",
       "      <th>dw_score</th>\n",
       "      <th>ls_score</th>\n",
       "      <th>gf_score</th>\n",
       "      <th>syllable_count</th>\n",
       "      <th>...</th>\n",
       "      <th>TFIDF_won</th>\n",
       "      <th>TFIDF_word</th>\n",
       "      <th>TFIDF_work</th>\n",
       "      <th>TFIDF_worker</th>\n",
       "      <th>TFIDF_working</th>\n",
       "      <th>TFIDF_world</th>\n",
       "      <th>TFIDF_wrote</th>\n",
       "      <th>TFIDF_year</th>\n",
       "      <th>TFIDF_york</th>\n",
       "      <th>TFIDF_young</th>\n",
       "    </tr>\n",
       "  </thead>\n",
       "  <tbody>\n",
       "    <tr>\n",
       "      <th>0</th>\n",
       "      <td>78511</td>\n",
       "      <td>65.73</td>\n",
       "      <td>7.6</td>\n",
       "      <td>9.10</td>\n",
       "      <td>8.5</td>\n",
       "      <td>9.41</td>\n",
       "      <td>166</td>\n",
       "      <td>7.375000</td>\n",
       "      <td>8.91</td>\n",
       "      <td>1140</td>\n",
       "      <td>...</td>\n",
       "      <td>0.000000</td>\n",
       "      <td>0.000000</td>\n",
       "      <td>0.054647</td>\n",
       "      <td>0.000000</td>\n",
       "      <td>0.000000</td>\n",
       "      <td>0.053810</td>\n",
       "      <td>0.0</td>\n",
       "      <td>0.036393</td>\n",
       "      <td>0.061541</td>\n",
       "      <td>0.0</td>\n",
       "    </tr>\n",
       "    <tr>\n",
       "      <th>1</th>\n",
       "      <td>76190</td>\n",
       "      <td>48.27</td>\n",
       "      <td>14.3</td>\n",
       "      <td>12.37</td>\n",
       "      <td>18.6</td>\n",
       "      <td>9.88</td>\n",
       "      <td>113</td>\n",
       "      <td>21.666667</td>\n",
       "      <td>15.97</td>\n",
       "      <td>869</td>\n",
       "      <td>...</td>\n",
       "      <td>0.067625</td>\n",
       "      <td>0.072737</td>\n",
       "      <td>0.113305</td>\n",
       "      <td>0.000000</td>\n",
       "      <td>0.068093</td>\n",
       "      <td>0.055785</td>\n",
       "      <td>0.0</td>\n",
       "      <td>0.000000</td>\n",
       "      <td>0.000000</td>\n",
       "      <td>0.0</td>\n",
       "    </tr>\n",
       "    <tr>\n",
       "      <th>2</th>\n",
       "      <td>101893</td>\n",
       "      <td>56.59</td>\n",
       "      <td>11.1</td>\n",
       "      <td>10.80</td>\n",
       "      <td>13.3</td>\n",
       "      <td>8.72</td>\n",
       "      <td>128</td>\n",
       "      <td>20.333333</td>\n",
       "      <td>12.62</td>\n",
       "      <td>1111</td>\n",
       "      <td>...</td>\n",
       "      <td>0.000000</td>\n",
       "      <td>0.000000</td>\n",
       "      <td>0.000000</td>\n",
       "      <td>0.064856</td>\n",
       "      <td>0.000000</td>\n",
       "      <td>0.000000</td>\n",
       "      <td>0.0</td>\n",
       "      <td>0.029929</td>\n",
       "      <td>0.202445</td>\n",
       "      <td>0.0</td>\n",
       "    </tr>\n",
       "    <tr>\n",
       "      <th>3</th>\n",
       "      <td>29015</td>\n",
       "      <td>78.79</td>\n",
       "      <td>6.7</td>\n",
       "      <td>5.80</td>\n",
       "      <td>7.2</td>\n",
       "      <td>6.68</td>\n",
       "      <td>103</td>\n",
       "      <td>7.666667</td>\n",
       "      <td>8.35</td>\n",
       "      <td>1445</td>\n",
       "      <td>...</td>\n",
       "      <td>0.000000</td>\n",
       "      <td>0.036497</td>\n",
       "      <td>0.028426</td>\n",
       "      <td>0.000000</td>\n",
       "      <td>0.000000</td>\n",
       "      <td>0.000000</td>\n",
       "      <td>0.0</td>\n",
       "      <td>0.132515</td>\n",
       "      <td>0.000000</td>\n",
       "      <td>0.0</td>\n",
       "    </tr>\n",
       "    <tr>\n",
       "      <th>4</th>\n",
       "      <td>84605</td>\n",
       "      <td>47.22</td>\n",
       "      <td>12.6</td>\n",
       "      <td>12.89</td>\n",
       "      <td>15.5</td>\n",
       "      <td>9.10</td>\n",
       "      <td>163</td>\n",
       "      <td>16.250000</td>\n",
       "      <td>13.33</td>\n",
       "      <td>1304</td>\n",
       "      <td>...</td>\n",
       "      <td>0.049497</td>\n",
       "      <td>0.000000</td>\n",
       "      <td>0.041466</td>\n",
       "      <td>0.000000</td>\n",
       "      <td>0.000000</td>\n",
       "      <td>0.040831</td>\n",
       "      <td>0.0</td>\n",
       "      <td>0.027615</td>\n",
       "      <td>0.000000</td>\n",
       "      <td>0.0</td>\n",
       "    </tr>\n",
       "  </tbody>\n",
       "</table>\n",
       "<p>5 rows × 518 columns</p>\n",
       "</div>"
      ],
      "text/plain": [
       "       id  fe_score  fk_score  cl_score  ari_score  dc_score  dw_score  \\\n",
       "0   78511     65.73       7.6      9.10        8.5      9.41       166   \n",
       "1   76190     48.27      14.3     12.37       18.6      9.88       113   \n",
       "2  101893     56.59      11.1     10.80       13.3      8.72       128   \n",
       "3   29015     78.79       6.7      5.80        7.2      6.68       103   \n",
       "4   84605     47.22      12.6     12.89       15.5      9.10       163   \n",
       "\n",
       "    ls_score  gf_score  syllable_count  ...  TFIDF_won  TFIDF_word  \\\n",
       "0   7.375000      8.91            1140  ...   0.000000    0.000000   \n",
       "1  21.666667     15.97             869  ...   0.067625    0.072737   \n",
       "2  20.333333     12.62            1111  ...   0.000000    0.000000   \n",
       "3   7.666667      8.35            1445  ...   0.000000    0.036497   \n",
       "4  16.250000     13.33            1304  ...   0.049497    0.000000   \n",
       "\n",
       "   TFIDF_work  TFIDF_worker  TFIDF_working  TFIDF_world TFIDF_wrote  \\\n",
       "0    0.054647      0.000000       0.000000     0.053810         0.0   \n",
       "1    0.113305      0.000000       0.068093     0.055785         0.0   \n",
       "2    0.000000      0.064856       0.000000     0.000000         0.0   \n",
       "3    0.028426      0.000000       0.000000     0.000000         0.0   \n",
       "4    0.041466      0.000000       0.000000     0.040831         0.0   \n",
       "\n",
       "   TFIDF_year  TFIDF_york  TFIDF_young  \n",
       "0    0.036393    0.061541          0.0  \n",
       "1    0.000000    0.000000          0.0  \n",
       "2    0.029929    0.202445          0.0  \n",
       "3    0.132515    0.000000          0.0  \n",
       "4    0.027615    0.000000          0.0  \n",
       "\n",
       "[5 rows x 518 columns]"
      ]
     },
     "execution_count": 2,
     "metadata": {},
     "output_type": "execute_result"
    }
   ],
   "source": [
    "X_train = pd.read_pickle('News_train_df.pkl')\n",
    "X_train.head()"
   ]
  },
  {
   "cell_type": "code",
   "execution_count": 3,
   "id": "5c48e244",
   "metadata": {},
   "outputs": [],
   "source": [
    "X_train.drop('clean_text', inplace = True, axis = 1)\n",
    "X_train.drop('id', inplace = True, axis = 1)"
   ]
  },
  {
   "cell_type": "code",
   "execution_count": 4,
   "id": "db3a55d5",
   "metadata": {},
   "outputs": [
    {
     "data": {
      "text/html": [
       "<div>\n",
       "<style scoped>\n",
       "    .dataframe tbody tr th:only-of-type {\n",
       "        vertical-align: middle;\n",
       "    }\n",
       "\n",
       "    .dataframe tbody tr th {\n",
       "        vertical-align: top;\n",
       "    }\n",
       "\n",
       "    .dataframe thead th {\n",
       "        text-align: right;\n",
       "    }\n",
       "</style>\n",
       "<table border=\"1\" class=\"dataframe\">\n",
       "  <thead>\n",
       "    <tr style=\"text-align: right;\">\n",
       "      <th></th>\n",
       "      <th>id</th>\n",
       "      <th>fe_score</th>\n",
       "      <th>fk_score</th>\n",
       "      <th>cl_score</th>\n",
       "      <th>ari_score</th>\n",
       "      <th>dc_score</th>\n",
       "      <th>dw_score</th>\n",
       "      <th>ls_score</th>\n",
       "      <th>gf_score</th>\n",
       "      <th>syllable_count</th>\n",
       "      <th>...</th>\n",
       "      <th>TFIDF_won</th>\n",
       "      <th>TFIDF_word</th>\n",
       "      <th>TFIDF_work</th>\n",
       "      <th>TFIDF_worker</th>\n",
       "      <th>TFIDF_working</th>\n",
       "      <th>TFIDF_world</th>\n",
       "      <th>TFIDF_wrote</th>\n",
       "      <th>TFIDF_year</th>\n",
       "      <th>TFIDF_york</th>\n",
       "      <th>TFIDF_young</th>\n",
       "    </tr>\n",
       "  </thead>\n",
       "  <tbody>\n",
       "    <tr>\n",
       "      <th>0</th>\n",
       "      <td>71266</td>\n",
       "      <td>69.11</td>\n",
       "      <td>8.3</td>\n",
       "      <td>9.28</td>\n",
       "      <td>10.5</td>\n",
       "      <td>8.55</td>\n",
       "      <td>89</td>\n",
       "      <td>8.166667</td>\n",
       "      <td>10.38</td>\n",
       "      <td>759</td>\n",
       "      <td>...</td>\n",
       "      <td>0.000000</td>\n",
       "      <td>0.0</td>\n",
       "      <td>0.037984</td>\n",
       "      <td>0.0</td>\n",
       "      <td>0.00000</td>\n",
       "      <td>0.000000</td>\n",
       "      <td>0.000000</td>\n",
       "      <td>0.050592</td>\n",
       "      <td>0.0</td>\n",
       "      <td>0.000000</td>\n",
       "    </tr>\n",
       "    <tr>\n",
       "      <th>1</th>\n",
       "      <td>77753</td>\n",
       "      <td>63.73</td>\n",
       "      <td>10.4</td>\n",
       "      <td>10.33</td>\n",
       "      <td>13.6</td>\n",
       "      <td>8.61</td>\n",
       "      <td>213</td>\n",
       "      <td>13.750000</td>\n",
       "      <td>12.83</td>\n",
       "      <td>1908</td>\n",
       "      <td>...</td>\n",
       "      <td>0.064104</td>\n",
       "      <td>0.0</td>\n",
       "      <td>0.000000</td>\n",
       "      <td>0.0</td>\n",
       "      <td>0.00000</td>\n",
       "      <td>0.343723</td>\n",
       "      <td>0.000000</td>\n",
       "      <td>0.000000</td>\n",
       "      <td>0.0</td>\n",
       "      <td>0.000000</td>\n",
       "    </tr>\n",
       "    <tr>\n",
       "      <th>2</th>\n",
       "      <td>89516</td>\n",
       "      <td>55.44</td>\n",
       "      <td>9.5</td>\n",
       "      <td>14.38</td>\n",
       "      <td>13.3</td>\n",
       "      <td>12.44</td>\n",
       "      <td>18</td>\n",
       "      <td>11.250000</td>\n",
       "      <td>12.67</td>\n",
       "      <td>103</td>\n",
       "      <td>...</td>\n",
       "      <td>0.000000</td>\n",
       "      <td>0.0</td>\n",
       "      <td>0.000000</td>\n",
       "      <td>0.0</td>\n",
       "      <td>0.00000</td>\n",
       "      <td>0.000000</td>\n",
       "      <td>0.000000</td>\n",
       "      <td>0.000000</td>\n",
       "      <td>0.0</td>\n",
       "      <td>0.000000</td>\n",
       "    </tr>\n",
       "    <tr>\n",
       "      <th>3</th>\n",
       "      <td>72079</td>\n",
       "      <td>57.71</td>\n",
       "      <td>10.7</td>\n",
       "      <td>10.56</td>\n",
       "      <td>13.0</td>\n",
       "      <td>8.98</td>\n",
       "      <td>287</td>\n",
       "      <td>14.000000</td>\n",
       "      <td>11.81</td>\n",
       "      <td>2252</td>\n",
       "      <td>...</td>\n",
       "      <td>0.000000</td>\n",
       "      <td>0.0</td>\n",
       "      <td>0.094228</td>\n",
       "      <td>0.0</td>\n",
       "      <td>0.00000</td>\n",
       "      <td>0.139177</td>\n",
       "      <td>0.060806</td>\n",
       "      <td>0.219631</td>\n",
       "      <td>0.0</td>\n",
       "      <td>0.133949</td>\n",
       "    </tr>\n",
       "    <tr>\n",
       "      <th>4</th>\n",
       "      <td>128608</td>\n",
       "      <td>41.33</td>\n",
       "      <td>14.9</td>\n",
       "      <td>13.47</td>\n",
       "      <td>18.5</td>\n",
       "      <td>9.98</td>\n",
       "      <td>204</td>\n",
       "      <td>36.000000</td>\n",
       "      <td>16.68</td>\n",
       "      <td>1469</td>\n",
       "      <td>...</td>\n",
       "      <td>0.000000</td>\n",
       "      <td>0.0</td>\n",
       "      <td>0.000000</td>\n",
       "      <td>0.0</td>\n",
       "      <td>0.03899</td>\n",
       "      <td>0.000000</td>\n",
       "      <td>0.041867</td>\n",
       "      <td>0.000000</td>\n",
       "      <td>0.0</td>\n",
       "      <td>0.000000</td>\n",
       "    </tr>\n",
       "  </tbody>\n",
       "</table>\n",
       "<p>5 rows × 518 columns</p>\n",
       "</div>"
      ],
      "text/plain": [
       "       id  fe_score  fk_score  cl_score  ari_score  dc_score  dw_score  \\\n",
       "0   71266     69.11       8.3      9.28       10.5      8.55        89   \n",
       "1   77753     63.73      10.4     10.33       13.6      8.61       213   \n",
       "2   89516     55.44       9.5     14.38       13.3     12.44        18   \n",
       "3   72079     57.71      10.7     10.56       13.0      8.98       287   \n",
       "4  128608     41.33      14.9     13.47       18.5      9.98       204   \n",
       "\n",
       "    ls_score  gf_score  syllable_count  ...  TFIDF_won  TFIDF_word  \\\n",
       "0   8.166667     10.38             759  ...   0.000000         0.0   \n",
       "1  13.750000     12.83            1908  ...   0.064104         0.0   \n",
       "2  11.250000     12.67             103  ...   0.000000         0.0   \n",
       "3  14.000000     11.81            2252  ...   0.000000         0.0   \n",
       "4  36.000000     16.68            1469  ...   0.000000         0.0   \n",
       "\n",
       "   TFIDF_work  TFIDF_worker  TFIDF_working  TFIDF_world TFIDF_wrote  \\\n",
       "0    0.037984           0.0        0.00000     0.000000    0.000000   \n",
       "1    0.000000           0.0        0.00000     0.343723    0.000000   \n",
       "2    0.000000           0.0        0.00000     0.000000    0.000000   \n",
       "3    0.094228           0.0        0.00000     0.139177    0.060806   \n",
       "4    0.000000           0.0        0.03899     0.000000    0.041867   \n",
       "\n",
       "   TFIDF_year  TFIDF_york  TFIDF_young  \n",
       "0    0.050592         0.0     0.000000  \n",
       "1    0.000000         0.0     0.000000  \n",
       "2    0.000000         0.0     0.000000  \n",
       "3    0.219631         0.0     0.133949  \n",
       "4    0.000000         0.0     0.000000  \n",
       "\n",
       "[5 rows x 518 columns]"
      ]
     },
     "execution_count": 4,
     "metadata": {},
     "output_type": "execute_result"
    }
   ],
   "source": [
    "X_test = pd.read_pickle('News_test_df.pkl')\n",
    "X_test.head()"
   ]
  },
  {
   "cell_type": "code",
   "execution_count": 5,
   "id": "198e9a1f",
   "metadata": {},
   "outputs": [],
   "source": [
    "X_test.drop('clean_text', inplace = True, axis = 1)\n",
    "X_test.drop('id', inplace = True, axis = 1)"
   ]
  },
  {
   "cell_type": "code",
   "execution_count": 6,
   "id": "af989dbb",
   "metadata": {},
   "outputs": [
    {
     "data": {
      "text/plain": [
       "0    1\n",
       "1    1\n",
       "Name: real, dtype: int64"
      ]
     },
     "execution_count": 6,
     "metadata": {},
     "output_type": "execute_result"
    }
   ],
   "source": [
    "y_train = pd.read_pickle('y_train.pkl')\n",
    "y_train.head(2)"
   ]
  },
  {
   "cell_type": "code",
   "execution_count": 7,
   "id": "1cffd262",
   "metadata": {},
   "outputs": [
    {
     "data": {
      "text/plain": [
       "0    1\n",
       "1    1\n",
       "Name: real, dtype: int64"
      ]
     },
     "execution_count": 7,
     "metadata": {},
     "output_type": "execute_result"
    }
   ],
   "source": [
    "y_test = pd.read_pickle('y_test.pkl')\n",
    "y_test.head(2)"
   ]
  },
  {
   "cell_type": "code",
   "execution_count": 8,
   "id": "2237cc06",
   "metadata": {},
   "outputs": [
    {
     "data": {
      "text/plain": [
       "'I will start with a basic logistic regression, a classic for binary classification tasks'"
      ]
     },
     "execution_count": 8,
     "metadata": {},
     "output_type": "execute_result"
    }
   ],
   "source": [
    "'''I will start with a basic logistic regression, a classic for binary classification tasks'''"
   ]
  },
  {
   "cell_type": "code",
   "execution_count": 9,
   "id": "c13f91b5",
   "metadata": {},
   "outputs": [
    {
     "data": {
      "text/html": [
       "<div>\n",
       "<style scoped>\n",
       "    .dataframe tbody tr th:only-of-type {\n",
       "        vertical-align: middle;\n",
       "    }\n",
       "\n",
       "    .dataframe tbody tr th {\n",
       "        vertical-align: top;\n",
       "    }\n",
       "\n",
       "    .dataframe thead th {\n",
       "        text-align: right;\n",
       "    }\n",
       "</style>\n",
       "<table border=\"1\" class=\"dataframe\">\n",
       "  <thead>\n",
       "    <tr style=\"text-align: right;\">\n",
       "      <th></th>\n",
       "      <th>fe_score</th>\n",
       "      <th>fk_score</th>\n",
       "      <th>cl_score</th>\n",
       "      <th>ari_score</th>\n",
       "      <th>dc_score</th>\n",
       "      <th>dw_score</th>\n",
       "      <th>ls_score</th>\n",
       "      <th>gf_score</th>\n",
       "      <th>syllable_count</th>\n",
       "      <th>word_count</th>\n",
       "      <th>...</th>\n",
       "      <th>TFIDF_won</th>\n",
       "      <th>TFIDF_word</th>\n",
       "      <th>TFIDF_work</th>\n",
       "      <th>TFIDF_worker</th>\n",
       "      <th>TFIDF_working</th>\n",
       "      <th>TFIDF_world</th>\n",
       "      <th>TFIDF_wrote</th>\n",
       "      <th>TFIDF_year</th>\n",
       "      <th>TFIDF_york</th>\n",
       "      <th>TFIDF_young</th>\n",
       "    </tr>\n",
       "  </thead>\n",
       "  <tbody>\n",
       "    <tr>\n",
       "      <th>0</th>\n",
       "      <td>0.942761</td>\n",
       "      <td>-1.282372</td>\n",
       "      <td>-1.252542</td>\n",
       "      <td>-1.546857</td>\n",
       "      <td>-0.082368</td>\n",
       "      <td>0.901283</td>\n",
       "      <td>-1.397755</td>\n",
       "      <td>-1.335807</td>\n",
       "      <td>0.499583</td>\n",
       "      <td>0.556509</td>\n",
       "      <td>...</td>\n",
       "      <td>-0.291893</td>\n",
       "      <td>-0.253529</td>\n",
       "      <td>1.034505</td>\n",
       "      <td>-0.186961</td>\n",
       "      <td>-0.287631</td>\n",
       "      <td>0.783464</td>\n",
       "      <td>-0.254653</td>\n",
       "      <td>0.024086</td>\n",
       "      <td>1.222872</td>\n",
       "      <td>-0.203004</td>\n",
       "    </tr>\n",
       "    <tr>\n",
       "      <th>1</th>\n",
       "      <td>-0.646595</td>\n",
       "      <td>1.355058</td>\n",
       "      <td>0.486172</td>\n",
       "      <td>1.680740</td>\n",
       "      <td>0.351347</td>\n",
       "      <td>0.256698</td>\n",
       "      <td>1.479458</td>\n",
       "      <td>1.414851</td>\n",
       "      <td>0.159529</td>\n",
       "      <td>0.136614</td>\n",
       "      <td>...</td>\n",
       "      <td>1.829911</td>\n",
       "      <td>2.168789</td>\n",
       "      <td>2.548196</td>\n",
       "      <td>-0.186961</td>\n",
       "      <td>1.968665</td>\n",
       "      <td>0.826040</td>\n",
       "      <td>-0.254653</td>\n",
       "      <td>-0.667435</td>\n",
       "      <td>-0.307607</td>\n",
       "      <td>-0.203004</td>\n",
       "    </tr>\n",
       "    <tr>\n",
       "      <th>2</th>\n",
       "      <td>0.110762</td>\n",
       "      <td>0.095390</td>\n",
       "      <td>-0.348623</td>\n",
       "      <td>-0.012950</td>\n",
       "      <td>-0.719098</td>\n",
       "      <td>0.439128</td>\n",
       "      <td>1.211030</td>\n",
       "      <td>0.109652</td>\n",
       "      <td>0.463193</td>\n",
       "      <td>0.465065</td>\n",
       "      <td>...</td>\n",
       "      <td>-0.291893</td>\n",
       "      <td>-0.253529</td>\n",
       "      <td>-0.375700</td>\n",
       "      <td>1.394514</td>\n",
       "      <td>-0.287631</td>\n",
       "      <td>-0.376894</td>\n",
       "      <td>-0.254653</td>\n",
       "      <td>-0.098733</td>\n",
       "      <td>4.727008</td>\n",
       "      <td>-0.203004</td>\n",
       "    </tr>\n",
       "    <tr>\n",
       "      <th>3</th>\n",
       "      <td>2.131592</td>\n",
       "      <td>-1.636654</td>\n",
       "      <td>-3.007208</td>\n",
       "      <td>-1.962290</td>\n",
       "      <td>-2.601605</td>\n",
       "      <td>0.135078</td>\n",
       "      <td>-1.339036</td>\n",
       "      <td>-1.553990</td>\n",
       "      <td>0.882299</td>\n",
       "      <td>1.219010</td>\n",
       "      <td>...</td>\n",
       "      <td>-0.291893</td>\n",
       "      <td>0.961914</td>\n",
       "      <td>0.357859</td>\n",
       "      <td>-0.186961</td>\n",
       "      <td>-0.287631</td>\n",
       "      <td>-0.376894</td>\n",
       "      <td>-0.254653</td>\n",
       "      <td>1.850568</td>\n",
       "      <td>-0.307607</td>\n",
       "      <td>-0.203004</td>\n",
       "    </tr>\n",
       "    <tr>\n",
       "      <th>4</th>\n",
       "      <td>-0.742175</td>\n",
       "      <td>0.685859</td>\n",
       "      <td>0.762665</td>\n",
       "      <td>0.690091</td>\n",
       "      <td>-0.368435</td>\n",
       "      <td>0.864797</td>\n",
       "      <td>0.388969</td>\n",
       "      <td>0.386276</td>\n",
       "      <td>0.705371</td>\n",
       "      <td>0.653551</td>\n",
       "      <td>...</td>\n",
       "      <td>1.261139</td>\n",
       "      <td>-0.253529</td>\n",
       "      <td>0.694357</td>\n",
       "      <td>-0.186961</td>\n",
       "      <td>-0.287631</td>\n",
       "      <td>0.503581</td>\n",
       "      <td>-0.254653</td>\n",
       "      <td>-0.142712</td>\n",
       "      <td>-0.307607</td>\n",
       "      <td>-0.203004</td>\n",
       "    </tr>\n",
       "  </tbody>\n",
       "</table>\n",
       "<p>5 rows × 516 columns</p>\n",
       "</div>"
      ],
      "text/plain": [
       "   fe_score  fk_score  cl_score  ari_score  dc_score  dw_score  ls_score  \\\n",
       "0  0.942761 -1.282372 -1.252542  -1.546857 -0.082368  0.901283 -1.397755   \n",
       "1 -0.646595  1.355058  0.486172   1.680740  0.351347  0.256698  1.479458   \n",
       "2  0.110762  0.095390 -0.348623  -0.012950 -0.719098  0.439128  1.211030   \n",
       "3  2.131592 -1.636654 -3.007208  -1.962290 -2.601605  0.135078 -1.339036   \n",
       "4 -0.742175  0.685859  0.762665   0.690091 -0.368435  0.864797  0.388969   \n",
       "\n",
       "   gf_score  syllable_count  word_count  ...  TFIDF_won  TFIDF_word  \\\n",
       "0 -1.335807        0.499583    0.556509  ...  -0.291893   -0.253529   \n",
       "1  1.414851        0.159529    0.136614  ...   1.829911    2.168789   \n",
       "2  0.109652        0.463193    0.465065  ...  -0.291893   -0.253529   \n",
       "3 -1.553990        0.882299    1.219010  ...  -0.291893    0.961914   \n",
       "4  0.386276        0.705371    0.653551  ...   1.261139   -0.253529   \n",
       "\n",
       "   TFIDF_work  TFIDF_worker  TFIDF_working  TFIDF_world  TFIDF_wrote  \\\n",
       "0    1.034505     -0.186961      -0.287631     0.783464    -0.254653   \n",
       "1    2.548196     -0.186961       1.968665     0.826040    -0.254653   \n",
       "2   -0.375700      1.394514      -0.287631    -0.376894    -0.254653   \n",
       "3    0.357859     -0.186961      -0.287631    -0.376894    -0.254653   \n",
       "4    0.694357     -0.186961      -0.287631     0.503581    -0.254653   \n",
       "\n",
       "   TFIDF_year  TFIDF_york  TFIDF_young  \n",
       "0    0.024086    1.222872    -0.203004  \n",
       "1   -0.667435   -0.307607    -0.203004  \n",
       "2   -0.098733    4.727008    -0.203004  \n",
       "3    1.850568   -0.307607    -0.203004  \n",
       "4   -0.142712   -0.307607    -0.203004  \n",
       "\n",
       "[5 rows x 516 columns]"
      ]
     },
     "execution_count": 9,
     "metadata": {},
     "output_type": "execute_result"
    }
   ],
   "source": [
    "scaler = StandardScaler()\n",
    "X_train_scaled = pd.DataFrame(scaler.fit_transform(X_train), columns=X_train.columns)\n",
    "X_test_scaled = pd.DataFrame(scaler.transform(X_test), columns = X_test.columns)\n",
    "X_train_scaled.head()"
   ]
  },
  {
   "cell_type": "code",
   "execution_count": 10,
   "id": "695598c3",
   "metadata": {},
   "outputs": [
    {
     "name": "stdout",
     "output_type": "stream",
     "text": [
      "--- 5.3456871509552 seconds ---\n"
     ]
    }
   ],
   "source": [
    "start_time = time.time()\n",
    "lr=LogisticRegression()\n",
    "lr.fit(X_train_scaled, y_train)\n",
    "print(\"--- %s seconds ---\" % (time.time() - start_time))"
   ]
  },
  {
   "cell_type": "code",
   "execution_count": 11,
   "id": "639e52dc",
   "metadata": {
    "scrolled": true
   },
   "outputs": [
    {
     "name": "stdout",
     "output_type": "stream",
     "text": [
      "score on test: 0.9226674409601239\n",
      "score on train: 0.9290853363445717\n"
     ]
    }
   ],
   "source": [
    "print(\"score on test: \" + str(lr.score(X_test_scaled, y_test)))\n",
    "print(\"score on train: \"+ str(lr.score(X_train_scaled, y_train)))"
   ]
  },
  {
   "cell_type": "code",
   "execution_count": 12,
   "id": "75c544c5",
   "metadata": {},
   "outputs": [],
   "source": [
    "y_pred_test_lr = lr.predict(X_test_scaled)\n",
    "y_pred_train_lr = lr.predict(X_train_scaled)\n"
   ]
  },
  {
   "cell_type": "code",
   "execution_count": 13,
   "id": "88e023a2",
   "metadata": {},
   "outputs": [
    {
     "data": {
      "text/plain": [
       "<sklearn.metrics._plot.confusion_matrix.ConfusionMatrixDisplay at 0x1ec11ed79a0>"
      ]
     },
     "execution_count": 13,
     "metadata": {},
     "output_type": "execute_result"
    },
    {
     "data": {
      "image/png": "[encoded data removed]",
      "text/plain": [
       "<Figure size 640x480 with 2 Axes>"
      ]
     },
     "metadata": {},
     "output_type": "display_data"
    }
   ],
   "source": [
    "cm = confusion_matrix(y_test, y_pred_test_lr, labels = lr.classes_)\n",
    "_, ax = plt.subplots()\n",
    "display_cm = ConfusionMatrixDisplay(confusion_matrix = cm, \n",
    "                                    display_labels = ['fake', 'real'])\n",
    "ax.set_xticks([0, 1])\n",
    "ax.set_yticks([0, 1])\n",
    "ax.set_xticklabels(labels = ['fake', 'real'], fontsize = 8)\n",
    "ax.set_yticklabels(labels = ['fake', 'real'], fontsize = 8)\n",
    "display_cm.plot(ax = ax)"
   ]
  },
  {
   "cell_type": "code",
   "execution_count": 14,
   "id": "2a2f7266",
   "metadata": {},
   "outputs": [
    {
     "name": "stdout",
     "output_type": "stream",
     "text": [
      "              precision    recall  f1-score   support\n",
      "\n",
      "           0       0.89      0.88      0.89      7047\n",
      "           1       0.94      0.95      0.94     13617\n",
      "\n",
      "    accuracy                           0.92     20664\n",
      "   macro avg       0.92      0.91      0.91     20664\n",
      "weighted avg       0.92      0.92      0.92     20664\n",
      "\n"
     ]
    }
   ],
   "source": [
    "print(classification_report(y_test, y_pred_test_lr))"
   ]
  },
  {
   "cell_type": "code",
   "execution_count": 15,
   "id": "48d242ca",
   "metadata": {},
   "outputs": [
    {
     "name": "stdout",
     "output_type": "stream",
     "text": [
      "              precision    recall  f1-score   support\n",
      "\n",
      "           0       0.90      0.89      0.90     21139\n",
      "           1       0.94      0.95      0.95     40851\n",
      "\n",
      "    accuracy                           0.93     61990\n",
      "   macro avg       0.92      0.92      0.92     61990\n",
      "weighted avg       0.93      0.93      0.93     61990\n",
      "\n"
     ]
    }
   ],
   "source": [
    "print(classification_report(y_train, y_pred_train_lr))"
   ]
  },
  {
   "cell_type": "code",
   "execution_count": 16,
   "id": "860acc40",
   "metadata": {},
   "outputs": [
    {
     "data": {
      "text/plain": [
       "'Code adapted from https://forecastegy.com/posts/feature-importance-in-logistic-regression/#feature-importance-in-binary-logistic-regression'"
      ]
     },
     "execution_count": 16,
     "metadata": {},
     "output_type": "execute_result"
    }
   ],
   "source": [
    "\"Code adapted from https://forecastegy.com/posts/feature-importance-in-logistic-regression/#feature-importance-in-binary-logistic-regression\""
   ]
  },
  {
   "cell_type": "code",
   "execution_count": 17,
   "id": "1cd919f6",
   "metadata": {},
   "outputs": [],
   "source": [
    "coefficients = lr.coef_[0]"
   ]
  },
  {
   "cell_type": "code",
   "execution_count": 18,
   "id": "a91fc4e1",
   "metadata": {},
   "outputs": [
    {
     "data": {
      "text/html": [
       "<div>\n",
       "<style scoped>\n",
       "    .dataframe tbody tr th:only-of-type {\n",
       "        vertical-align: middle;\n",
       "    }\n",
       "\n",
       "    .dataframe tbody tr th {\n",
       "        vertical-align: top;\n",
       "    }\n",
       "\n",
       "    .dataframe thead th {\n",
       "        text-align: right;\n",
       "    }\n",
       "</style>\n",
       "<table border=\"1\" class=\"dataframe\">\n",
       "  <thead>\n",
       "    <tr style=\"text-align: right;\">\n",
       "      <th></th>\n",
       "      <th>Feature</th>\n",
       "      <th>Importance</th>\n",
       "    </tr>\n",
       "  </thead>\n",
       "  <tbody>\n",
       "    <tr>\n",
       "      <th>1</th>\n",
       "      <td>fk_score</td>\n",
       "      <td>4.273865</td>\n",
       "    </tr>\n",
       "    <tr>\n",
       "      <th>3</th>\n",
       "      <td>ari_score</td>\n",
       "      <td>2.718142</td>\n",
       "    </tr>\n",
       "    <tr>\n",
       "      <th>12</th>\n",
       "      <td>letter_count</td>\n",
       "      <td>2.624555</td>\n",
       "    </tr>\n",
       "    <tr>\n",
       "      <th>0</th>\n",
       "      <td>fe_score</td>\n",
       "      <td>2.557415</td>\n",
       "    </tr>\n",
       "    <tr>\n",
       "      <th>5</th>\n",
       "      <td>dw_score</td>\n",
       "      <td>2.072366</td>\n",
       "    </tr>\n",
       "    <tr>\n",
       "      <th>387</th>\n",
       "      <td>TFIDF_reuters</td>\n",
       "      <td>1.464183</td>\n",
       "    </tr>\n",
       "    <tr>\n",
       "      <th>2</th>\n",
       "      <td>cl_score</td>\n",
       "      <td>1.443879</td>\n",
       "    </tr>\n",
       "    <tr>\n",
       "      <th>9</th>\n",
       "      <td>word_count</td>\n",
       "      <td>1.189155</td>\n",
       "    </tr>\n",
       "    <tr>\n",
       "      <th>13</th>\n",
       "      <td>polysyllab_count</td>\n",
       "      <td>1.070728</td>\n",
       "    </tr>\n",
       "    <tr>\n",
       "      <th>14</th>\n",
       "      <td>monosyllab_count</td>\n",
       "      <td>1.027846</td>\n",
       "    </tr>\n",
       "    <tr>\n",
       "      <th>165</th>\n",
       "      <td>TFIDF_featured</td>\n",
       "      <td>0.893724</td>\n",
       "    </tr>\n",
       "    <tr>\n",
       "      <th>398</th>\n",
       "      <td>TFIDF_said</td>\n",
       "      <td>0.880259</td>\n",
       "    </tr>\n",
       "    <tr>\n",
       "      <th>8</th>\n",
       "      <td>syllable_count</td>\n",
       "      <td>0.865513</td>\n",
       "    </tr>\n",
       "    <tr>\n",
       "      <th>89</th>\n",
       "      <td>TFIDF_com</td>\n",
       "      <td>0.584067</td>\n",
       "    </tr>\n",
       "    <tr>\n",
       "      <th>472</th>\n",
       "      <td>TFIDF_twitter</td>\n",
       "      <td>0.535925</td>\n",
       "    </tr>\n",
       "    <tr>\n",
       "      <th>204</th>\n",
       "      <td>TFIDF_hillary</td>\n",
       "      <td>0.515954</td>\n",
       "    </tr>\n",
       "    <tr>\n",
       "      <th>459</th>\n",
       "      <td>TFIDF_thursday</td>\n",
       "      <td>0.454956</td>\n",
       "    </tr>\n",
       "    <tr>\n",
       "      <th>469</th>\n",
       "      <td>TFIDF_tuesday</td>\n",
       "      <td>0.447341</td>\n",
       "    </tr>\n",
       "    <tr>\n",
       "      <th>318</th>\n",
       "      <td>TFIDF_october</td>\n",
       "      <td>0.444787</td>\n",
       "    </tr>\n",
       "    <tr>\n",
       "      <th>214</th>\n",
       "      <td>TFIDF_image</td>\n",
       "      <td>0.418752</td>\n",
       "    </tr>\n",
       "    <tr>\n",
       "      <th>297</th>\n",
       "      <td>TFIDF_monday</td>\n",
       "      <td>0.405547</td>\n",
       "    </tr>\n",
       "    <tr>\n",
       "      <th>498</th>\n",
       "      <td>TFIDF_wednesday</td>\n",
       "      <td>0.396233</td>\n",
       "    </tr>\n",
       "    <tr>\n",
       "      <th>177</th>\n",
       "      <td>TFIDF_friday</td>\n",
       "      <td>0.392365</td>\n",
       "    </tr>\n",
       "    <tr>\n",
       "      <th>10</th>\n",
       "      <td>sentence_count</td>\n",
       "      <td>0.391541</td>\n",
       "    </tr>\n",
       "    <tr>\n",
       "      <th>302</th>\n",
       "      <td>TFIDF_mr</td>\n",
       "      <td>0.313798</td>\n",
       "    </tr>\n",
       "    <tr>\n",
       "      <th>314</th>\n",
       "      <td>TFIDF_november</td>\n",
       "      <td>0.311848</td>\n",
       "    </tr>\n",
       "    <tr>\n",
       "      <th>7</th>\n",
       "      <td>gf_score</td>\n",
       "      <td>0.293907</td>\n",
       "    </tr>\n",
       "    <tr>\n",
       "      <th>437</th>\n",
       "      <td>TFIDF_sunday</td>\n",
       "      <td>0.277624</td>\n",
       "    </tr>\n",
       "    <tr>\n",
       "      <th>366</th>\n",
       "      <td>TFIDF_read</td>\n",
       "      <td>0.270761</td>\n",
       "    </tr>\n",
       "    <tr>\n",
       "      <th>317</th>\n",
       "      <td>TFIDF_obama</td>\n",
       "      <td>0.264874</td>\n",
       "    </tr>\n",
       "    <tr>\n",
       "      <th>401</th>\n",
       "      <td>TFIDF_saturday</td>\n",
       "      <td>0.261912</td>\n",
       "    </tr>\n",
       "    <tr>\n",
       "      <th>295</th>\n",
       "      <td>TFIDF_minister</td>\n",
       "      <td>0.247400</td>\n",
       "    </tr>\n",
       "    <tr>\n",
       "      <th>335</th>\n",
       "      <td>TFIDF_percent</td>\n",
       "      <td>0.231244</td>\n",
       "    </tr>\n",
       "    <tr>\n",
       "      <th>11</th>\n",
       "      <td>char_count</td>\n",
       "      <td>0.225850</td>\n",
       "    </tr>\n",
       "    <tr>\n",
       "      <th>382</th>\n",
       "      <td>TFIDF_republican</td>\n",
       "      <td>0.216585</td>\n",
       "    </tr>\n",
       "    <tr>\n",
       "      <th>238</th>\n",
       "      <td>TFIDF_just</td>\n",
       "      <td>0.210677</td>\n",
       "    </tr>\n",
       "    <tr>\n",
       "      <th>466</th>\n",
       "      <td>TFIDF_trump</td>\n",
       "      <td>0.204465</td>\n",
       "    </tr>\n",
       "    <tr>\n",
       "      <th>229</th>\n",
       "      <td>TFIDF_islamic</td>\n",
       "      <td>0.203459</td>\n",
       "    </tr>\n",
       "    <tr>\n",
       "      <th>494</th>\n",
       "      <td>TFIDF_watch</td>\n",
       "      <td>0.197654</td>\n",
       "    </tr>\n",
       "    <tr>\n",
       "      <th>163</th>\n",
       "      <td>TFIDF_fbi</td>\n",
       "      <td>0.187815</td>\n",
       "    </tr>\n",
       "    <tr>\n",
       "      <th>109</th>\n",
       "      <td>TFIDF_court</td>\n",
       "      <td>0.183035</td>\n",
       "    </tr>\n",
       "    <tr>\n",
       "      <th>37</th>\n",
       "      <td>TFIDF_anti</td>\n",
       "      <td>0.182821</td>\n",
       "    </tr>\n",
       "    <tr>\n",
       "      <th>244</th>\n",
       "      <td>TFIDF_korea</td>\n",
       "      <td>0.175134</td>\n",
       "    </tr>\n",
       "    <tr>\n",
       "      <th>416</th>\n",
       "      <td>TFIDF_share</td>\n",
       "      <td>0.172798</td>\n",
       "    </tr>\n",
       "    <tr>\n",
       "      <th>395</th>\n",
       "      <td>TFIDF_russia</td>\n",
       "      <td>0.165512</td>\n",
       "    </tr>\n",
       "    <tr>\n",
       "      <th>474</th>\n",
       "      <td>TFIDF_united</td>\n",
       "      <td>0.163664</td>\n",
       "    </tr>\n",
       "    <tr>\n",
       "      <th>58</th>\n",
       "      <td>TFIDF_britain</td>\n",
       "      <td>0.160875</td>\n",
       "    </tr>\n",
       "    <tr>\n",
       "      <th>349</th>\n",
       "      <td>TFIDF_president</td>\n",
       "      <td>0.157701</td>\n",
       "    </tr>\n",
       "    <tr>\n",
       "      <th>330</th>\n",
       "      <td>TFIDF_party</td>\n",
       "      <td>0.155514</td>\n",
       "    </tr>\n",
       "    <tr>\n",
       "      <th>31</th>\n",
       "      <td>TFIDF_al</td>\n",
       "      <td>0.152629</td>\n",
       "    </tr>\n",
       "  </tbody>\n",
       "</table>\n",
       "</div>"
      ],
      "text/plain": [
       "              Feature  Importance\n",
       "1            fk_score    4.273865\n",
       "3           ari_score    2.718142\n",
       "12       letter_count    2.624555\n",
       "0            fe_score    2.557415\n",
       "5            dw_score    2.072366\n",
       "387     TFIDF_reuters    1.464183\n",
       "2            cl_score    1.443879\n",
       "9          word_count    1.189155\n",
       "13   polysyllab_count    1.070728\n",
       "14   monosyllab_count    1.027846\n",
       "165    TFIDF_featured    0.893724\n",
       "398        TFIDF_said    0.880259\n",
       "8      syllable_count    0.865513\n",
       "89          TFIDF_com    0.584067\n",
       "472     TFIDF_twitter    0.535925\n",
       "204     TFIDF_hillary    0.515954\n",
       "459    TFIDF_thursday    0.454956\n",
       "469     TFIDF_tuesday    0.447341\n",
       "318     TFIDF_october    0.444787\n",
       "214       TFIDF_image    0.418752\n",
       "297      TFIDF_monday    0.405547\n",
       "498   TFIDF_wednesday    0.396233\n",
       "177      TFIDF_friday    0.392365\n",
       "10     sentence_count    0.391541\n",
       "302          TFIDF_mr    0.313798\n",
       "314    TFIDF_november    0.311848\n",
       "7            gf_score    0.293907\n",
       "437      TFIDF_sunday    0.277624\n",
       "366        TFIDF_read    0.270761\n",
       "317       TFIDF_obama    0.264874\n",
       "401    TFIDF_saturday    0.261912\n",
       "295    TFIDF_minister    0.247400\n",
       "335     TFIDF_percent    0.231244\n",
       "11         char_count    0.225850\n",
       "382  TFIDF_republican    0.216585\n",
       "238        TFIDF_just    0.210677\n",
       "466       TFIDF_trump    0.204465\n",
       "229     TFIDF_islamic    0.203459\n",
       "494       TFIDF_watch    0.197654\n",
       "163         TFIDF_fbi    0.187815\n",
       "109       TFIDF_court    0.183035\n",
       "37         TFIDF_anti    0.182821\n",
       "244       TFIDF_korea    0.175134\n",
       "416       TFIDF_share    0.172798\n",
       "395      TFIDF_russia    0.165512\n",
       "474      TFIDF_united    0.163664\n",
       "58      TFIDF_britain    0.160875\n",
       "349   TFIDF_president    0.157701\n",
       "330       TFIDF_party    0.155514\n",
       "31           TFIDF_al    0.152629"
      ]
     },
     "execution_count": 18,
     "metadata": {},
     "output_type": "execute_result"
    }
   ],
   "source": [
    "feature_importance = pd.DataFrame({'Feature': X_test.columns, 'Importance': np.abs(coefficients)})\n",
    "feature_importance = feature_importance.sort_values('Importance', ascending=False)\n",
    "feature_importance.head(50)"
   ]
  },
  {
   "cell_type": "code",
   "execution_count": 19,
   "id": "761e64a4",
   "metadata": {},
   "outputs": [],
   "source": [
    "parameters = {\n",
    "    'penalty' : ['l1','l2'], \n",
    "    'C'       : np.logspace(-3,3,7),\n",
    "    'solver'  : ['newton-cg', 'lbfgs', 'liblinear']\n",
    "}"
   ]
  },
  {
   "cell_type": "code",
   "execution_count": 20,
   "id": "2134f4f9",
   "metadata": {},
   "outputs": [],
   "source": [
    "clf = GridSearchCV(lr,                  \n",
    "                   param_grid = parameters,   \n",
    "                   scoring='accuracy',       \n",
    "                   cv=3) "
   ]
  },
  {
   "cell_type": "code",
   "execution_count": 21,
   "id": "d7dadae5",
   "metadata": {},
   "outputs": [
    {
     "name": "stdout",
     "output_type": "stream",
     "text": [
      "--- 20162.616495370865 seconds ---\n"
     ]
    }
   ],
   "source": [
    "start_time = time.time()\n",
    "clf.fit(X_train_scaled,y_train)\n",
    "print(\"--- %s seconds ---\" % (time.time() - start_time))"
   ]
  },
  {
   "cell_type": "code",
   "execution_count": 22,
   "id": "c8677c37",
   "metadata": {},
   "outputs": [
    {
     "name": "stdout",
     "output_type": "stream",
     "text": [
      "Tuned Hyperparameters : {'C': 1000.0, 'penalty': 'l2', 'solver': 'newton-cg'}\n",
      "Accuracy : 0.9271011583193545\n"
     ]
    }
   ],
   "source": [
    "print(\"Tuned Hyperparameters :\", clf.best_params_)\n",
    "print(\"Accuracy :\",clf.best_score_)"
   ]
  },
  {
   "cell_type": "code",
   "execution_count": 23,
   "id": "dcd6d5aa",
   "metadata": {},
   "outputs": [],
   "source": [
    "clf_lr = LogisticRegression(C = 1000, \n",
    "                            penalty = 'l2', \n",
    "                            solver = 'newton-cg')"
   ]
  },
  {
   "cell_type": "code",
   "execution_count": 24,
   "id": "d19eebe6",
   "metadata": {},
   "outputs": [
    {
     "name": "stdout",
     "output_type": "stream",
     "text": [
      "Accuracy: 0.924506387921022\n"
     ]
    }
   ],
   "source": [
    "clf_lr.fit(X_train_scaled,y_train)\n",
    "y_pred_clf_lr = clf_lr.predict(X_test_scaled)\n",
    "print(\"Accuracy:\",clf_lr.score(X_test_scaled, y_test))"
   ]
  },
  {
   "cell_type": "code",
   "execution_count": 25,
   "id": "77dfd909",
   "metadata": {},
   "outputs": [],
   "source": [
    "y_pred_test_clf_lr = clf_lr.predict(X_test_scaled)\n",
    "y_pred_train_clf_lr = clf_lr.predict(X_train_scaled)"
   ]
  },
  {
   "cell_type": "code",
   "execution_count": 26,
   "id": "562bf99d",
   "metadata": {},
   "outputs": [
    {
     "data": {
      "text/plain": [
       "<sklearn.metrics._plot.confusion_matrix.ConfusionMatrixDisplay at 0x1ec36a96770>"
      ]
     },
     "execution_count": 26,
     "metadata": {},
     "output_type": "execute_result"
    },
    {
     "data": {
      "image/png": "[encoded data removed]",
      "text/plain": [
       "<Figure size 640x480 with 2 Axes>"
      ]
     },
     "metadata": {},
     "output_type": "display_data"
    }
   ],
   "source": [
    "cm = confusion_matrix(y_test, y_pred_test_clf_lr, labels = clf_lr.classes_)\n",
    "_, ax = plt.subplots()\n",
    "display_cm = ConfusionMatrixDisplay(confusion_matrix = cm, \n",
    "                                    display_labels = ['fake', 'real'])\n",
    "ax.set_xticks([0, 1])\n",
    "ax.set_yticks([0, 1])\n",
    "ax.set_xticklabels(labels = ['fake', 'real'], fontsize = 8)\n",
    "ax.set_yticklabels(labels = ['fake', 'real'], fontsize = 8)\n",
    "display_cm.plot(ax = ax)"
   ]
  },
  {
   "cell_type": "code",
   "execution_count": 27,
   "id": "4d388184",
   "metadata": {},
   "outputs": [],
   "source": [
    "coefficients = clf_lr.coef_[0]"
   ]
  },
  {
   "cell_type": "code",
   "execution_count": 28,
   "id": "e6af281b",
   "metadata": {},
   "outputs": [
    {
     "data": {
      "text/html": [
       "<div>\n",
       "<style scoped>\n",
       "    .dataframe tbody tr th:only-of-type {\n",
       "        vertical-align: middle;\n",
       "    }\n",
       "\n",
       "    .dataframe tbody tr th {\n",
       "        vertical-align: top;\n",
       "    }\n",
       "\n",
       "    .dataframe thead th {\n",
       "        text-align: right;\n",
       "    }\n",
       "</style>\n",
       "<table border=\"1\" class=\"dataframe\">\n",
       "  <thead>\n",
       "    <tr style=\"text-align: right;\">\n",
       "      <th></th>\n",
       "      <th>Rank</th>\n",
       "      <th>Feature</th>\n",
       "      <th>Importance</th>\n",
       "    </tr>\n",
       "  </thead>\n",
       "  <tbody>\n",
       "    <tr>\n",
       "      <th>0</th>\n",
       "      <td>1</td>\n",
       "      <td>letter_count</td>\n",
       "      <td>58.143093</td>\n",
       "    </tr>\n",
       "    <tr>\n",
       "      <th>1</th>\n",
       "      <td>2</td>\n",
       "      <td>char_count</td>\n",
       "      <td>46.672348</td>\n",
       "    </tr>\n",
       "    <tr>\n",
       "      <th>2</th>\n",
       "      <td>3</td>\n",
       "      <td>word_count</td>\n",
       "      <td>45.168407</td>\n",
       "    </tr>\n",
       "    <tr>\n",
       "      <th>3</th>\n",
       "      <td>4</td>\n",
       "      <td>syllable_count</td>\n",
       "      <td>22.765878</td>\n",
       "    </tr>\n",
       "    <tr>\n",
       "      <th>4</th>\n",
       "      <td>5</td>\n",
       "      <td>monosyllab_count</td>\n",
       "      <td>14.649621</td>\n",
       "    </tr>\n",
       "    <tr>\n",
       "      <th>5</th>\n",
       "      <td>6</td>\n",
       "      <td>dw_score</td>\n",
       "      <td>2.231395</td>\n",
       "    </tr>\n",
       "    <tr>\n",
       "      <th>6</th>\n",
       "      <td>7</td>\n",
       "      <td>polysyllab_count</td>\n",
       "      <td>2.136388</td>\n",
       "    </tr>\n",
       "    <tr>\n",
       "      <th>7</th>\n",
       "      <td>8</td>\n",
       "      <td>fk_score</td>\n",
       "      <td>1.952707</td>\n",
       "    </tr>\n",
       "    <tr>\n",
       "      <th>8</th>\n",
       "      <td>9</td>\n",
       "      <td>TFIDF_reuters</td>\n",
       "      <td>1.474621</td>\n",
       "    </tr>\n",
       "    <tr>\n",
       "      <th>9</th>\n",
       "      <td>10</td>\n",
       "      <td>ari_score</td>\n",
       "      <td>1.181026</td>\n",
       "    </tr>\n",
       "    <tr>\n",
       "      <th>10</th>\n",
       "      <td>11</td>\n",
       "      <td>fe_score</td>\n",
       "      <td>1.081384</td>\n",
       "    </tr>\n",
       "    <tr>\n",
       "      <th>11</th>\n",
       "      <td>12</td>\n",
       "      <td>TFIDF_said</td>\n",
       "      <td>0.859850</td>\n",
       "    </tr>\n",
       "    <tr>\n",
       "      <th>12</th>\n",
       "      <td>13</td>\n",
       "      <td>TFIDF_featured</td>\n",
       "      <td>0.847140</td>\n",
       "    </tr>\n",
       "    <tr>\n",
       "      <th>13</th>\n",
       "      <td>14</td>\n",
       "      <td>TFIDF_com</td>\n",
       "      <td>0.559143</td>\n",
       "    </tr>\n",
       "    <tr>\n",
       "      <th>14</th>\n",
       "      <td>15</td>\n",
       "      <td>TFIDF_twitter</td>\n",
       "      <td>0.529054</td>\n",
       "    </tr>\n",
       "    <tr>\n",
       "      <th>15</th>\n",
       "      <td>16</td>\n",
       "      <td>TFIDF_hillary</td>\n",
       "      <td>0.520002</td>\n",
       "    </tr>\n",
       "    <tr>\n",
       "      <th>16</th>\n",
       "      <td>17</td>\n",
       "      <td>cl_score</td>\n",
       "      <td>0.477881</td>\n",
       "    </tr>\n",
       "    <tr>\n",
       "      <th>17</th>\n",
       "      <td>18</td>\n",
       "      <td>TFIDF_october</td>\n",
       "      <td>0.473505</td>\n",
       "    </tr>\n",
       "    <tr>\n",
       "      <th>18</th>\n",
       "      <td>19</td>\n",
       "      <td>TFIDF_thursday</td>\n",
       "      <td>0.456253</td>\n",
       "    </tr>\n",
       "    <tr>\n",
       "      <th>19</th>\n",
       "      <td>20</td>\n",
       "      <td>TFIDF_tuesday</td>\n",
       "      <td>0.446778</td>\n",
       "    </tr>\n",
       "    <tr>\n",
       "      <th>20</th>\n",
       "      <td>21</td>\n",
       "      <td>TFIDF_image</td>\n",
       "      <td>0.420830</td>\n",
       "    </tr>\n",
       "    <tr>\n",
       "      <th>21</th>\n",
       "      <td>22</td>\n",
       "      <td>TFIDF_monday</td>\n",
       "      <td>0.404270</td>\n",
       "    </tr>\n",
       "    <tr>\n",
       "      <th>22</th>\n",
       "      <td>23</td>\n",
       "      <td>TFIDF_friday</td>\n",
       "      <td>0.395638</td>\n",
       "    </tr>\n",
       "    <tr>\n",
       "      <th>23</th>\n",
       "      <td>24</td>\n",
       "      <td>TFIDF_wednesday</td>\n",
       "      <td>0.394444</td>\n",
       "    </tr>\n",
       "    <tr>\n",
       "      <th>24</th>\n",
       "      <td>25</td>\n",
       "      <td>TFIDF_november</td>\n",
       "      <td>0.332682</td>\n",
       "    </tr>\n",
       "    <tr>\n",
       "      <th>25</th>\n",
       "      <td>26</td>\n",
       "      <td>sentence_count</td>\n",
       "      <td>0.300869</td>\n",
       "    </tr>\n",
       "    <tr>\n",
       "      <th>26</th>\n",
       "      <td>27</td>\n",
       "      <td>TFIDF_mr</td>\n",
       "      <td>0.288924</td>\n",
       "    </tr>\n",
       "    <tr>\n",
       "      <th>27</th>\n",
       "      <td>28</td>\n",
       "      <td>TFIDF_obama</td>\n",
       "      <td>0.277795</td>\n",
       "    </tr>\n",
       "    <tr>\n",
       "      <th>28</th>\n",
       "      <td>29</td>\n",
       "      <td>TFIDF_sunday</td>\n",
       "      <td>0.276065</td>\n",
       "    </tr>\n",
       "    <tr>\n",
       "      <th>29</th>\n",
       "      <td>30</td>\n",
       "      <td>TFIDF_read</td>\n",
       "      <td>0.271771</td>\n",
       "    </tr>\n",
       "    <tr>\n",
       "      <th>30</th>\n",
       "      <td>31</td>\n",
       "      <td>TFIDF_republican</td>\n",
       "      <td>0.271400</td>\n",
       "    </tr>\n",
       "    <tr>\n",
       "      <th>31</th>\n",
       "      <td>32</td>\n",
       "      <td>TFIDF_saturday</td>\n",
       "      <td>0.256525</td>\n",
       "    </tr>\n",
       "    <tr>\n",
       "      <th>32</th>\n",
       "      <td>33</td>\n",
       "      <td>gf_score</td>\n",
       "      <td>0.247009</td>\n",
       "    </tr>\n",
       "    <tr>\n",
       "      <th>33</th>\n",
       "      <td>34</td>\n",
       "      <td>TFIDF_minister</td>\n",
       "      <td>0.243104</td>\n",
       "    </tr>\n",
       "    <tr>\n",
       "      <th>34</th>\n",
       "      <td>35</td>\n",
       "      <td>TFIDF_percent</td>\n",
       "      <td>0.225853</td>\n",
       "    </tr>\n",
       "    <tr>\n",
       "      <th>35</th>\n",
       "      <td>36</td>\n",
       "      <td>TFIDF_just</td>\n",
       "      <td>0.214741</td>\n",
       "    </tr>\n",
       "    <tr>\n",
       "      <th>36</th>\n",
       "      <td>37</td>\n",
       "      <td>TFIDF_court</td>\n",
       "      <td>0.199915</td>\n",
       "    </tr>\n",
       "    <tr>\n",
       "      <th>37</th>\n",
       "      <td>38</td>\n",
       "      <td>TFIDF_watch</td>\n",
       "      <td>0.197168</td>\n",
       "    </tr>\n",
       "    <tr>\n",
       "      <th>38</th>\n",
       "      <td>39</td>\n",
       "      <td>dc_score</td>\n",
       "      <td>0.196273</td>\n",
       "    </tr>\n",
       "    <tr>\n",
       "      <th>39</th>\n",
       "      <td>40</td>\n",
       "      <td>TFIDF_islamic</td>\n",
       "      <td>0.190313</td>\n",
       "    </tr>\n",
       "    <tr>\n",
       "      <th>40</th>\n",
       "      <td>41</td>\n",
       "      <td>TFIDF_trump</td>\n",
       "      <td>0.186982</td>\n",
       "    </tr>\n",
       "    <tr>\n",
       "      <th>41</th>\n",
       "      <td>42</td>\n",
       "      <td>TFIDF_fbi</td>\n",
       "      <td>0.178096</td>\n",
       "    </tr>\n",
       "    <tr>\n",
       "      <th>42</th>\n",
       "      <td>43</td>\n",
       "      <td>TFIDF_russia</td>\n",
       "      <td>0.176277</td>\n",
       "    </tr>\n",
       "    <tr>\n",
       "      <th>43</th>\n",
       "      <td>44</td>\n",
       "      <td>TFIDF_korea</td>\n",
       "      <td>0.175598</td>\n",
       "    </tr>\n",
       "    <tr>\n",
       "      <th>44</th>\n",
       "      <td>45</td>\n",
       "      <td>TFIDF_anti</td>\n",
       "      <td>0.175476</td>\n",
       "    </tr>\n",
       "    <tr>\n",
       "      <th>45</th>\n",
       "      <td>46</td>\n",
       "      <td>TFIDF_administration</td>\n",
       "      <td>0.174260</td>\n",
       "    </tr>\n",
       "    <tr>\n",
       "      <th>46</th>\n",
       "      <td>47</td>\n",
       "      <td>TFIDF_share</td>\n",
       "      <td>0.173483</td>\n",
       "    </tr>\n",
       "    <tr>\n",
       "      <th>47</th>\n",
       "      <td>48</td>\n",
       "      <td>TFIDF_britain</td>\n",
       "      <td>0.172160</td>\n",
       "    </tr>\n",
       "    <tr>\n",
       "      <th>48</th>\n",
       "      <td>49</td>\n",
       "      <td>TFIDF_conservative</td>\n",
       "      <td>0.170127</td>\n",
       "    </tr>\n",
       "    <tr>\n",
       "      <th>49</th>\n",
       "      <td>50</td>\n",
       "      <td>TFIDF_executive</td>\n",
       "      <td>0.158043</td>\n",
       "    </tr>\n",
       "  </tbody>\n",
       "</table>\n",
       "</div>"
      ],
      "text/plain": [
       "    Rank               Feature  Importance\n",
       "0      1          letter_count   58.143093\n",
       "1      2            char_count   46.672348\n",
       "2      3            word_count   45.168407\n",
       "3      4        syllable_count   22.765878\n",
       "4      5      monosyllab_count   14.649621\n",
       "5      6              dw_score    2.231395\n",
       "6      7      polysyllab_count    2.136388\n",
       "7      8              fk_score    1.952707\n",
       "8      9         TFIDF_reuters    1.474621\n",
       "9     10             ari_score    1.181026\n",
       "10    11              fe_score    1.081384\n",
       "11    12            TFIDF_said    0.859850\n",
       "12    13        TFIDF_featured    0.847140\n",
       "13    14             TFIDF_com    0.559143\n",
       "14    15         TFIDF_twitter    0.529054\n",
       "15    16         TFIDF_hillary    0.520002\n",
       "16    17              cl_score    0.477881\n",
       "17    18         TFIDF_october    0.473505\n",
       "18    19        TFIDF_thursday    0.456253\n",
       "19    20         TFIDF_tuesday    0.446778\n",
       "20    21           TFIDF_image    0.420830\n",
       "21    22          TFIDF_monday    0.404270\n",
       "22    23          TFIDF_friday    0.395638\n",
       "23    24       TFIDF_wednesday    0.394444\n",
       "24    25        TFIDF_november    0.332682\n",
       "25    26        sentence_count    0.300869\n",
       "26    27              TFIDF_mr    0.288924\n",
       "27    28           TFIDF_obama    0.277795\n",
       "28    29          TFIDF_sunday    0.276065\n",
       "29    30            TFIDF_read    0.271771\n",
       "30    31      TFIDF_republican    0.271400\n",
       "31    32        TFIDF_saturday    0.256525\n",
       "32    33              gf_score    0.247009\n",
       "33    34        TFIDF_minister    0.243104\n",
       "34    35         TFIDF_percent    0.225853\n",
       "35    36            TFIDF_just    0.214741\n",
       "36    37           TFIDF_court    0.199915\n",
       "37    38           TFIDF_watch    0.197168\n",
       "38    39              dc_score    0.196273\n",
       "39    40         TFIDF_islamic    0.190313\n",
       "40    41           TFIDF_trump    0.186982\n",
       "41    42             TFIDF_fbi    0.178096\n",
       "42    43          TFIDF_russia    0.176277\n",
       "43    44           TFIDF_korea    0.175598\n",
       "44    45            TFIDF_anti    0.175476\n",
       "45    46  TFIDF_administration    0.174260\n",
       "46    47           TFIDF_share    0.173483\n",
       "47    48         TFIDF_britain    0.172160\n",
       "48    49    TFIDF_conservative    0.170127\n",
       "49    50       TFIDF_executive    0.158043"
      ]
     },
     "execution_count": 28,
     "metadata": {},
     "output_type": "execute_result"
    }
   ],
   "source": [
    "feature_importance = pd.DataFrame({'Feature': X_test_scaled.columns, 'Importance': np.abs(coefficients)})\n",
    "feature_importance = feature_importance.sort_values('Importance', ascending=False)\n",
    "feature_importance.reset_index(drop = True, inplace = True)\n",
    "feature_importance['Rank'] = feature_importance.index+1\n",
    "feature_importance = feature_importance[['Rank','Feature','Importance']]\n",
    "feature_importance.head(50)"
   ]
  },
  {
   "cell_type": "code",
   "execution_count": 29,
   "id": "f822e48d",
   "metadata": {},
   "outputs": [
    {
     "name": "stdout",
     "output_type": "stream",
     "text": [
      "              precision    recall  f1-score   support\n",
      "\n",
      "           0       0.90      0.88      0.89      7047\n",
      "           1       0.94      0.95      0.94     13617\n",
      "\n",
      "    accuracy                           0.92     20664\n",
      "   macro avg       0.92      0.91      0.92     20664\n",
      "weighted avg       0.92      0.92      0.92     20664\n",
      "\n"
     ]
    }
   ],
   "source": [
    "print(classification_report(y_test, y_pred_test_clf_lr))"
   ]
  },
  {
   "cell_type": "code",
   "execution_count": 30,
   "id": "2e2f39f7",
   "metadata": {},
   "outputs": [
    {
     "name": "stdout",
     "output_type": "stream",
     "text": [
      "              precision    recall  f1-score   support\n",
      "\n",
      "           0       0.91      0.89      0.90     21139\n",
      "           1       0.94      0.95      0.95     40851\n",
      "\n",
      "    accuracy                           0.93     61990\n",
      "   macro avg       0.93      0.92      0.92     61990\n",
      "weighted avg       0.93      0.93      0.93     61990\n",
      "\n"
     ]
    }
   ],
   "source": [
    "print(classification_report(y_train, y_pred_train_clf_lr))"
   ]
  },
  {
   "cell_type": "code",
   "execution_count": 31,
   "id": "b9927fd8",
   "metadata": {},
   "outputs": [],
   "source": [
    "y_pred_proba_lr = clf_lr.predict_proba(X_test_scaled)[::,1]\n",
    "fpr_lr, tpr_lr, _ = metrics.roc_curve(y_test,  y_pred_proba_lr)"
   ]
  },
  {
   "cell_type": "code",
   "execution_count": 32,
   "id": "1cc332e8",
   "metadata": {},
   "outputs": [
    {
     "data": {
      "image/png": "[encoded data removed]",
      "text/plain": [
       "<Figure size 640x480 with 1 Axes>"
      ]
     },
     "metadata": {},
     "output_type": "display_data"
    }
   ],
   "source": [
    "plt.plot(fpr_lr, tpr_lr, label=\" AUC TEST =\"+str(auc(fpr_lr, tpr_lr)))\n",
    "plt.legend()\n",
    "plt.xlabel(\"False Positive Rate\")\n",
    "plt.ylabel(\"True Positive Rate\")\n",
    "plt.title(\"AUC(ROC curve)\")\n",
    "plt.show()"
   ]
  },
  {
   "cell_type": "code",
   "execution_count": 33,
   "id": "898bde79",
   "metadata": {},
   "outputs": [
    {
     "name": "stdout",
     "output_type": "stream",
     "text": [
      "score on test: 0.8058943089430894\n",
      "score on train: 0.8110824326504275\n"
     ]
    }
   ],
   "source": [
    "gnb = GaussianNB()\n",
    "gnb.fit(X_train, y_train)\n",
    "print(\"score on test: \" + str(gnb.score(X_test, y_test)))\n",
    "print(\"score on train: \"+ str(gnb.score(X_train, y_train)))"
   ]
  },
  {
   "cell_type": "code",
   "execution_count": 34,
   "id": "ec0bf950",
   "metadata": {},
   "outputs": [
    {
     "data": {
      "text/plain": [
       "'I do not think I will investigate this further'"
      ]
     },
     "execution_count": 34,
     "metadata": {},
     "output_type": "execute_result"
    }
   ],
   "source": [
    "'I do not think I will investigate this further'"
   ]
  },
  {
   "cell_type": "code",
   "execution_count": 35,
   "id": "0d371a6c",
   "metadata": {},
   "outputs": [
    {
     "name": "stdout",
     "output_type": "stream",
     "text": [
      "score on test: 0.9217963608207511\n",
      "score on train: 1.0\n",
      "--- 83.0085859298706 seconds ---\n"
     ]
    }
   ],
   "source": [
    "start_time = time.time()\n",
    "rf = RandomForestClassifier(random_state = 1701)\n",
    "rf.fit(X_train_scaled, y_train)\n",
    "print(\"score on test: \" + str(rf.score(X_test_scaled, y_test)))\n",
    "print(\"score on train: \"+ str(rf.score(X_train_scaled, y_train)))\n",
    "print(\"--- %s seconds ---\" % (time.time() - start_time))"
   ]
  },
  {
   "cell_type": "code",
   "execution_count": 36,
   "id": "0fd9de18",
   "metadata": {},
   "outputs": [
    {
     "data": {
      "text/plain": [
       "{'bootstrap': True,\n",
       " 'ccp_alpha': 0.0,\n",
       " 'class_weight': None,\n",
       " 'criterion': 'gini',\n",
       " 'max_depth': None,\n",
       " 'max_features': 'sqrt',\n",
       " 'max_leaf_nodes': None,\n",
       " 'max_samples': None,\n",
       " 'min_impurity_decrease': 0.0,\n",
       " 'min_samples_leaf': 1,\n",
       " 'min_samples_split': 2,\n",
       " 'min_weight_fraction_leaf': 0.0,\n",
       " 'n_estimators': 100,\n",
       " 'n_jobs': None,\n",
       " 'oob_score': False,\n",
       " 'random_state': 1701,\n",
       " 'verbose': 0,\n",
       " 'warm_start': False}"
      ]
     },
     "execution_count": 36,
     "metadata": {},
     "output_type": "execute_result"
    }
   ],
   "source": [
    "rf.get_params()"
   ]
  },
  {
   "cell_type": "code",
   "execution_count": 37,
   "id": "fc44f82a",
   "metadata": {},
   "outputs": [],
   "source": [
    "random_grid = {'bootstrap': [True, False],\n",
    " 'criterion': ['gini', 'entropy', 'log_loss'],\n",
    " 'max_depth': [10, 20, 30, 40, 50, 60, 70, 80, 90, 100],\n",
    " 'max_features': ['auto', 'sqrt'],\n",
    " 'min_samples_leaf': [1, 2, 4],\n",
    " 'min_samples_split': [2, 5, 10],\n",
    " 'n_estimators': [10, 50, 200, 400, 600, 800, 1000, 1200, 1400, 1600, 1800, 2000],\n",
    " 'random_state': [1701]}"
   ]
  },
  {
   "cell_type": "code",
   "execution_count": 38,
   "id": "57051adb",
   "metadata": {},
   "outputs": [],
   "source": [
    "rf_random = RandomizedSearchCV(estimator = rf, param_distributions = random_grid, n_iter = 100, \n",
    "                               cv = 3, random_state=1701)"
   ]
  },
  {
   "cell_type": "code",
   "execution_count": 39,
   "id": "2e5e97ab",
   "metadata": {},
   "outputs": [
    {
     "data": {
      "text/html": [
       "<style>#sk-container-id-1 {color: black;background-color: white;}#sk-container-id-1 pre{padding: 0;}#sk-container-id-1 div.sk-toggleable {background-color: white;}#sk-container-id-1 label.sk-toggleable__label {cursor: pointer;display: block;width: 100%;margin-bottom: 0;padding: 0.3em;box-sizing: border-box;text-align: center;}#sk-container-id-1 label.sk-toggleable__label-arrow:before {content: \"▸\";float: left;margin-right: 0.25em;color: #696969;}#sk-container-id-1 label.sk-toggleable__label-arrow:hover:before {color: black;}#sk-container-id-1 div.sk-estimator:hover label.sk-toggleable__label-arrow:before {color: black;}#sk-container-id-1 div.sk-toggleable__content {max-height: 0;max-width: 0;overflow: hidden;text-align: left;background-color: #f0f8ff;}#sk-container-id-1 div.sk-toggleable__content pre {margin: 0.2em;color: black;border-radius: 0.25em;background-color: #f0f8ff;}#sk-container-id-1 input.sk-toggleable__control:checked~div.sk-toggleable__content {max-height: 200px;max-width: 100%;overflow: auto;}#sk-container-id-1 input.sk-toggleable__control:checked~label.sk-toggleable__label-arrow:before {content: \"▾\";}#sk-container-id-1 div.sk-estimator input.sk-toggleable__control:checked~label.sk-toggleable__label {background-color: #d4ebff;}#sk-container-id-1 div.sk-label input.sk-toggleable__control:checked~label.sk-toggleable__label {background-color: #d4ebff;}#sk-container-id-1 input.sk-hidden--visually {border: 0;clip: rect(1px 1px 1px 1px);clip: rect(1px, 1px, 1px, 1px);height: 1px;margin: -1px;overflow: hidden;padding: 0;position: absolute;width: 1px;}#sk-container-id-1 div.sk-estimator {font-family: monospace;background-color: #f0f8ff;border: 1px dotted black;border-radius: 0.25em;box-sizing: border-box;margin-bottom: 0.5em;}#sk-container-id-1 div.sk-estimator:hover {background-color: #d4ebff;}#sk-container-id-1 div.sk-parallel-item::after {content: \"\";width: 100%;border-bottom: 1px solid gray;flex-grow: 1;}#sk-container-id-1 div.sk-label:hover label.sk-toggleable__label {background-color: #d4ebff;}#sk-container-id-1 div.sk-serial::before {content: \"\";position: absolute;border-left: 1px solid gray;box-sizing: border-box;top: 0;bottom: 0;left: 50%;z-index: 0;}#sk-container-id-1 div.sk-serial {display: flex;flex-direction: column;align-items: center;background-color: white;padding-right: 0.2em;padding-left: 0.2em;position: relative;}#sk-container-id-1 div.sk-item {position: relative;z-index: 1;}#sk-container-id-1 div.sk-parallel {display: flex;align-items: stretch;justify-content: center;background-color: white;position: relative;}#sk-container-id-1 div.sk-item::before, #sk-container-id-1 div.sk-parallel-item::before {content: \"\";position: absolute;border-left: 1px solid gray;box-sizing: border-box;top: 0;bottom: 0;left: 50%;z-index: -1;}#sk-container-id-1 div.sk-parallel-item {display: flex;flex-direction: column;z-index: 1;position: relative;background-color: white;}#sk-container-id-1 div.sk-parallel-item:first-child::after {align-self: flex-end;width: 50%;}#sk-container-id-1 div.sk-parallel-item:last-child::after {align-self: flex-start;width: 50%;}#sk-container-id-1 div.sk-parallel-item:only-child::after {width: 0;}#sk-container-id-1 div.sk-dashed-wrapped {border: 1px dashed gray;margin: 0 0.4em 0.5em 0.4em;box-sizing: border-box;padding-bottom: 0.4em;background-color: white;}#sk-container-id-1 div.sk-label label {font-family: monospace;font-weight: bold;display: inline-block;line-height: 1.2em;}#sk-container-id-1 div.sk-label-container {text-align: center;}#sk-container-id-1 div.sk-container {/* jupyter's `normalize.less` sets `[hidden] { display: none; }` but bootstrap.min.css set `[hidden] { display: none !important; }` so we also need the `!important` here to be able to override the default hidden behavior on the sphinx rendered scikit-learn.org. See: https://github.com/scikit-learn/scikit-learn/issues/21755 */display: inline-block !important;position: relative;}#sk-container-id-1 div.sk-text-repr-fallback {display: none;}</style><div id=\"sk-container-id-1\" class=\"sk-top-container\"><div class=\"sk-text-repr-fallback\"><pre>RandomizedSearchCV(cv=3, estimator=RandomForestClassifier(random_state=1701),\n",
       "                   n_iter=100,\n",
       "                   param_distributions={&#x27;bootstrap&#x27;: [True, False],\n",
       "                                        &#x27;criterion&#x27;: [&#x27;gini&#x27;, &#x27;entropy&#x27;,\n",
       "                                                      &#x27;log_loss&#x27;],\n",
       "                                        &#x27;max_depth&#x27;: [10, 20, 30, 40, 50, 60,\n",
       "                                                      70, 80, 90, 100],\n",
       "                                        &#x27;max_features&#x27;: [&#x27;auto&#x27;, &#x27;sqrt&#x27;],\n",
       "                                        &#x27;min_samples_leaf&#x27;: [1, 2, 4],\n",
       "                                        &#x27;min_samples_split&#x27;: [2, 5, 10],\n",
       "                                        &#x27;n_estimators&#x27;: [10, 50, 200, 400, 600,\n",
       "                                                         800, 1000, 1200, 1400,\n",
       "                                                         1600, 1800, 2000],\n",
       "                                        &#x27;random_state&#x27;: [1701]},\n",
       "                   random_state=1701)</pre><b>In a Jupyter environment, please rerun this cell to show the HTML representation or trust the notebook. <br />On GitHub, the HTML representation is unable to render, please try loading this page with nbviewer.org.</b></div><div class=\"sk-container\" hidden><div class=\"sk-item sk-dashed-wrapped\"><div class=\"sk-label-container\"><div class=\"sk-label sk-toggleable\"><input class=\"sk-toggleable__control sk-hidden--visually\" id=\"sk-estimator-id-1\" type=\"checkbox\" ><label for=\"sk-estimator-id-1\" class=\"sk-toggleable__label sk-toggleable__label-arrow\">RandomizedSearchCV</label><div class=\"sk-toggleable__content\"><pre>RandomizedSearchCV(cv=3, estimator=RandomForestClassifier(random_state=1701),\n",
       "                   n_iter=100,\n",
       "                   param_distributions={&#x27;bootstrap&#x27;: [True, False],\n",
       "                                        &#x27;criterion&#x27;: [&#x27;gini&#x27;, &#x27;entropy&#x27;,\n",
       "                                                      &#x27;log_loss&#x27;],\n",
       "                                        &#x27;max_depth&#x27;: [10, 20, 30, 40, 50, 60,\n",
       "                                                      70, 80, 90, 100],\n",
       "                                        &#x27;max_features&#x27;: [&#x27;auto&#x27;, &#x27;sqrt&#x27;],\n",
       "                                        &#x27;min_samples_leaf&#x27;: [1, 2, 4],\n",
       "                                        &#x27;min_samples_split&#x27;: [2, 5, 10],\n",
       "                                        &#x27;n_estimators&#x27;: [10, 50, 200, 400, 600,\n",
       "                                                         800, 1000, 1200, 1400,\n",
       "                                                         1600, 1800, 2000],\n",
       "                                        &#x27;random_state&#x27;: [1701]},\n",
       "                   random_state=1701)</pre></div></div></div><div class=\"sk-parallel\"><div class=\"sk-parallel-item\"><div class=\"sk-item\"><div class=\"sk-label-container\"><div class=\"sk-label sk-toggleable\"><input class=\"sk-toggleable__control sk-hidden--visually\" id=\"sk-estimator-id-2\" type=\"checkbox\" ><label for=\"sk-estimator-id-2\" class=\"sk-toggleable__label sk-toggleable__label-arrow\">estimator: RandomForestClassifier</label><div class=\"sk-toggleable__content\"><pre>RandomForestClassifier(random_state=1701)</pre></div></div></div><div class=\"sk-serial\"><div class=\"sk-item\"><div class=\"sk-estimator sk-toggleable\"><input class=\"sk-toggleable__control sk-hidden--visually\" id=\"sk-estimator-id-3\" type=\"checkbox\" ><label for=\"sk-estimator-id-3\" class=\"sk-toggleable__label sk-toggleable__label-arrow\">RandomForestClassifier</label><div class=\"sk-toggleable__content\"><pre>RandomForestClassifier(random_state=1701)</pre></div></div></div></div></div></div></div></div></div></div>"
      ],
      "text/plain": [
       "RandomizedSearchCV(cv=3, estimator=RandomForestClassifier(random_state=1701),\n",
       "                   n_iter=100,\n",
       "                   param_distributions={'bootstrap': [True, False],\n",
       "                                        'criterion': ['gini', 'entropy',\n",
       "                                                      'log_loss'],\n",
       "                                        'max_depth': [10, 20, 30, 40, 50, 60,\n",
       "                                                      70, 80, 90, 100],\n",
       "                                        'max_features': ['auto', 'sqrt'],\n",
       "                                        'min_samples_leaf': [1, 2, 4],\n",
       "                                        'min_samples_split': [2, 5, 10],\n",
       "                                        'n_estimators': [10, 50, 200, 400, 600,\n",
       "                                                         800, 1000, 1200, 1400,\n",
       "                                                         1600, 1800, 2000],\n",
       "                                        'random_state': [1701]},\n",
       "                   random_state=1701)"
      ]
     },
     "execution_count": 39,
     "metadata": {},
     "output_type": "execute_result"
    }
   ],
   "source": [
    "rf_random.fit(X_train_scaled, y_train)"
   ]
  },
  {
   "cell_type": "code",
   "execution_count": 40,
   "id": "d44e6a46",
   "metadata": {},
   "outputs": [
    {
     "data": {
      "text/plain": [
       "{'random_state': 1701,\n",
       " 'n_estimators': 1600,\n",
       " 'min_samples_split': 2,\n",
       " 'min_samples_leaf': 1,\n",
       " 'max_features': 'auto',\n",
       " 'max_depth': 50,\n",
       " 'criterion': 'entropy',\n",
       " 'bootstrap': False}"
      ]
     },
     "execution_count": 40,
     "metadata": {},
     "output_type": "execute_result"
    }
   ],
   "source": [
    "rf_random.best_params_\n"
   ]
  },
  {
   "cell_type": "code",
   "execution_count": 41,
   "id": "e3866b44",
   "metadata": {},
   "outputs": [],
   "source": [
    "rf_random_best = RandomForestClassifier(n_estimators = 1600, min_samples_split = 2, min_samples_leaf = 1, max_features = 'auto', \n",
    "                                        max_depth =50, criterion = 'entropy', bootstrap = False, random_state = 1701)"
   ]
  },
  {
   "cell_type": "code",
   "execution_count": 42,
   "id": "5fb6d381",
   "metadata": {},
   "outputs": [
    {
     "data": {
      "text/html": [
       "<style>#sk-container-id-2 {color: black;background-color: white;}#sk-container-id-2 pre{padding: 0;}#sk-container-id-2 div.sk-toggleable {background-color: white;}#sk-container-id-2 label.sk-toggleable__label {cursor: pointer;display: block;width: 100%;margin-bottom: 0;padding: 0.3em;box-sizing: border-box;text-align: center;}#sk-container-id-2 label.sk-toggleable__label-arrow:before {content: \"▸\";float: left;margin-right: 0.25em;color: #696969;}#sk-container-id-2 label.sk-toggleable__label-arrow:hover:before {color: black;}#sk-container-id-2 div.sk-estimator:hover label.sk-toggleable__label-arrow:before {color: black;}#sk-container-id-2 div.sk-toggleable__content {max-height: 0;max-width: 0;overflow: hidden;text-align: left;background-color: #f0f8ff;}#sk-container-id-2 div.sk-toggleable__content pre {margin: 0.2em;color: black;border-radius: 0.25em;background-color: #f0f8ff;}#sk-container-id-2 input.sk-toggleable__control:checked~div.sk-toggleable__content {max-height: 200px;max-width: 100%;overflow: auto;}#sk-container-id-2 input.sk-toggleable__control:checked~label.sk-toggleable__label-arrow:before {content: \"▾\";}#sk-container-id-2 div.sk-estimator input.sk-toggleable__control:checked~label.sk-toggleable__label {background-color: #d4ebff;}#sk-container-id-2 div.sk-label input.sk-toggleable__control:checked~label.sk-toggleable__label {background-color: #d4ebff;}#sk-container-id-2 input.sk-hidden--visually {border: 0;clip: rect(1px 1px 1px 1px);clip: rect(1px, 1px, 1px, 1px);height: 1px;margin: -1px;overflow: hidden;padding: 0;position: absolute;width: 1px;}#sk-container-id-2 div.sk-estimator {font-family: monospace;background-color: #f0f8ff;border: 1px dotted black;border-radius: 0.25em;box-sizing: border-box;margin-bottom: 0.5em;}#sk-container-id-2 div.sk-estimator:hover {background-color: #d4ebff;}#sk-container-id-2 div.sk-parallel-item::after {content: \"\";width: 100%;border-bottom: 1px solid gray;flex-grow: 1;}#sk-container-id-2 div.sk-label:hover label.sk-toggleable__label {background-color: #d4ebff;}#sk-container-id-2 div.sk-serial::before {content: \"\";position: absolute;border-left: 1px solid gray;box-sizing: border-box;top: 0;bottom: 0;left: 50%;z-index: 0;}#sk-container-id-2 div.sk-serial {display: flex;flex-direction: column;align-items: center;background-color: white;padding-right: 0.2em;padding-left: 0.2em;position: relative;}#sk-container-id-2 div.sk-item {position: relative;z-index: 1;}#sk-container-id-2 div.sk-parallel {display: flex;align-items: stretch;justify-content: center;background-color: white;position: relative;}#sk-container-id-2 div.sk-item::before, #sk-container-id-2 div.sk-parallel-item::before {content: \"\";position: absolute;border-left: 1px solid gray;box-sizing: border-box;top: 0;bottom: 0;left: 50%;z-index: -1;}#sk-container-id-2 div.sk-parallel-item {display: flex;flex-direction: column;z-index: 1;position: relative;background-color: white;}#sk-container-id-2 div.sk-parallel-item:first-child::after {align-self: flex-end;width: 50%;}#sk-container-id-2 div.sk-parallel-item:last-child::after {align-self: flex-start;width: 50%;}#sk-container-id-2 div.sk-parallel-item:only-child::after {width: 0;}#sk-container-id-2 div.sk-dashed-wrapped {border: 1px dashed gray;margin: 0 0.4em 0.5em 0.4em;box-sizing: border-box;padding-bottom: 0.4em;background-color: white;}#sk-container-id-2 div.sk-label label {font-family: monospace;font-weight: bold;display: inline-block;line-height: 1.2em;}#sk-container-id-2 div.sk-label-container {text-align: center;}#sk-container-id-2 div.sk-container {/* jupyter's `normalize.less` sets `[hidden] { display: none; }` but bootstrap.min.css set `[hidden] { display: none !important; }` so we also need the `!important` here to be able to override the default hidden behavior on the sphinx rendered scikit-learn.org. See: https://github.com/scikit-learn/scikit-learn/issues/21755 */display: inline-block !important;position: relative;}#sk-container-id-2 div.sk-text-repr-fallback {display: none;}</style><div id=\"sk-container-id-2\" class=\"sk-top-container\"><div class=\"sk-text-repr-fallback\"><pre>RandomForestClassifier(bootstrap=False, criterion=&#x27;entropy&#x27;, max_depth=50,\n",
       "                       max_features=&#x27;auto&#x27;, n_estimators=1600,\n",
       "                       random_state=1701)</pre><b>In a Jupyter environment, please rerun this cell to show the HTML representation or trust the notebook. <br />On GitHub, the HTML representation is unable to render, please try loading this page with nbviewer.org.</b></div><div class=\"sk-container\" hidden><div class=\"sk-item\"><div class=\"sk-estimator sk-toggleable\"><input class=\"sk-toggleable__control sk-hidden--visually\" id=\"sk-estimator-id-4\" type=\"checkbox\" checked><label for=\"sk-estimator-id-4\" class=\"sk-toggleable__label sk-toggleable__label-arrow\">RandomForestClassifier</label><div class=\"sk-toggleable__content\"><pre>RandomForestClassifier(bootstrap=False, criterion=&#x27;entropy&#x27;, max_depth=50,\n",
       "                       max_features=&#x27;auto&#x27;, n_estimators=1600,\n",
       "                       random_state=1701)</pre></div></div></div></div></div>"
      ],
      "text/plain": [
       "RandomForestClassifier(bootstrap=False, criterion='entropy', max_depth=50,\n",
       "                       max_features='auto', n_estimators=1600,\n",
       "                       random_state=1701)"
      ]
     },
     "execution_count": 42,
     "metadata": {},
     "output_type": "execute_result"
    }
   ],
   "source": [
    "rf_random_best.fit(X_train_scaled, y_train)"
   ]
  },
  {
   "cell_type": "code",
   "execution_count": 43,
   "id": "e067542d",
   "metadata": {},
   "outputs": [
    {
     "name": "stdout",
     "output_type": "stream",
     "text": [
      "score on test: 0.9279907084785134\n",
      "score on train: 1.0\n"
     ]
    }
   ],
   "source": [
    "print(\"score on test: \" + str(rf_random_best.score(X_test_scaled, y_test)))\n",
    "print(\"score on train: \"+ str(rf_random_best.score(X_train_scaled, y_train)))\n"
   ]
  },
  {
   "cell_type": "code",
   "execution_count": 44,
   "id": "8f7d1756",
   "metadata": {},
   "outputs": [],
   "source": [
    "y_pred_test_clf_rf = rf_random_best.predict(X_test_scaled)\n",
    "y_pred_train_clf_rf = rf_random_best.predict(X_train_scaled)"
   ]
  },
  {
   "cell_type": "code",
   "execution_count": 45,
   "id": "a72e682e",
   "metadata": {},
   "outputs": [
    {
     "data": {
      "text/plain": [
       "<sklearn.metrics._plot.confusion_matrix.ConfusionMatrixDisplay at 0x1ec3ae46d10>"
      ]
     },
     "execution_count": 45,
     "metadata": {},
     "output_type": "execute_result"
    },
    {
     "data": {
      "image/png": "[encoded data removed]",
      "text/plain": [
       "<Figure size 640x480 with 2 Axes>"
      ]
     },
     "metadata": {},
     "output_type": "display_data"
    }
   ],
   "source": [
    "cm = confusion_matrix(y_test, y_pred_test_clf_rf, labels = rf_random_best.classes_)\n",
    "_, ax = plt.subplots()\n",
    "display_cm = ConfusionMatrixDisplay(confusion_matrix = cm, \n",
    "                                    display_labels = ['fake', 'real'])\n",
    "ax.set_xticks([0, 1])\n",
    "ax.set_yticks([0, 1])\n",
    "ax.set_xticklabels(labels = ['fake', 'real'], fontsize = 8)\n",
    "ax.set_yticklabels(labels = ['fake', 'real'], fontsize = 8)\n",
    "display_cm.plot(ax = ax)"
   ]
  },
  {
   "cell_type": "code",
   "execution_count": 46,
   "id": "073ab708",
   "metadata": {},
   "outputs": [
    {
     "name": "stdout",
     "output_type": "stream",
     "text": [
      "              precision    recall  f1-score   support\n",
      "\n",
      "           0       0.91      0.87      0.89      7047\n",
      "           1       0.93      0.96      0.95     13617\n",
      "\n",
      "    accuracy                           0.93     20664\n",
      "   macro avg       0.92      0.91      0.92     20664\n",
      "weighted avg       0.93      0.93      0.93     20664\n",
      "\n"
     ]
    }
   ],
   "source": [
    "print(classification_report(y_test, y_pred_test_clf_rf))"
   ]
  },
  {
   "cell_type": "code",
   "execution_count": 47,
   "id": "4fd30858",
   "metadata": {},
   "outputs": [],
   "source": [
    "importances = rf_random_best.feature_importances_"
   ]
  },
  {
   "cell_type": "code",
   "execution_count": 48,
   "id": "3311b479",
   "metadata": {},
   "outputs": [],
   "source": [
    "rf_importances = pd.Series(importances, index = X_test_scaled.columns)\n",
    "rf_importances = rf_importances.sort_values(ascending = False)"
   ]
  },
  {
   "cell_type": "code",
   "execution_count": 49,
   "id": "7b3174c1",
   "metadata": {},
   "outputs": [
    {
     "data": {
      "text/plain": [
       "TFIDF_said          0.092597\n",
       "TFIDF_reuters       0.072212\n",
       "TFIDF_featured      0.045571\n",
       "TFIDF_image         0.040396\n",
       "TFIDF_com           0.016159\n",
       "TFIDF_hillary       0.014674\n",
       "TFIDF_just          0.014212\n",
       "TFIDF_tuesday       0.011694\n",
       "dc_score            0.011116\n",
       "TFIDF_thursday      0.011088\n",
       "TFIDF_watch         0.009549\n",
       "TFIDF_minister      0.009532\n",
       "TFIDF_wednesday     0.009011\n",
       "cl_score            0.008937\n",
       "TFIDF_monday        0.008899\n",
       "TFIDF_president     0.008817\n",
       "dw_score            0.008661\n",
       "TFIDF_friday        0.008484\n",
       "TFIDF_fact          0.008231\n",
       "char_count          0.008071\n",
       "TFIDF_read          0.007804\n",
       "letter_count        0.007786\n",
       "syllable_count      0.007687\n",
       "word_count          0.007668\n",
       "monosyllab_count    0.007451\n",
       "TFIDF_video         0.007303\n",
       "fe_score            0.006919\n",
       "ari_score           0.006654\n",
       "gf_score            0.006472\n",
       "TFIDF_mr            0.006252\n",
       "TFIDF_know          0.006242\n",
       "TFIDF_like          0.006186\n",
       "TFIDF_donald        0.006143\n",
       "sentence_count      0.006004\n",
       "polysyllab_count    0.005797\n",
       "fk_score            0.005669\n",
       "TFIDF_told          0.005364\n",
       "TFIDF_spokesman     0.005281\n",
       "TFIDF_america       0.004911\n",
       "TFIDF_clinton       0.004851\n",
       "ls_score            0.004757\n",
       "TFIDF_republican    0.004721\n",
       "TFIDF_state         0.004465\n",
       "std_score_num       0.004460\n",
       "TFIDF_actually      0.004391\n",
       "TFIDF_trump         0.004312\n",
       "TFIDF_october       0.004193\n",
       "TFIDF_month         0.004186\n",
       "TFIDF_twitter       0.004110\n",
       "TFIDF_leader        0.003877\n",
       "dtype: float64"
      ]
     },
     "execution_count": 49,
     "metadata": {},
     "output_type": "execute_result"
    }
   ],
   "source": [
    "rf_importances.head(50)"
   ]
  },
  {
   "cell_type": "code",
   "execution_count": 50,
   "id": "0ca23cc5",
   "metadata": {},
   "outputs": [
    {
     "data": {
      "image/png": "[encoded data removed]",
      "text/plain": [
       "<Figure size 640x480 with 1 Axes>"
      ]
     },
     "metadata": {},
     "output_type": "display_data"
    }
   ],
   "source": [
    "y_pred_proba_rf = rf_random_best.predict_proba(X_test_scaled)[::,1]\n",
    "fpr_rf, tpr_rf, _ = metrics.roc_curve(y_test,  y_pred_proba_rf)\n",
    "plt.plot(fpr_rf, tpr_rf, label=\" AUC TEST =\"+str(auc(fpr_rf, tpr_rf)))\n",
    "plt.legend()\n",
    "plt.xlabel(\"False Positive Rate\")\n",
    "plt.ylabel(\"True Positive Rate\")\n",
    "plt.title(\"AUC(ROC curve)\")\n",
    "plt.show()"
   ]
  },
  {
   "cell_type": "code",
   "execution_count": 51,
   "id": "890161ec",
   "metadata": {},
   "outputs": [
    {
     "name": "stdout",
     "output_type": "stream",
     "text": [
      "score on test: 0.914730933023616\n",
      "score on train: 0.9215841264720116\n"
     ]
    }
   ],
   "source": [
    "svm=LinearSVC()\n",
    "svm.fit(X_train_scaled, y_train)\n",
    "print(\"score on test: \" + str(svm.score(X_test_scaled, y_test)))\n",
    "print(\"score on train: \"+ str(svm.score(X_train_scaled, y_train)))"
   ]
  },
  {
   "cell_type": "code",
   "execution_count": 52,
   "id": "33b8b909",
   "metadata": {},
   "outputs": [],
   "source": [
    "param_grid = { \n",
    "    \"C\": np.logspace(0,5,7),\n",
    "    \"penalty\":['l1','l2'],\n",
    "    \"loss\": ['hinge', 'squared_hinge'],\n",
    "    \"dual\": [False],\n",
    "    \"random_state\": [1701]\n",
    "    }"
   ]
  },
  {
   "cell_type": "code",
   "execution_count": 53,
   "id": "a5960585",
   "metadata": {},
   "outputs": [],
   "source": [
    "clf_svm = GridSearchCV(estimator=svm, \n",
    "                           param_grid=param_grid, \n",
    "                           scoring='accuracy', \n",
    "                           refit='accuracy', \n",
    "                           cv=3)\n",
    "\n"
   ]
  },
  {
   "cell_type": "code",
   "execution_count": 54,
   "id": "95b5196a",
   "metadata": {},
   "outputs": [
    {
     "data": {
      "text/html": [
       "<style>#sk-container-id-3 {color: black;background-color: white;}#sk-container-id-3 pre{padding: 0;}#sk-container-id-3 div.sk-toggleable {background-color: white;}#sk-container-id-3 label.sk-toggleable__label {cursor: pointer;display: block;width: 100%;margin-bottom: 0;padding: 0.3em;box-sizing: border-box;text-align: center;}#sk-container-id-3 label.sk-toggleable__label-arrow:before {content: \"▸\";float: left;margin-right: 0.25em;color: #696969;}#sk-container-id-3 label.sk-toggleable__label-arrow:hover:before {color: black;}#sk-container-id-3 div.sk-estimator:hover label.sk-toggleable__label-arrow:before {color: black;}#sk-container-id-3 div.sk-toggleable__content {max-height: 0;max-width: 0;overflow: hidden;text-align: left;background-color: #f0f8ff;}#sk-container-id-3 div.sk-toggleable__content pre {margin: 0.2em;color: black;border-radius: 0.25em;background-color: #f0f8ff;}#sk-container-id-3 input.sk-toggleable__control:checked~div.sk-toggleable__content {max-height: 200px;max-width: 100%;overflow: auto;}#sk-container-id-3 input.sk-toggleable__control:checked~label.sk-toggleable__label-arrow:before {content: \"▾\";}#sk-container-id-3 div.sk-estimator input.sk-toggleable__control:checked~label.sk-toggleable__label {background-color: #d4ebff;}#sk-container-id-3 div.sk-label input.sk-toggleable__control:checked~label.sk-toggleable__label {background-color: #d4ebff;}#sk-container-id-3 input.sk-hidden--visually {border: 0;clip: rect(1px 1px 1px 1px);clip: rect(1px, 1px, 1px, 1px);height: 1px;margin: -1px;overflow: hidden;padding: 0;position: absolute;width: 1px;}#sk-container-id-3 div.sk-estimator {font-family: monospace;background-color: #f0f8ff;border: 1px dotted black;border-radius: 0.25em;box-sizing: border-box;margin-bottom: 0.5em;}#sk-container-id-3 div.sk-estimator:hover {background-color: #d4ebff;}#sk-container-id-3 div.sk-parallel-item::after {content: \"\";width: 100%;border-bottom: 1px solid gray;flex-grow: 1;}#sk-container-id-3 div.sk-label:hover label.sk-toggleable__label {background-color: #d4ebff;}#sk-container-id-3 div.sk-serial::before {content: \"\";position: absolute;border-left: 1px solid gray;box-sizing: border-box;top: 0;bottom: 0;left: 50%;z-index: 0;}#sk-container-id-3 div.sk-serial {display: flex;flex-direction: column;align-items: center;background-color: white;padding-right: 0.2em;padding-left: 0.2em;position: relative;}#sk-container-id-3 div.sk-item {position: relative;z-index: 1;}#sk-container-id-3 div.sk-parallel {display: flex;align-items: stretch;justify-content: center;background-color: white;position: relative;}#sk-container-id-3 div.sk-item::before, #sk-container-id-3 div.sk-parallel-item::before {content: \"\";position: absolute;border-left: 1px solid gray;box-sizing: border-box;top: 0;bottom: 0;left: 50%;z-index: -1;}#sk-container-id-3 div.sk-parallel-item {display: flex;flex-direction: column;z-index: 1;position: relative;background-color: white;}#sk-container-id-3 div.sk-parallel-item:first-child::after {align-self: flex-end;width: 50%;}#sk-container-id-3 div.sk-parallel-item:last-child::after {align-self: flex-start;width: 50%;}#sk-container-id-3 div.sk-parallel-item:only-child::after {width: 0;}#sk-container-id-3 div.sk-dashed-wrapped {border: 1px dashed gray;margin: 0 0.4em 0.5em 0.4em;box-sizing: border-box;padding-bottom: 0.4em;background-color: white;}#sk-container-id-3 div.sk-label label {font-family: monospace;font-weight: bold;display: inline-block;line-height: 1.2em;}#sk-container-id-3 div.sk-label-container {text-align: center;}#sk-container-id-3 div.sk-container {/* jupyter's `normalize.less` sets `[hidden] { display: none; }` but bootstrap.min.css set `[hidden] { display: none !important; }` so we also need the `!important` here to be able to override the default hidden behavior on the sphinx rendered scikit-learn.org. See: https://github.com/scikit-learn/scikit-learn/issues/21755 */display: inline-block !important;position: relative;}#sk-container-id-3 div.sk-text-repr-fallback {display: none;}</style><div id=\"sk-container-id-3\" class=\"sk-top-container\"><div class=\"sk-text-repr-fallback\"><pre>GridSearchCV(cv=3, estimator=LinearSVC(),\n",
       "             param_grid={&#x27;C&#x27;: array([1.00000000e+00, 6.81292069e+00, 4.64158883e+01, 3.16227766e+02,\n",
       "       2.15443469e+03, 1.46779927e+04, 1.00000000e+05]),\n",
       "                         &#x27;dual&#x27;: [False], &#x27;loss&#x27;: [&#x27;hinge&#x27;, &#x27;squared_hinge&#x27;],\n",
       "                         &#x27;penalty&#x27;: [&#x27;l1&#x27;, &#x27;l2&#x27;], &#x27;random_state&#x27;: [1701]},\n",
       "             refit=&#x27;accuracy&#x27;, scoring=&#x27;accuracy&#x27;)</pre><b>In a Jupyter environment, please rerun this cell to show the HTML representation or trust the notebook. <br />On GitHub, the HTML representation is unable to render, please try loading this page with nbviewer.org.</b></div><div class=\"sk-container\" hidden><div class=\"sk-item sk-dashed-wrapped\"><div class=\"sk-label-container\"><div class=\"sk-label sk-toggleable\"><input class=\"sk-toggleable__control sk-hidden--visually\" id=\"sk-estimator-id-5\" type=\"checkbox\" ><label for=\"sk-estimator-id-5\" class=\"sk-toggleable__label sk-toggleable__label-arrow\">GridSearchCV</label><div class=\"sk-toggleable__content\"><pre>GridSearchCV(cv=3, estimator=LinearSVC(),\n",
       "             param_grid={&#x27;C&#x27;: array([1.00000000e+00, 6.81292069e+00, 4.64158883e+01, 3.16227766e+02,\n",
       "       2.15443469e+03, 1.46779927e+04, 1.00000000e+05]),\n",
       "                         &#x27;dual&#x27;: [False], &#x27;loss&#x27;: [&#x27;hinge&#x27;, &#x27;squared_hinge&#x27;],\n",
       "                         &#x27;penalty&#x27;: [&#x27;l1&#x27;, &#x27;l2&#x27;], &#x27;random_state&#x27;: [1701]},\n",
       "             refit=&#x27;accuracy&#x27;, scoring=&#x27;accuracy&#x27;)</pre></div></div></div><div class=\"sk-parallel\"><div class=\"sk-parallel-item\"><div class=\"sk-item\"><div class=\"sk-label-container\"><div class=\"sk-label sk-toggleable\"><input class=\"sk-toggleable__control sk-hidden--visually\" id=\"sk-estimator-id-6\" type=\"checkbox\" ><label for=\"sk-estimator-id-6\" class=\"sk-toggleable__label sk-toggleable__label-arrow\">estimator: LinearSVC</label><div class=\"sk-toggleable__content\"><pre>LinearSVC()</pre></div></div></div><div class=\"sk-serial\"><div class=\"sk-item\"><div class=\"sk-estimator sk-toggleable\"><input class=\"sk-toggleable__control sk-hidden--visually\" id=\"sk-estimator-id-7\" type=\"checkbox\" ><label for=\"sk-estimator-id-7\" class=\"sk-toggleable__label sk-toggleable__label-arrow\">LinearSVC</label><div class=\"sk-toggleable__content\"><pre>LinearSVC()</pre></div></div></div></div></div></div></div></div></div></div>"
      ],
      "text/plain": [
       "GridSearchCV(cv=3, estimator=LinearSVC(),\n",
       "             param_grid={'C': array([1.00000000e+00, 6.81292069e+00, 4.64158883e+01, 3.16227766e+02,\n",
       "       2.15443469e+03, 1.46779927e+04, 1.00000000e+05]),\n",
       "                         'dual': [False], 'loss': ['hinge', 'squared_hinge'],\n",
       "                         'penalty': ['l1', 'l2'], 'random_state': [1701]},\n",
       "             refit='accuracy', scoring='accuracy')"
      ]
     },
     "execution_count": 54,
     "metadata": {},
     "output_type": "execute_result"
    }
   ],
   "source": [
    "clf_svm.fit(X_train_scaled, y_train)"
   ]
  },
  {
   "cell_type": "code",
   "execution_count": 55,
   "id": "84e269fa",
   "metadata": {},
   "outputs": [
    {
     "data": {
      "text/plain": [
       "{'C': 14677.992676220705,\n",
       " 'dual': False,\n",
       " 'loss': 'squared_hinge',\n",
       " 'penalty': 'l2',\n",
       " 'random_state': 1701}"
      ]
     },
     "execution_count": 55,
     "metadata": {},
     "output_type": "execute_result"
    }
   ],
   "source": [
    "clf_svm.best_params_"
   ]
  },
  {
   "cell_type": "code",
   "execution_count": 56,
   "id": "a3a8d97e",
   "metadata": {},
   "outputs": [],
   "source": [
    "best_params = {\n",
    "    'C': 14677.992676220705,\n",
    "     'dual': False,\n",
    "     'loss': 'squared_hinge',\n",
    "     'penalty': 'l2',\n",
    "     'random_state': 1701}\n"
   ]
  },
  {
   "cell_type": "code",
   "execution_count": 57,
   "id": "57bcdfac",
   "metadata": {},
   "outputs": [],
   "source": [
    "clf_svm_best = LinearSVC(C = 14677.992676220705, dual = False, loss = 'squared_hinge', penalty = 'l2', random_state = 1701)"
   ]
  },
  {
   "cell_type": "code",
   "execution_count": 58,
   "id": "adabee29",
   "metadata": {},
   "outputs": [
    {
     "data": {
      "text/html": [
       "<style>#sk-container-id-4 {color: black;background-color: white;}#sk-container-id-4 pre{padding: 0;}#sk-container-id-4 div.sk-toggleable {background-color: white;}#sk-container-id-4 label.sk-toggleable__label {cursor: pointer;display: block;width: 100%;margin-bottom: 0;padding: 0.3em;box-sizing: border-box;text-align: center;}#sk-container-id-4 label.sk-toggleable__label-arrow:before {content: \"▸\";float: left;margin-right: 0.25em;color: #696969;}#sk-container-id-4 label.sk-toggleable__label-arrow:hover:before {color: black;}#sk-container-id-4 div.sk-estimator:hover label.sk-toggleable__label-arrow:before {color: black;}#sk-container-id-4 div.sk-toggleable__content {max-height: 0;max-width: 0;overflow: hidden;text-align: left;background-color: #f0f8ff;}#sk-container-id-4 div.sk-toggleable__content pre {margin: 0.2em;color: black;border-radius: 0.25em;background-color: #f0f8ff;}#sk-container-id-4 input.sk-toggleable__control:checked~div.sk-toggleable__content {max-height: 200px;max-width: 100%;overflow: auto;}#sk-container-id-4 input.sk-toggleable__control:checked~label.sk-toggleable__label-arrow:before {content: \"▾\";}#sk-container-id-4 div.sk-estimator input.sk-toggleable__control:checked~label.sk-toggleable__label {background-color: #d4ebff;}#sk-container-id-4 div.sk-label input.sk-toggleable__control:checked~label.sk-toggleable__label {background-color: #d4ebff;}#sk-container-id-4 input.sk-hidden--visually {border: 0;clip: rect(1px 1px 1px 1px);clip: rect(1px, 1px, 1px, 1px);height: 1px;margin: -1px;overflow: hidden;padding: 0;position: absolute;width: 1px;}#sk-container-id-4 div.sk-estimator {font-family: monospace;background-color: #f0f8ff;border: 1px dotted black;border-radius: 0.25em;box-sizing: border-box;margin-bottom: 0.5em;}#sk-container-id-4 div.sk-estimator:hover {background-color: #d4ebff;}#sk-container-id-4 div.sk-parallel-item::after {content: \"\";width: 100%;border-bottom: 1px solid gray;flex-grow: 1;}#sk-container-id-4 div.sk-label:hover label.sk-toggleable__label {background-color: #d4ebff;}#sk-container-id-4 div.sk-serial::before {content: \"\";position: absolute;border-left: 1px solid gray;box-sizing: border-box;top: 0;bottom: 0;left: 50%;z-index: 0;}#sk-container-id-4 div.sk-serial {display: flex;flex-direction: column;align-items: center;background-color: white;padding-right: 0.2em;padding-left: 0.2em;position: relative;}#sk-container-id-4 div.sk-item {position: relative;z-index: 1;}#sk-container-id-4 div.sk-parallel {display: flex;align-items: stretch;justify-content: center;background-color: white;position: relative;}#sk-container-id-4 div.sk-item::before, #sk-container-id-4 div.sk-parallel-item::before {content: \"\";position: absolute;border-left: 1px solid gray;box-sizing: border-box;top: 0;bottom: 0;left: 50%;z-index: -1;}#sk-container-id-4 div.sk-parallel-item {display: flex;flex-direction: column;z-index: 1;position: relative;background-color: white;}#sk-container-id-4 div.sk-parallel-item:first-child::after {align-self: flex-end;width: 50%;}#sk-container-id-4 div.sk-parallel-item:last-child::after {align-self: flex-start;width: 50%;}#sk-container-id-4 div.sk-parallel-item:only-child::after {width: 0;}#sk-container-id-4 div.sk-dashed-wrapped {border: 1px dashed gray;margin: 0 0.4em 0.5em 0.4em;box-sizing: border-box;padding-bottom: 0.4em;background-color: white;}#sk-container-id-4 div.sk-label label {font-family: monospace;font-weight: bold;display: inline-block;line-height: 1.2em;}#sk-container-id-4 div.sk-label-container {text-align: center;}#sk-container-id-4 div.sk-container {/* jupyter's `normalize.less` sets `[hidden] { display: none; }` but bootstrap.min.css set `[hidden] { display: none !important; }` so we also need the `!important` here to be able to override the default hidden behavior on the sphinx rendered scikit-learn.org. See: https://github.com/scikit-learn/scikit-learn/issues/21755 */display: inline-block !important;position: relative;}#sk-container-id-4 div.sk-text-repr-fallback {display: none;}</style><div id=\"sk-container-id-4\" class=\"sk-top-container\"><div class=\"sk-text-repr-fallback\"><pre>LinearSVC(C=14677.992676220705, dual=False, random_state=1701)</pre><b>In a Jupyter environment, please rerun this cell to show the HTML representation or trust the notebook. <br />On GitHub, the HTML representation is unable to render, please try loading this page with nbviewer.org.</b></div><div class=\"sk-container\" hidden><div class=\"sk-item\"><div class=\"sk-estimator sk-toggleable\"><input class=\"sk-toggleable__control sk-hidden--visually\" id=\"sk-estimator-id-8\" type=\"checkbox\" checked><label for=\"sk-estimator-id-8\" class=\"sk-toggleable__label sk-toggleable__label-arrow\">LinearSVC</label><div class=\"sk-toggleable__content\"><pre>LinearSVC(C=14677.992676220705, dual=False, random_state=1701)</pre></div></div></div></div></div>"
      ],
      "text/plain": [
       "LinearSVC(C=14677.992676220705, dual=False, random_state=1701)"
      ]
     },
     "execution_count": 58,
     "metadata": {},
     "output_type": "execute_result"
    }
   ],
   "source": [
    "clf_svm_best.fit(X_train_scaled, y_train)"
   ]
  },
  {
   "cell_type": "code",
   "execution_count": 59,
   "id": "d6584299",
   "metadata": {},
   "outputs": [
    {
     "name": "stdout",
     "output_type": "stream",
     "text": [
      "score on test: 0.9242644212156407\n",
      "score on train: 0.9317147927085013\n"
     ]
    }
   ],
   "source": [
    "print(\"score on test: \" + str(clf_svm_best.score(X_test_scaled, y_test)))\n",
    "print(\"score on train: \"+ str(clf_svm_best.score(X_train_scaled, y_train)))"
   ]
  },
  {
   "cell_type": "code",
   "execution_count": 60,
   "id": "d73339e9",
   "metadata": {},
   "outputs": [],
   "source": [
    "y_pred_test_clf_svm = clf_svm_best.predict(X_test_scaled)\n",
    "y_pred_train_clf_svm = clf_svm_best.predict(X_train_scaled)"
   ]
  },
  {
   "cell_type": "code",
   "execution_count": 61,
   "id": "43ddf6c6",
   "metadata": {},
   "outputs": [
    {
     "data": {
      "text/plain": [
       "<sklearn.metrics._plot.confusion_matrix.ConfusionMatrixDisplay at 0x1ec3afb2a40>"
      ]
     },
     "execution_count": 61,
     "metadata": {},
     "output_type": "execute_result"
    },
    {
     "data": {
      "image/png": "[encoded data removed]",
      "text/plain": [
       "<Figure size 640x480 with 2 Axes>"
      ]
     },
     "metadata": {},
     "output_type": "display_data"
    }
   ],
   "source": [
    "cm = confusion_matrix(y_test, y_pred_test_clf_svm, labels = rf_random_best.classes_)\n",
    "_, ax = plt.subplots()\n",
    "display_cm = ConfusionMatrixDisplay(confusion_matrix = cm, \n",
    "                                    display_labels = ['fake', 'real'])\n",
    "ax.set_xticks([0, 1])\n",
    "ax.set_yticks([0, 1])\n",
    "ax.set_xticklabels(labels = ['fake', 'real'], fontsize = 8)\n",
    "ax.set_yticklabels(labels = ['fake', 'real'], fontsize = 8)\n",
    "display_cm.plot(ax = ax)"
   ]
  },
  {
   "cell_type": "code",
   "execution_count": 62,
   "id": "50672eb1",
   "metadata": {},
   "outputs": [
    {
     "name": "stdout",
     "output_type": "stream",
     "text": [
      "              precision    recall  f1-score   support\n",
      "\n",
      "           0       0.90      0.88      0.89      7047\n",
      "           1       0.94      0.95      0.94     13617\n",
      "\n",
      "    accuracy                           0.92     20664\n",
      "   macro avg       0.92      0.91      0.92     20664\n",
      "weighted avg       0.92      0.92      0.92     20664\n",
      "\n"
     ]
    }
   ],
   "source": [
    "print(classification_report(y_test, y_pred_test_clf_svm))"
   ]
  },
  {
   "cell_type": "code",
   "execution_count": 63,
   "id": "6a2e0f13",
   "metadata": {},
   "outputs": [],
   "source": [
    "fpr_svm, tpr_svm, te_thresholds = roc_curve(y_test, y_pred_test_clf_svm)"
   ]
  },
  {
   "cell_type": "code",
   "execution_count": 64,
   "id": "ef82ed70",
   "metadata": {},
   "outputs": [
    {
     "data": {
      "image/png": "[encoded data removed]",
      "text/plain": [
       "<Figure size 640x480 with 1 Axes>"
      ]
     },
     "metadata": {},
     "output_type": "display_data"
    }
   ],
   "source": [
    "plt.plot(fpr_svm, tpr_svm, label=\" AUC TEST =\"+str(auc(fpr_svm, tpr_svm)))\n",
    "plt.legend()\n",
    "plt.xlabel(\"False Positive Rate\")\n",
    "plt.ylabel(\"True Positive Rate\")\n",
    "plt.title(\"AUC(ROC curve)\")\n",
    "plt.show()"
   ]
  },
  {
   "cell_type": "code",
   "execution_count": 65,
   "id": "ffbdfbd5",
   "metadata": {},
   "outputs": [
    {
     "data": {
      "text/html": [
       "<style>#sk-container-id-5 {color: black;background-color: white;}#sk-container-id-5 pre{padding: 0;}#sk-container-id-5 div.sk-toggleable {background-color: white;}#sk-container-id-5 label.sk-toggleable__label {cursor: pointer;display: block;width: 100%;margin-bottom: 0;padding: 0.3em;box-sizing: border-box;text-align: center;}#sk-container-id-5 label.sk-toggleable__label-arrow:before {content: \"▸\";float: left;margin-right: 0.25em;color: #696969;}#sk-container-id-5 label.sk-toggleable__label-arrow:hover:before {color: black;}#sk-container-id-5 div.sk-estimator:hover label.sk-toggleable__label-arrow:before {color: black;}#sk-container-id-5 div.sk-toggleable__content {max-height: 0;max-width: 0;overflow: hidden;text-align: left;background-color: #f0f8ff;}#sk-container-id-5 div.sk-toggleable__content pre {margin: 0.2em;color: black;border-radius: 0.25em;background-color: #f0f8ff;}#sk-container-id-5 input.sk-toggleable__control:checked~div.sk-toggleable__content {max-height: 200px;max-width: 100%;overflow: auto;}#sk-container-id-5 input.sk-toggleable__control:checked~label.sk-toggleable__label-arrow:before {content: \"▾\";}#sk-container-id-5 div.sk-estimator input.sk-toggleable__control:checked~label.sk-toggleable__label {background-color: #d4ebff;}#sk-container-id-5 div.sk-label input.sk-toggleable__control:checked~label.sk-toggleable__label {background-color: #d4ebff;}#sk-container-id-5 input.sk-hidden--visually {border: 0;clip: rect(1px 1px 1px 1px);clip: rect(1px, 1px, 1px, 1px);height: 1px;margin: -1px;overflow: hidden;padding: 0;position: absolute;width: 1px;}#sk-container-id-5 div.sk-estimator {font-family: monospace;background-color: #f0f8ff;border: 1px dotted black;border-radius: 0.25em;box-sizing: border-box;margin-bottom: 0.5em;}#sk-container-id-5 div.sk-estimator:hover {background-color: #d4ebff;}#sk-container-id-5 div.sk-parallel-item::after {content: \"\";width: 100%;border-bottom: 1px solid gray;flex-grow: 1;}#sk-container-id-5 div.sk-label:hover label.sk-toggleable__label {background-color: #d4ebff;}#sk-container-id-5 div.sk-serial::before {content: \"\";position: absolute;border-left: 1px solid gray;box-sizing: border-box;top: 0;bottom: 0;left: 50%;z-index: 0;}#sk-container-id-5 div.sk-serial {display: flex;flex-direction: column;align-items: center;background-color: white;padding-right: 0.2em;padding-left: 0.2em;position: relative;}#sk-container-id-5 div.sk-item {position: relative;z-index: 1;}#sk-container-id-5 div.sk-parallel {display: flex;align-items: stretch;justify-content: center;background-color: white;position: relative;}#sk-container-id-5 div.sk-item::before, #sk-container-id-5 div.sk-parallel-item::before {content: \"\";position: absolute;border-left: 1px solid gray;box-sizing: border-box;top: 0;bottom: 0;left: 50%;z-index: -1;}#sk-container-id-5 div.sk-parallel-item {display: flex;flex-direction: column;z-index: 1;position: relative;background-color: white;}#sk-container-id-5 div.sk-parallel-item:first-child::after {align-self: flex-end;width: 50%;}#sk-container-id-5 div.sk-parallel-item:last-child::after {align-self: flex-start;width: 50%;}#sk-container-id-5 div.sk-parallel-item:only-child::after {width: 0;}#sk-container-id-5 div.sk-dashed-wrapped {border: 1px dashed gray;margin: 0 0.4em 0.5em 0.4em;box-sizing: border-box;padding-bottom: 0.4em;background-color: white;}#sk-container-id-5 div.sk-label label {font-family: monospace;font-weight: bold;display: inline-block;line-height: 1.2em;}#sk-container-id-5 div.sk-label-container {text-align: center;}#sk-container-id-5 div.sk-container {/* jupyter's `normalize.less` sets `[hidden] { display: none; }` but bootstrap.min.css set `[hidden] { display: none !important; }` so we also need the `!important` here to be able to override the default hidden behavior on the sphinx rendered scikit-learn.org. See: https://github.com/scikit-learn/scikit-learn/issues/21755 */display: inline-block !important;position: relative;}#sk-container-id-5 div.sk-text-repr-fallback {display: none;}</style><div id=\"sk-container-id-5\" class=\"sk-top-container\"><div class=\"sk-text-repr-fallback\"><pre>VotingClassifier(estimators=[(&#x27;clf_lr&#x27;,\n",
       "                              LogisticRegression(C=1000, solver=&#x27;newton-cg&#x27;)),\n",
       "                             (&#x27;rf_random_best&#x27;,\n",
       "                              RandomForestClassifier(bootstrap=False,\n",
       "                                                     criterion=&#x27;entropy&#x27;,\n",
       "                                                     max_depth=50,\n",
       "                                                     max_features=&#x27;auto&#x27;,\n",
       "                                                     n_estimators=1600,\n",
       "                                                     random_state=1701)),\n",
       "                             (&#x27;clf_svm&#x27;,\n",
       "                              LinearSVC(C=14677.992676220705, dual=False,\n",
       "                                        random_state=1701))])</pre><b>In a Jupyter environment, please rerun this cell to show the HTML representation or trust the notebook. <br />On GitHub, the HTML representation is unable to render, please try loading this page with nbviewer.org.</b></div><div class=\"sk-container\" hidden><div class=\"sk-item sk-dashed-wrapped\"><div class=\"sk-label-container\"><div class=\"sk-label sk-toggleable\"><input class=\"sk-toggleable__control sk-hidden--visually\" id=\"sk-estimator-id-9\" type=\"checkbox\" ><label for=\"sk-estimator-id-9\" class=\"sk-toggleable__label sk-toggleable__label-arrow\">VotingClassifier</label><div class=\"sk-toggleable__content\"><pre>VotingClassifier(estimators=[(&#x27;clf_lr&#x27;,\n",
       "                              LogisticRegression(C=1000, solver=&#x27;newton-cg&#x27;)),\n",
       "                             (&#x27;rf_random_best&#x27;,\n",
       "                              RandomForestClassifier(bootstrap=False,\n",
       "                                                     criterion=&#x27;entropy&#x27;,\n",
       "                                                     max_depth=50,\n",
       "                                                     max_features=&#x27;auto&#x27;,\n",
       "                                                     n_estimators=1600,\n",
       "                                                     random_state=1701)),\n",
       "                             (&#x27;clf_svm&#x27;,\n",
       "                              LinearSVC(C=14677.992676220705, dual=False,\n",
       "                                        random_state=1701))])</pre></div></div></div><div class=\"sk-parallel\"><div class=\"sk-parallel-item\"><div class=\"sk-item\"><div class=\"sk-label-container\"><div class=\"sk-label sk-toggleable\"><label>clf_lr</label></div></div><div class=\"sk-serial\"><div class=\"sk-item\"><div class=\"sk-estimator sk-toggleable\"><input class=\"sk-toggleable__control sk-hidden--visually\" id=\"sk-estimator-id-10\" type=\"checkbox\" ><label for=\"sk-estimator-id-10\" class=\"sk-toggleable__label sk-toggleable__label-arrow\">LogisticRegression</label><div class=\"sk-toggleable__content\"><pre>LogisticRegression(C=1000, solver=&#x27;newton-cg&#x27;)</pre></div></div></div></div></div></div><div class=\"sk-parallel-item\"><div class=\"sk-item\"><div class=\"sk-label-container\"><div class=\"sk-label sk-toggleable\"><label>rf_random_best</label></div></div><div class=\"sk-serial\"><div class=\"sk-item\"><div class=\"sk-estimator sk-toggleable\"><input class=\"sk-toggleable__control sk-hidden--visually\" id=\"sk-estimator-id-11\" type=\"checkbox\" ><label for=\"sk-estimator-id-11\" class=\"sk-toggleable__label sk-toggleable__label-arrow\">RandomForestClassifier</label><div class=\"sk-toggleable__content\"><pre>RandomForestClassifier(bootstrap=False, criterion=&#x27;entropy&#x27;, max_depth=50,\n",
       "                       max_features=&#x27;auto&#x27;, n_estimators=1600,\n",
       "                       random_state=1701)</pre></div></div></div></div></div></div><div class=\"sk-parallel-item\"><div class=\"sk-item\"><div class=\"sk-label-container\"><div class=\"sk-label sk-toggleable\"><label>clf_svm</label></div></div><div class=\"sk-serial\"><div class=\"sk-item\"><div class=\"sk-estimator sk-toggleable\"><input class=\"sk-toggleable__control sk-hidden--visually\" id=\"sk-estimator-id-12\" type=\"checkbox\" ><label for=\"sk-estimator-id-12\" class=\"sk-toggleable__label sk-toggleable__label-arrow\">LinearSVC</label><div class=\"sk-toggleable__content\"><pre>LinearSVC(C=14677.992676220705, dual=False, random_state=1701)</pre></div></div></div></div></div></div></div></div></div></div>"
      ],
      "text/plain": [
       "VotingClassifier(estimators=[('clf_lr',\n",
       "                              LogisticRegression(C=1000, solver='newton-cg')),\n",
       "                             ('rf_random_best',\n",
       "                              RandomForestClassifier(bootstrap=False,\n",
       "                                                     criterion='entropy',\n",
       "                                                     max_depth=50,\n",
       "                                                     max_features='auto',\n",
       "                                                     n_estimators=1600,\n",
       "                                                     random_state=1701)),\n",
       "                             ('clf_svm',\n",
       "                              LinearSVC(C=14677.992676220705, dual=False,\n",
       "                                        random_state=1701))])"
      ]
     },
     "execution_count": 65,
     "metadata": {},
     "output_type": "execute_result"
    }
   ],
   "source": [
    "evc=VotingClassifier(estimators=[('clf_lr',clf_lr),('rf_random_best',rf_random_best),('clf_svm',clf_svm_best)],voting='hard')\n",
    "evc.fit(X_train_scaled, y_train)\n"
   ]
  },
  {
   "cell_type": "code",
   "execution_count": 66,
   "id": "59136ac0",
   "metadata": {},
   "outputs": [
    {
     "name": "stdout",
     "output_type": "stream",
     "text": [
      "score on test: 0.9253774680603949\n",
      "score on train: 0.9341668010969512\n"
     ]
    }
   ],
   "source": [
    "print(\"score on test: \" + str(evc.score(X_test_scaled, y_test)))\n",
    "print(\"score on train: \"+ str(evc.score(X_train_scaled, y_train)))"
   ]
  },
  {
   "cell_type": "code",
   "execution_count": 67,
   "id": "fcc975bd",
   "metadata": {},
   "outputs": [],
   "source": [
    "y_pred_test_clf_evc = clf_svm_best.predict(X_test_scaled)\n",
    "y_pred_train_clf_evc = clf_svm_best.predict(X_train_scaled)"
   ]
  },
  {
   "cell_type": "code",
   "execution_count": 69,
   "id": "f769635a",
   "metadata": {},
   "outputs": [
    {
     "name": "stdout",
     "output_type": "stream",
     "text": [
      "              precision    recall  f1-score   support\n",
      "\n",
      "           0       0.90      0.88      0.89      7047\n",
      "           1       0.94      0.95      0.94     13617\n",
      "\n",
      "    accuracy                           0.92     20664\n",
      "   macro avg       0.92      0.91      0.92     20664\n",
      "weighted avg       0.92      0.92      0.92     20664\n",
      "\n"
     ]
    }
   ],
   "source": [
    "print(classification_report(y_test, y_pred_test_clf_evc))"
   ]
  },
  {
   "cell_type": "code",
   "execution_count": 70,
   "id": "7b617c7f",
   "metadata": {},
   "outputs": [
    {
     "data": {
      "text/plain": [
       "<sklearn.metrics._plot.confusion_matrix.ConfusionMatrixDisplay at 0x1ec3b184130>"
      ]
     },
     "execution_count": 70,
     "metadata": {},
     "output_type": "execute_result"
    },
    {
     "data": {
      "image/png": "[encoded data removed]",
      "text/plain": [
       "<Figure size 640x480 with 2 Axes>"
      ]
     },
     "metadata": {},
     "output_type": "display_data"
    }
   ],
   "source": [
    "cm = confusion_matrix(y_test, y_pred_test_clf_evc, labels = rf_random_best.classes_)\n",
    "_, ax = plt.subplots()\n",
    "display_cm = ConfusionMatrixDisplay(confusion_matrix = cm, \n",
    "                                    display_labels = ['fake', 'real'])\n",
    "ax.set_title('Confusion Matrix: Threshold =.5')\n",
    "ax.set_xticks([0, 1])\n",
    "ax.set_yticks([0, 1])\n",
    "ax.set_xticklabels(labels = ['fake', 'real'], fontsize = 8)\n",
    "ax.set_yticklabels(labels = ['fake', 'real'], fontsize = 8)\n",
    "display_cm.plot(ax = ax)"
   ]
  },
  {
   "cell_type": "code",
   "execution_count": 71,
   "id": "16412b53",
   "metadata": {},
   "outputs": [
    {
     "name": "stdout",
     "output_type": "stream",
     "text": [
      "              precision    recall  f1-score   support\n",
      "\n",
      "           0       0.90      0.88      0.89      7047\n",
      "           1       0.94      0.95      0.94     13617\n",
      "\n",
      "    accuracy                           0.92     20664\n",
      "   macro avg       0.92      0.91      0.92     20664\n",
      "weighted avg       0.92      0.92      0.92     20664\n",
      "\n"
     ]
    }
   ],
   "source": [
    "print(classification_report(y_test, y_pred_test_clf_svm))"
   ]
  },
  {
   "cell_type": "code",
   "execution_count": 73,
   "id": "a4a5207c",
   "metadata": {},
   "outputs": [
    {
     "data": {
      "image/png": "[encoded data removed]",
      "text/plain": [
       "<Figure size 640x480 with 1 Axes>"
      ]
     },
     "metadata": {},
     "output_type": "display_data"
    }
   ],
   "source": [
    "plt.plot(fpr_lr, tpr_lr, label=\" Logistic Regression AUC TEST =\"+str(auc(fpr_lr, tpr_lr)))\n",
    "plt.plot(fpr_rf, tpr_rf, label=\" Random Forest AUC TEST =\"+str(auc(fpr_rf, tpr_rf)))\n",
    "plt.plot(fpr_svm, tpr_svm, label=\" LinearSVC AUC TEST =\"+str(auc(fpr_svm, tpr_svm)))\n",
    "plt.legend()\n",
    "plt.xlabel(\"False Positive Rate\")\n",
    "plt.ylabel(\"True Positive Rate\")\n",
    "plt.title(\"AUC(ROC curve)\")\n",
    "plt.show()"
   ]
  },
  {
   "cell_type": "code",
   "execution_count": 74,
   "id": "b30bcef9",
   "metadata": {},
   "outputs": [],
   "source": [
    "y_pred_thresh = (rf_random_best.predict_proba(X_test_scaled)[:, 1] > .35).astype('float')\n"
   ]
  },
  {
   "cell_type": "code",
   "execution_count": 75,
   "id": "62246c9a",
   "metadata": {},
   "outputs": [
    {
     "data": {
      "text/plain": [
       "<sklearn.metrics._plot.confusion_matrix.ConfusionMatrixDisplay at 0x1ec3af9b6a0>"
      ]
     },
     "execution_count": 75,
     "metadata": {},
     "output_type": "execute_result"
    },
    {
     "data": {
      "image/png": "[encoded data removed]",
      "text/plain": [
       "<Figure size 640x480 with 2 Axes>"
      ]
     },
     "metadata": {},
     "output_type": "display_data"
    }
   ],
   "source": [
    "cm = confusion_matrix(y_test, y_pred_thresh, labels = rf_random_best.classes_)\n",
    "_, ax = plt.subplots()\n",
    "display_cm = ConfusionMatrixDisplay(confusion_matrix = cm, \n",
    "                                    display_labels = ['fake', 'real'])\n",
    "ax.set_title('Confusion Matrix: Threshold =.35')\n",
    "ax.set_xticks([0, 1])\n",
    "ax.set_yticks([0, 1])\n",
    "ax.set_xticklabels(labels = ['fake', 'real'], fontsize = 8)\n",
    "ax.set_yticklabels(labels = ['fake', 'real'], fontsize = 8)\n",
    "display_cm.plot(ax = ax)"
   ]
  },
  {
   "cell_type": "code",
   "execution_count": 76,
   "id": "a7b64264",
   "metadata": {},
   "outputs": [
    {
     "name": "stdout",
     "output_type": "stream",
     "text": [
      "              precision    recall  f1-score   support\n",
      "\n",
      "           0       0.97      0.74      0.84      7047\n",
      "           1       0.88      0.99      0.93     13617\n",
      "\n",
      "    accuracy                           0.90     20664\n",
      "   macro avg       0.93      0.86      0.89     20664\n",
      "weighted avg       0.91      0.90      0.90     20664\n",
      "\n"
     ]
    }
   ],
   "source": [
    "print(classification_report(y_test, y_pred_thresh))"
   ]
  },
  {
   "cell_type": "code",
   "execution_count": 77,
   "id": "cb015f02",
   "metadata": {},
   "outputs": [
    {
     "data": {
      "image/png": "[encoded data removed]",
      "text/plain": [
       "<Figure size 640x480 with 1 Axes>"
      ]
     },
     "metadata": {},
     "output_type": "display_data"
    },
    {
     "data": {
      "image/png": "[encoded data removed]",
      "text/plain": [
       "<Figure size 640x480 with 1 Axes>"
      ]
     },
     "metadata": {},
     "output_type": "display_data"
    }
   ],
   "source": [
    "display_rf = PrecisionRecallDisplay.from_predictions(y_test, y_pred_proba_rf, name = 'Random Forest')\n",
    "display_lr = PrecisionRecallDisplay.from_predictions(y_test, y_pred_proba_lr, name = 'Logistic Regression')\n",
    "\n",
    "_ = display_rf.ax_.set_title(\"Random Forest Precision-Recall curve\")\n",
    "_ = display_lr.ax_.set_title(\"Logistic Regression Precision-Recall curve\")"
   ]
  },
  {
   "cell_type": "code",
   "execution_count": null,
   "id": "87028d59",
   "metadata": {},
   "outputs": [],
   "source": []
  }
 ],
 "metadata": {
  "kernelspec": {
   "display_name": "Python 3 (ipykernel)",
   "language": "python",
   "name": "python3"
  },
  "language_info": {
   "codemirror_mode": {
    "name": "ipython",
    "version": 3
   },
   "file_extension": ".py",
   "mimetype": "text/x-python",
   "name": "python",
   "nbconvert_exporter": "python",
   "pygments_lexer": "ipython3",
   "version": "3.10.9"
  }
 },
 "nbformat": 4,
 "nbformat_minor": 5
}
