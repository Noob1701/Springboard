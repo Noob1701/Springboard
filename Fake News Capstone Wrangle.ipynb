{
 "cells": [
  {
   "cell_type": "code",
   "execution_count": 1,
   "id": "9eb264ff",
   "metadata": {},
   "outputs": [],
   "source": [
    "import numpy as np\n",
    "import matplotlib.pyplot as plt\n",
    "import pandas as pd\n",
    "from functools import reduce\n",
    "from sklearn.feature_extraction.text import TfidfVectorizer\n",
    "from scipy.sparse import csr_matrix\n",
    "import sparse_dot_topn.sparse_dot_topn as ct\n",
    "import ftfy\n",
    "import re\n"
   ]
  },
  {
   "cell_type": "code",
   "execution_count": 2,
   "id": "ac53de51",
   "metadata": {},
   "outputs": [],
   "source": [
    "#First three datasets come from https://www.kaggle.com/datasets/stevenpeutz/misinformation-fake-news-text-dataset-79k"
   ]
  },
  {
   "cell_type": "code",
   "execution_count": 3,
   "id": "f7283cee",
   "metadata": {},
   "outputs": [],
   "source": [
    "fn1 = pd.read_csv('DataSet_Misinfo_FAKE.csv', index_col=0)"
   ]
  },
  {
   "cell_type": "code",
   "execution_count": 4,
   "id": "954c9e22",
   "metadata": {},
   "outputs": [
    {
     "data": {
      "text/html": [
       "<div>\n",
       "<style scoped>\n",
       "    .dataframe tbody tr th:only-of-type {\n",
       "        vertical-align: middle;\n",
       "    }\n",
       "\n",
       "    .dataframe tbody tr th {\n",
       "        vertical-align: top;\n",
       "    }\n",
       "\n",
       "    .dataframe thead th {\n",
       "        text-align: right;\n",
       "    }\n",
       "</style>\n",
       "<table border=\"1\" class=\"dataframe\">\n",
       "  <thead>\n",
       "    <tr style=\"text-align: right;\">\n",
       "      <th></th>\n",
       "      <th>text</th>\n",
       "    </tr>\n",
       "  </thead>\n",
       "  <tbody>\n",
       "    <tr>\n",
       "      <th>0</th>\n",
       "      <td>Donald Trump just couldn t wish all Americans ...</td>\n",
       "    </tr>\n",
       "    <tr>\n",
       "      <th>1</th>\n",
       "      <td>House Intelligence Committee Chairman Devin Nu...</td>\n",
       "    </tr>\n",
       "    <tr>\n",
       "      <th>2</th>\n",
       "      <td>On Friday, it was revealed that former Milwauk...</td>\n",
       "    </tr>\n",
       "    <tr>\n",
       "      <th>3</th>\n",
       "      <td>On Christmas day, Donald Trump announced that ...</td>\n",
       "    </tr>\n",
       "    <tr>\n",
       "      <th>4</th>\n",
       "      <td>Pope Francis used his annual Christmas Day mes...</td>\n",
       "    </tr>\n",
       "  </tbody>\n",
       "</table>\n",
       "</div>"
      ],
      "text/plain": [
       "                                                text\n",
       "0  Donald Trump just couldn t wish all Americans ...\n",
       "1  House Intelligence Committee Chairman Devin Nu...\n",
       "2  On Friday, it was revealed that former Milwauk...\n",
       "3  On Christmas day, Donald Trump announced that ...\n",
       "4  Pope Francis used his annual Christmas Day mes..."
      ]
     },
     "execution_count": 4,
     "metadata": {},
     "output_type": "execute_result"
    }
   ],
   "source": [
    "fn1.head()"
   ]
  },
  {
   "cell_type": "code",
   "execution_count": 5,
   "id": "77855222",
   "metadata": {},
   "outputs": [],
   "source": [
    "#Adding a column to label it as real news or fake news as the datasets themselves were not labeled excpt for filename"
   ]
  },
  {
   "cell_type": "code",
   "execution_count": 6,
   "id": "8aee02af",
   "metadata": {
    "scrolled": true
   },
   "outputs": [],
   "source": [
    "fn1['real'] = 0"
   ]
  },
  {
   "cell_type": "code",
   "execution_count": 7,
   "id": "99c634fd",
   "metadata": {
    "scrolled": true
   },
   "outputs": [
    {
     "data": {
      "text/html": [
       "<div>\n",
       "<style scoped>\n",
       "    .dataframe tbody tr th:only-of-type {\n",
       "        vertical-align: middle;\n",
       "    }\n",
       "\n",
       "    .dataframe tbody tr th {\n",
       "        vertical-align: top;\n",
       "    }\n",
       "\n",
       "    .dataframe thead th {\n",
       "        text-align: right;\n",
       "    }\n",
       "</style>\n",
       "<table border=\"1\" class=\"dataframe\">\n",
       "  <thead>\n",
       "    <tr style=\"text-align: right;\">\n",
       "      <th></th>\n",
       "      <th>text</th>\n",
       "      <th>real</th>\n",
       "    </tr>\n",
       "  </thead>\n",
       "  <tbody>\n",
       "    <tr>\n",
       "      <th>0</th>\n",
       "      <td>Donald Trump just couldn t wish all Americans ...</td>\n",
       "      <td>0</td>\n",
       "    </tr>\n",
       "    <tr>\n",
       "      <th>1</th>\n",
       "      <td>House Intelligence Committee Chairman Devin Nu...</td>\n",
       "      <td>0</td>\n",
       "    </tr>\n",
       "  </tbody>\n",
       "</table>\n",
       "</div>"
      ],
      "text/plain": [
       "                                                text  real\n",
       "0  Donald Trump just couldn t wish all Americans ...     0\n",
       "1  House Intelligence Committee Chairman Devin Nu...     0"
      ]
     },
     "execution_count": 7,
     "metadata": {},
     "output_type": "execute_result"
    }
   ],
   "source": [
    "fn1.head(2)"
   ]
  },
  {
   "cell_type": "code",
   "execution_count": 8,
   "id": "8738ff46",
   "metadata": {},
   "outputs": [
    {
     "data": {
      "text/plain": [
       "'Donald Trump just couldn t wish all Americans a Happy New Year and leave it at that. Instead, he had to give a shout out to his enemies, haters and  the very dishonest fake news media.  The former reality show star had just one job to do and he couldn t do it. As our Country rapidly grows stronger a'"
      ]
     },
     "execution_count": 8,
     "metadata": {},
     "output_type": "execute_result"
    }
   ],
   "source": [
    "fn1['text'][0][:300]"
   ]
  },
  {
   "cell_type": "code",
   "execution_count": 9,
   "id": "b9399332",
   "metadata": {},
   "outputs": [],
   "source": [
    "tn1 = pd.read_csv('DataSet_Misinfo_TRUE.csv', index_col=0)"
   ]
  },
  {
   "cell_type": "code",
   "execution_count": 10,
   "id": "a46a870d",
   "metadata": {},
   "outputs": [
    {
     "data": {
      "text/html": [
       "<div>\n",
       "<style scoped>\n",
       "    .dataframe tbody tr th:only-of-type {\n",
       "        vertical-align: middle;\n",
       "    }\n",
       "\n",
       "    .dataframe tbody tr th {\n",
       "        vertical-align: top;\n",
       "    }\n",
       "\n",
       "    .dataframe thead th {\n",
       "        text-align: right;\n",
       "    }\n",
       "</style>\n",
       "<table border=\"1\" class=\"dataframe\">\n",
       "  <thead>\n",
       "    <tr style=\"text-align: right;\">\n",
       "      <th></th>\n",
       "      <th>text</th>\n",
       "    </tr>\n",
       "  </thead>\n",
       "  <tbody>\n",
       "    <tr>\n",
       "      <th>0</th>\n",
       "      <td>The head of a conservative Republican faction ...</td>\n",
       "    </tr>\n",
       "    <tr>\n",
       "      <th>1</th>\n",
       "      <td>Transgender people will be allowed for the fir...</td>\n",
       "    </tr>\n",
       "  </tbody>\n",
       "</table>\n",
       "</div>"
      ],
      "text/plain": [
       "                                                text\n",
       "0  The head of a conservative Republican faction ...\n",
       "1  Transgender people will be allowed for the fir..."
      ]
     },
     "execution_count": 10,
     "metadata": {},
     "output_type": "execute_result"
    }
   ],
   "source": [
    "tn1.head(2)"
   ]
  },
  {
   "cell_type": "code",
   "execution_count": 11,
   "id": "0a63e73b",
   "metadata": {},
   "outputs": [],
   "source": [
    "tn1['real'] = 1"
   ]
  },
  {
   "cell_type": "code",
   "execution_count": 12,
   "id": "24ba1258",
   "metadata": {},
   "outputs": [
    {
     "data": {
      "text/html": [
       "<div>\n",
       "<style scoped>\n",
       "    .dataframe tbody tr th:only-of-type {\n",
       "        vertical-align: middle;\n",
       "    }\n",
       "\n",
       "    .dataframe tbody tr th {\n",
       "        vertical-align: top;\n",
       "    }\n",
       "\n",
       "    .dataframe thead th {\n",
       "        text-align: right;\n",
       "    }\n",
       "</style>\n",
       "<table border=\"1\" class=\"dataframe\">\n",
       "  <thead>\n",
       "    <tr style=\"text-align: right;\">\n",
       "      <th></th>\n",
       "      <th>text</th>\n",
       "      <th>real</th>\n",
       "    </tr>\n",
       "  </thead>\n",
       "  <tbody>\n",
       "    <tr>\n",
       "      <th>0</th>\n",
       "      <td>The head of a conservative Republican faction ...</td>\n",
       "      <td>1</td>\n",
       "    </tr>\n",
       "    <tr>\n",
       "      <th>1</th>\n",
       "      <td>Transgender people will be allowed for the fir...</td>\n",
       "      <td>1</td>\n",
       "    </tr>\n",
       "  </tbody>\n",
       "</table>\n",
       "</div>"
      ],
      "text/plain": [
       "                                                text  real\n",
       "0  The head of a conservative Republican faction ...     1\n",
       "1  Transgender people will be allowed for the fir...     1"
      ]
     },
     "execution_count": 12,
     "metadata": {},
     "output_type": "execute_result"
    }
   ],
   "source": [
    "tn1.head(2)"
   ]
  },
  {
   "cell_type": "code",
   "execution_count": 13,
   "id": "02a68845",
   "metadata": {},
   "outputs": [
    {
     "data": {
      "text/plain": [
       "'The head of a conservative Republican faction in the U.S. Congress, who voted this month for a huge expansion of the national debt to pay for tax cuts, called himself a “fiscal conservative” on Sunday and urged budget restraint in 2018. In keeping with a sharp pivot under way among Republicans, U.S.'"
      ]
     },
     "execution_count": 13,
     "metadata": {},
     "output_type": "execute_result"
    }
   ],
   "source": [
    "tn1['text'][0][:300]"
   ]
  },
  {
   "cell_type": "code",
   "execution_count": 14,
   "id": "44338dd4",
   "metadata": {},
   "outputs": [],
   "source": [
    "rus_news = pd.read_csv('EXTRA_RussianPropagandaSubset.csv', index_col=0)"
   ]
  },
  {
   "cell_type": "code",
   "execution_count": 15,
   "id": "c7c54256",
   "metadata": {},
   "outputs": [
    {
     "data": {
      "text/html": [
       "<div>\n",
       "<style scoped>\n",
       "    .dataframe tbody tr th:only-of-type {\n",
       "        vertical-align: middle;\n",
       "    }\n",
       "\n",
       "    .dataframe tbody tr th {\n",
       "        vertical-align: top;\n",
       "    }\n",
       "\n",
       "    .dataframe thead th {\n",
       "        text-align: right;\n",
       "    }\n",
       "</style>\n",
       "<table border=\"1\" class=\"dataframe\">\n",
       "  <thead>\n",
       "    <tr style=\"text-align: right;\">\n",
       "      <th></th>\n",
       "      <th>text</th>\n",
       "    </tr>\n",
       "  </thead>\n",
       "  <tbody>\n",
       "    <tr>\n",
       "      <th>0</th>\n",
       "      <td>Ukraine has put itself in a situation when ext...</td>\n",
       "    </tr>\n",
       "    <tr>\n",
       "      <th>1</th>\n",
       "      <td>Regardless who was behind the recent attack on...</td>\n",
       "    </tr>\n",
       "  </tbody>\n",
       "</table>\n",
       "</div>"
      ],
      "text/plain": [
       "                                                text\n",
       "0  Ukraine has put itself in a situation when ext...\n",
       "1  Regardless who was behind the recent attack on..."
      ]
     },
     "execution_count": 15,
     "metadata": {},
     "output_type": "execute_result"
    }
   ],
   "source": [
    "rus_news.head(2)"
   ]
  },
  {
   "cell_type": "code",
   "execution_count": 16,
   "id": "2d559501",
   "metadata": {},
   "outputs": [],
   "source": [
    "#Russian propaganda extra dataset from Kaggle, again fake and needs labelled"
   ]
  },
  {
   "cell_type": "code",
   "execution_count": 17,
   "id": "428c628c",
   "metadata": {},
   "outputs": [],
   "source": [
    "rus_news['real'] = 0"
   ]
  },
  {
   "cell_type": "code",
   "execution_count": 18,
   "id": "5aaa7893",
   "metadata": {},
   "outputs": [
    {
     "data": {
      "text/html": [
       "<div>\n",
       "<style scoped>\n",
       "    .dataframe tbody tr th:only-of-type {\n",
       "        vertical-align: middle;\n",
       "    }\n",
       "\n",
       "    .dataframe tbody tr th {\n",
       "        vertical-align: top;\n",
       "    }\n",
       "\n",
       "    .dataframe thead th {\n",
       "        text-align: right;\n",
       "    }\n",
       "</style>\n",
       "<table border=\"1\" class=\"dataframe\">\n",
       "  <thead>\n",
       "    <tr style=\"text-align: right;\">\n",
       "      <th></th>\n",
       "      <th>text</th>\n",
       "      <th>real</th>\n",
       "    </tr>\n",
       "  </thead>\n",
       "  <tbody>\n",
       "    <tr>\n",
       "      <th>0</th>\n",
       "      <td>Ukraine has put itself in a situation when ext...</td>\n",
       "      <td>0</td>\n",
       "    </tr>\n",
       "    <tr>\n",
       "      <th>1</th>\n",
       "      <td>Regardless who was behind the recent attack on...</td>\n",
       "      <td>0</td>\n",
       "    </tr>\n",
       "  </tbody>\n",
       "</table>\n",
       "</div>"
      ],
      "text/plain": [
       "                                                text  real\n",
       "0  Ukraine has put itself in a situation when ext...     0\n",
       "1  Regardless who was behind the recent attack on...     0"
      ]
     },
     "execution_count": 18,
     "metadata": {},
     "output_type": "execute_result"
    }
   ],
   "source": [
    "rus_news.head(2)"
   ]
  },
  {
   "cell_type": "code",
   "execution_count": 19,
   "id": "5f947b88",
   "metadata": {},
   "outputs": [
    {
     "data": {
      "text/plain": [
       "'Ukraine has put itself in a situation when external forces dictate how it should solve its internal problems. Kyiv expected that its Western allies will put pressure on Russia in the Normandy Four format. However, the allies realised that their confrontation with Russia will cost them more. Emmanuel'"
      ]
     },
     "execution_count": 19,
     "metadata": {},
     "output_type": "execute_result"
    }
   ],
   "source": [
    "rus_news['text'][0][:300]"
   ]
  },
  {
   "cell_type": "code",
   "execution_count": 20,
   "id": "ecc47b6a",
   "metadata": {},
   "outputs": [],
   "source": [
    "# Remaining datasets come from https://www.kaggle.com/datasets/emineyetm/fake-news-detection-datasets"
   ]
  },
  {
   "cell_type": "code",
   "execution_count": 21,
   "id": "8f93b5a4",
   "metadata": {},
   "outputs": [],
   "source": [
    "fn2 = pd.read_csv('FAKE.csv')"
   ]
  },
  {
   "cell_type": "code",
   "execution_count": 22,
   "id": "62733817",
   "metadata": {},
   "outputs": [
    {
     "data": {
      "text/html": [
       "<div>\n",
       "<style scoped>\n",
       "    .dataframe tbody tr th:only-of-type {\n",
       "        vertical-align: middle;\n",
       "    }\n",
       "\n",
       "    .dataframe tbody tr th {\n",
       "        vertical-align: top;\n",
       "    }\n",
       "\n",
       "    .dataframe thead th {\n",
       "        text-align: right;\n",
       "    }\n",
       "</style>\n",
       "<table border=\"1\" class=\"dataframe\">\n",
       "  <thead>\n",
       "    <tr style=\"text-align: right;\">\n",
       "      <th></th>\n",
       "      <th>title</th>\n",
       "      <th>text</th>\n",
       "      <th>subject</th>\n",
       "      <th>date</th>\n",
       "    </tr>\n",
       "  </thead>\n",
       "  <tbody>\n",
       "    <tr>\n",
       "      <th>0</th>\n",
       "      <td>Donald Trump Sends Out Embarrassing New Year’...</td>\n",
       "      <td>Donald Trump just couldn t wish all Americans ...</td>\n",
       "      <td>News</td>\n",
       "      <td>December 31, 2017</td>\n",
       "    </tr>\n",
       "    <tr>\n",
       "      <th>1</th>\n",
       "      <td>Drunk Bragging Trump Staffer Started Russian ...</td>\n",
       "      <td>House Intelligence Committee Chairman Devin Nu...</td>\n",
       "      <td>News</td>\n",
       "      <td>December 31, 2017</td>\n",
       "    </tr>\n",
       "  </tbody>\n",
       "</table>\n",
       "</div>"
      ],
      "text/plain": [
       "                                               title  \\\n",
       "0   Donald Trump Sends Out Embarrassing New Year’...   \n",
       "1   Drunk Bragging Trump Staffer Started Russian ...   \n",
       "\n",
       "                                                text subject  \\\n",
       "0  Donald Trump just couldn t wish all Americans ...    News   \n",
       "1  House Intelligence Committee Chairman Devin Nu...    News   \n",
       "\n",
       "                date  \n",
       "0  December 31, 2017  \n",
       "1  December 31, 2017  "
      ]
     },
     "execution_count": 22,
     "metadata": {},
     "output_type": "execute_result"
    }
   ],
   "source": [
    "fn2.head(2)"
   ]
  },
  {
   "cell_type": "code",
   "execution_count": 23,
   "id": "2237c460",
   "metadata": {},
   "outputs": [],
   "source": [
    "fn2['real'] = 0"
   ]
  },
  {
   "cell_type": "code",
   "execution_count": 24,
   "id": "3d2a8b6a",
   "metadata": {},
   "outputs": [
    {
     "data": {
      "text/html": [
       "<div>\n",
       "<style scoped>\n",
       "    .dataframe tbody tr th:only-of-type {\n",
       "        vertical-align: middle;\n",
       "    }\n",
       "\n",
       "    .dataframe tbody tr th {\n",
       "        vertical-align: top;\n",
       "    }\n",
       "\n",
       "    .dataframe thead th {\n",
       "        text-align: right;\n",
       "    }\n",
       "</style>\n",
       "<table border=\"1\" class=\"dataframe\">\n",
       "  <thead>\n",
       "    <tr style=\"text-align: right;\">\n",
       "      <th></th>\n",
       "      <th>title</th>\n",
       "      <th>text</th>\n",
       "      <th>subject</th>\n",
       "      <th>date</th>\n",
       "      <th>real</th>\n",
       "    </tr>\n",
       "  </thead>\n",
       "  <tbody>\n",
       "    <tr>\n",
       "      <th>0</th>\n",
       "      <td>Donald Trump Sends Out Embarrassing New Year’...</td>\n",
       "      <td>Donald Trump just couldn t wish all Americans ...</td>\n",
       "      <td>News</td>\n",
       "      <td>December 31, 2017</td>\n",
       "      <td>0</td>\n",
       "    </tr>\n",
       "    <tr>\n",
       "      <th>1</th>\n",
       "      <td>Drunk Bragging Trump Staffer Started Russian ...</td>\n",
       "      <td>House Intelligence Committee Chairman Devin Nu...</td>\n",
       "      <td>News</td>\n",
       "      <td>December 31, 2017</td>\n",
       "      <td>0</td>\n",
       "    </tr>\n",
       "  </tbody>\n",
       "</table>\n",
       "</div>"
      ],
      "text/plain": [
       "                                               title  \\\n",
       "0   Donald Trump Sends Out Embarrassing New Year’...   \n",
       "1   Drunk Bragging Trump Staffer Started Russian ...   \n",
       "\n",
       "                                                text subject  \\\n",
       "0  Donald Trump just couldn t wish all Americans ...    News   \n",
       "1  House Intelligence Committee Chairman Devin Nu...    News   \n",
       "\n",
       "                date  real  \n",
       "0  December 31, 2017     0  \n",
       "1  December 31, 2017     0  "
      ]
     },
     "execution_count": 24,
     "metadata": {},
     "output_type": "execute_result"
    }
   ],
   "source": [
    "fn2.head(2)"
   ]
  },
  {
   "cell_type": "code",
   "execution_count": 25,
   "id": "f4b9076b",
   "metadata": {},
   "outputs": [
    {
     "data": {
      "text/plain": [
       "False"
      ]
     },
     "execution_count": 25,
     "metadata": {},
     "output_type": "execute_result"
    }
   ],
   "source": [
    "fn2.isnull().values.any()"
   ]
  },
  {
   "cell_type": "code",
   "execution_count": 26,
   "id": "dac2b7a6",
   "metadata": {},
   "outputs": [],
   "source": [
    "#As datasets have close duplicates, These should be removed"
   ]
  },
  {
   "cell_type": "code",
   "execution_count": 27,
   "id": "1e4cb345",
   "metadata": {},
   "outputs": [
    {
     "data": {
      "text/plain": [
       "'Donald Trump just couldn t wish all Americans a Happy New Year and leave it at that. Instead, he had to give a shout out to his enemies, haters and  the very dishonest fake news media.  The former reality show star had just one job to do and he couldn t do it. As our Country rapidly grows stronger a'"
      ]
     },
     "execution_count": 27,
     "metadata": {},
     "output_type": "execute_result"
    }
   ],
   "source": [
    "fn2['text'][0][:300]"
   ]
  },
  {
   "cell_type": "code",
   "execution_count": 28,
   "id": "3b3ca99b",
   "metadata": {},
   "outputs": [],
   "source": [
    "tn2 = pd.read_csv('TRUE.csv')"
   ]
  },
  {
   "cell_type": "code",
   "execution_count": 29,
   "id": "74e35ce7",
   "metadata": {},
   "outputs": [
    {
     "data": {
      "text/html": [
       "<div>\n",
       "<style scoped>\n",
       "    .dataframe tbody tr th:only-of-type {\n",
       "        vertical-align: middle;\n",
       "    }\n",
       "\n",
       "    .dataframe tbody tr th {\n",
       "        vertical-align: top;\n",
       "    }\n",
       "\n",
       "    .dataframe thead th {\n",
       "        text-align: right;\n",
       "    }\n",
       "</style>\n",
       "<table border=\"1\" class=\"dataframe\">\n",
       "  <thead>\n",
       "    <tr style=\"text-align: right;\">\n",
       "      <th></th>\n",
       "      <th>title</th>\n",
       "      <th>text</th>\n",
       "      <th>subject</th>\n",
       "      <th>date</th>\n",
       "    </tr>\n",
       "  </thead>\n",
       "  <tbody>\n",
       "    <tr>\n",
       "      <th>0</th>\n",
       "      <td>As U.S. budget fight looms, Republicans flip t...</td>\n",
       "      <td>WASHINGTON (Reuters) - The head of a conservat...</td>\n",
       "      <td>politicsNews</td>\n",
       "      <td>December 31, 2017</td>\n",
       "    </tr>\n",
       "    <tr>\n",
       "      <th>1</th>\n",
       "      <td>U.S. military to accept transgender recruits o...</td>\n",
       "      <td>WASHINGTON (Reuters) - Transgender people will...</td>\n",
       "      <td>politicsNews</td>\n",
       "      <td>December 29, 2017</td>\n",
       "    </tr>\n",
       "  </tbody>\n",
       "</table>\n",
       "</div>"
      ],
      "text/plain": [
       "                                               title  \\\n",
       "0  As U.S. budget fight looms, Republicans flip t...   \n",
       "1  U.S. military to accept transgender recruits o...   \n",
       "\n",
       "                                                text       subject  \\\n",
       "0  WASHINGTON (Reuters) - The head of a conservat...  politicsNews   \n",
       "1  WASHINGTON (Reuters) - Transgender people will...  politicsNews   \n",
       "\n",
       "                 date  \n",
       "0  December 31, 2017   \n",
       "1  December 29, 2017   "
      ]
     },
     "execution_count": 29,
     "metadata": {},
     "output_type": "execute_result"
    }
   ],
   "source": [
    "tn2.head(2)"
   ]
  },
  {
   "cell_type": "code",
   "execution_count": 30,
   "id": "435635db",
   "metadata": {},
   "outputs": [],
   "source": [
    "tn2['real'] = 1"
   ]
  },
  {
   "cell_type": "code",
   "execution_count": 31,
   "id": "ddd64159",
   "metadata": {},
   "outputs": [
    {
     "data": {
      "text/html": [
       "<div>\n",
       "<style scoped>\n",
       "    .dataframe tbody tr th:only-of-type {\n",
       "        vertical-align: middle;\n",
       "    }\n",
       "\n",
       "    .dataframe tbody tr th {\n",
       "        vertical-align: top;\n",
       "    }\n",
       "\n",
       "    .dataframe thead th {\n",
       "        text-align: right;\n",
       "    }\n",
       "</style>\n",
       "<table border=\"1\" class=\"dataframe\">\n",
       "  <thead>\n",
       "    <tr style=\"text-align: right;\">\n",
       "      <th></th>\n",
       "      <th>title</th>\n",
       "      <th>text</th>\n",
       "      <th>subject</th>\n",
       "      <th>date</th>\n",
       "      <th>real</th>\n",
       "    </tr>\n",
       "  </thead>\n",
       "  <tbody>\n",
       "    <tr>\n",
       "      <th>0</th>\n",
       "      <td>As U.S. budget fight looms, Republicans flip t...</td>\n",
       "      <td>WASHINGTON (Reuters) - The head of a conservat...</td>\n",
       "      <td>politicsNews</td>\n",
       "      <td>December 31, 2017</td>\n",
       "      <td>1</td>\n",
       "    </tr>\n",
       "    <tr>\n",
       "      <th>1</th>\n",
       "      <td>U.S. military to accept transgender recruits o...</td>\n",
       "      <td>WASHINGTON (Reuters) - Transgender people will...</td>\n",
       "      <td>politicsNews</td>\n",
       "      <td>December 29, 2017</td>\n",
       "      <td>1</td>\n",
       "    </tr>\n",
       "  </tbody>\n",
       "</table>\n",
       "</div>"
      ],
      "text/plain": [
       "                                               title  \\\n",
       "0  As U.S. budget fight looms, Republicans flip t...   \n",
       "1  U.S. military to accept transgender recruits o...   \n",
       "\n",
       "                                                text       subject  \\\n",
       "0  WASHINGTON (Reuters) - The head of a conservat...  politicsNews   \n",
       "1  WASHINGTON (Reuters) - Transgender people will...  politicsNews   \n",
       "\n",
       "                 date  real  \n",
       "0  December 31, 2017      1  \n",
       "1  December 29, 2017      1  "
      ]
     },
     "execution_count": 31,
     "metadata": {},
     "output_type": "execute_result"
    }
   ],
   "source": [
    "tn2.head(2)"
   ]
  },
  {
   "cell_type": "code",
   "execution_count": 32,
   "id": "e07bab9c",
   "metadata": {},
   "outputs": [],
   "source": [
    "#Concerning that the datasets seem to have to first articles as nearly identical. "
   ]
  },
  {
   "cell_type": "code",
   "execution_count": 33,
   "id": "d1e69d89",
   "metadata": {},
   "outputs": [
    {
     "data": {
      "text/plain": [
       "'WASHINGTON (Reuters) - The head of a conservative Republican faction in the U.S. Congress, who voted this month for a huge expansion of the national debt to pay for tax cuts, called himself a “fiscal conservative” on Sunday and urged budget restraint in 2018. In keeping with a sharp pivot under way '"
      ]
     },
     "execution_count": 33,
     "metadata": {},
     "output_type": "execute_result"
    }
   ],
   "source": [
    "tn2['text'][0][:300]"
   ]
  },
  {
   "cell_type": "code",
   "execution_count": 34,
   "id": "045b2468",
   "metadata": {},
   "outputs": [],
   "source": [
    "#Combining the first three datasets as they have similar columns."
   ]
  },
  {
   "cell_type": "code",
   "execution_count": 35,
   "id": "264adf35",
   "metadata": {},
   "outputs": [],
   "source": [
    "news_df = reduce(lambda  left,right: pd.merge(left,right,on=['text', 'real'],\n",
    "                                            how='outer'), [fn1, tn1, rus_news])\n"
   ]
  },
  {
   "cell_type": "code",
   "execution_count": 36,
   "id": "5b418a0e",
   "metadata": {},
   "outputs": [],
   "source": [
    "#This checks the first three datasets for empty values. Surprisingly there are some. I will eliminate them"
   ]
  },
  {
   "cell_type": "code",
   "execution_count": 37,
   "id": "a8af2a51",
   "metadata": {},
   "outputs": [
    {
     "data": {
      "text/plain": [
       "True"
      ]
     },
     "execution_count": 37,
     "metadata": {},
     "output_type": "execute_result"
    }
   ],
   "source": [
    "news_df.isnull().values.any()"
   ]
  },
  {
   "cell_type": "code",
   "execution_count": 38,
   "id": "94f4b94c",
   "metadata": {},
   "outputs": [
    {
     "data": {
      "text/plain": [
       "text    32\n",
       "dtype: int64"
      ]
     },
     "execution_count": 38,
     "metadata": {},
     "output_type": "execute_result"
    }
   ],
   "source": [
    "null_counts = news_df.isnull().sum()\n",
    "null_counts[null_counts > 0].sort_values(ascending=False)"
   ]
  },
  {
   "cell_type": "code",
   "execution_count": 39,
   "id": "379bf788",
   "metadata": {},
   "outputs": [],
   "source": [
    "news_df.dropna(inplace = True)\n"
   ]
  },
  {
   "cell_type": "code",
   "execution_count": 40,
   "id": "706da882",
   "metadata": {},
   "outputs": [
    {
     "data": {
      "text/plain": [
       "False"
      ]
     },
     "execution_count": 40,
     "metadata": {},
     "output_type": "execute_result"
    }
   ],
   "source": [
    "news_df.isnull().values.any()"
   ]
  },
  {
   "cell_type": "code",
   "execution_count": 41,
   "id": "f4e305a7",
   "metadata": {},
   "outputs": [],
   "source": [
    "#Inserting these columns for ease of the reduce method of joining dataframes. "
   ]
  },
  {
   "cell_type": "code",
   "execution_count": 42,
   "id": "013cb691",
   "metadata": {},
   "outputs": [],
   "source": [
    "news_df['subject'] = np.nan\n",
    "news_df['title'] = np.nan\n",
    "news_df['date'] = np.nan"
   ]
  },
  {
   "cell_type": "code",
   "execution_count": 43,
   "id": "557850a3",
   "metadata": {},
   "outputs": [
    {
     "data": {
      "text/plain": [
       "True"
      ]
     },
     "execution_count": 43,
     "metadata": {},
     "output_type": "execute_result"
    }
   ],
   "source": [
    "news_df.isnull().values.any()"
   ]
  },
  {
   "cell_type": "code",
   "execution_count": 44,
   "id": "7e541ca9",
   "metadata": {},
   "outputs": [],
   "source": [
    "news_df = news_df.fillna('None')"
   ]
  },
  {
   "cell_type": "code",
   "execution_count": 45,
   "id": "a93afe6a",
   "metadata": {},
   "outputs": [],
   "source": [
    "#Combining all the data"
   ]
  },
  {
   "cell_type": "code",
   "execution_count": 46,
   "id": "c69ee3d2",
   "metadata": {},
   "outputs": [],
   "source": [
    "news_df = reduce(lambda  left,right: pd.merge(left,right,on=['text', 'real', 'subject', 'title', 'date'],\n",
    "                                            how='outer'), [news_df, tn2, fn2])"
   ]
  },
  {
   "cell_type": "code",
   "execution_count": 47,
   "id": "81b0a3c1",
   "metadata": {
    "scrolled": true
   },
   "outputs": [
    {
     "data": {
      "text/html": [
       "<div>\n",
       "<style scoped>\n",
       "    .dataframe tbody tr th:only-of-type {\n",
       "        vertical-align: middle;\n",
       "    }\n",
       "\n",
       "    .dataframe tbody tr th {\n",
       "        vertical-align: top;\n",
       "    }\n",
       "\n",
       "    .dataframe thead th {\n",
       "        text-align: right;\n",
       "    }\n",
       "</style>\n",
       "<table border=\"1\" class=\"dataframe\">\n",
       "  <thead>\n",
       "    <tr style=\"text-align: right;\">\n",
       "      <th></th>\n",
       "      <th>text</th>\n",
       "      <th>real</th>\n",
       "      <th>subject</th>\n",
       "      <th>title</th>\n",
       "      <th>date</th>\n",
       "    </tr>\n",
       "  </thead>\n",
       "  <tbody>\n",
       "    <tr>\n",
       "      <th>0</th>\n",
       "      <td>Donald Trump just couldn t wish all Americans ...</td>\n",
       "      <td>0</td>\n",
       "      <td>None</td>\n",
       "      <td>None</td>\n",
       "      <td>None</td>\n",
       "    </tr>\n",
       "    <tr>\n",
       "      <th>1</th>\n",
       "      <td>House Intelligence Committee Chairman Devin Nu...</td>\n",
       "      <td>0</td>\n",
       "      <td>None</td>\n",
       "      <td>None</td>\n",
       "      <td>None</td>\n",
       "    </tr>\n",
       "    <tr>\n",
       "      <th>2</th>\n",
       "      <td>On Friday, it was revealed that former Milwauk...</td>\n",
       "      <td>0</td>\n",
       "      <td>None</td>\n",
       "      <td>None</td>\n",
       "      <td>None</td>\n",
       "    </tr>\n",
       "    <tr>\n",
       "      <th>3</th>\n",
       "      <td>On Christmas day, Donald Trump announced that ...</td>\n",
       "      <td>0</td>\n",
       "      <td>None</td>\n",
       "      <td>None</td>\n",
       "      <td>None</td>\n",
       "    </tr>\n",
       "    <tr>\n",
       "      <th>4</th>\n",
       "      <td>Pope Francis used his annual Christmas Day mes...</td>\n",
       "      <td>0</td>\n",
       "      <td>None</td>\n",
       "      <td>None</td>\n",
       "      <td>None</td>\n",
       "    </tr>\n",
       "  </tbody>\n",
       "</table>\n",
       "</div>"
      ],
      "text/plain": [
       "                                                text  real subject title  date\n",
       "0  Donald Trump just couldn t wish all Americans ...     0    None  None  None\n",
       "1  House Intelligence Committee Chairman Devin Nu...     0    None  None  None\n",
       "2  On Friday, it was revealed that former Milwauk...     0    None  None  None\n",
       "3  On Christmas day, Donald Trump announced that ...     0    None  None  None\n",
       "4  Pope Francis used his annual Christmas Day mes...     0    None  None  None"
      ]
     },
     "execution_count": 47,
     "metadata": {},
     "output_type": "execute_result"
    }
   ],
   "source": [
    "news_df.head(5)"
   ]
  },
  {
   "cell_type": "code",
   "execution_count": 48,
   "id": "2731aa28",
   "metadata": {},
   "outputs": [],
   "source": [
    "#Obviously there are duplicates, what might be a good cut off to eliminate the duplicates. Also are the datasets basically the\n",
    "#same? Might be a limitation on Fake News training in general. \n",
    "#Partial was chosen as topics may be similar and reword certain ideas, but different news sources. "
   ]
  },
  {
   "cell_type": "code",
   "execution_count": 49,
   "id": "4f8a4d58",
   "metadata": {},
   "outputs": [],
   "source": [
    "#Traditional fuzzy matching was taking too long and \n",
    "#code adapted from https://towardsdatascience.com/fuzzy-matching-at-scale-84f2bfd0c536 and\n",
    "#https://bergvca.github.io/2017/10/14/super-fast-string-matching.html\n",
    "#citation for ftfy: Robyn Speer. (2021). ftfy (Version 6.0).\n"
   ]
  },
  {
   "cell_type": "code",
   "execution_count": 50,
   "id": "6f0f66e2",
   "metadata": {},
   "outputs": [],
   "source": [
    "def ngrams(string, n = 3):\n",
    "    string = ftfy.fix_text(string)\n",
    "    string = string.encode('ascii', errors='ignore').decode()\n",
    "    string = string.lower()\n",
    "    chars_to_remove = [')',')','.','|','[',']','{','}',\"'\"]\n",
    "    rx = '[' + re.escape(''.join(chars_to_remove)) + ']'\n",
    "    string = re.sub(rx, '', string)\n",
    "    string = string.replace('&', 'and')\n",
    "    string = string.replace(',',' ')\n",
    "    string = string.replace('-', ' ')\n",
    "    string = string.replace('\\n', '')\n",
    "    string = string.title()\n",
    "    string = re.sub(' +',' ',string).strip()\n",
    "    string = ' '+ string +' '\n",
    "    #string = re.sub(r'[,-./]|\\sBD',r'', string) (test this later)\n",
    "    ngrams = zip(*[string[i:40] for i in range (n)])\n",
    "    return [''.join(ngram) for ngram in ngrams]"
   ]
  },
  {
   "cell_type": "code",
   "execution_count": 51,
   "id": "c58a4a1c",
   "metadata": {
    "scrolled": true
   },
   "outputs": [],
   "source": [
    "news_arts = news_df['text'].unique()\n",
    "vectorizer = TfidfVectorizer(min_df=1, analyzer = ngrams)\n",
    "tf_idf_matrix = vectorizer.fit_transform(news_arts)"
   ]
  },
  {
   "cell_type": "code",
   "execution_count": 52,
   "id": "95ed7317",
   "metadata": {},
   "outputs": [],
   "source": [
    "#print(tf_idf_matrix)"
   ]
  },
  {
   "cell_type": "code",
   "execution_count": 53,
   "id": "6f21b490",
   "metadata": {},
   "outputs": [],
   "source": [
    "def awesome_cossim_top(A, B, ntop, lower_bound=0):\n",
    "    A = A.tocsr()\n",
    "    B = B.tocsr()\n",
    "    M, _ = A.shape\n",
    "    _, N = B.shape\n",
    " \n",
    "    idx_dtype = np.int32\n",
    " \n",
    "    nnz_max = M*ntop\n",
    " \n",
    "    indptr = np.zeros(M+1, dtype=idx_dtype)\n",
    "    indices = np.zeros(nnz_max, dtype=idx_dtype)\n",
    "    data = np.zeros(nnz_max, dtype=A.dtype)\n",
    "    ct.sparse_dot_topn(\n",
    "        M, N, np.asarray(A.indptr, dtype=idx_dtype),\n",
    "        np.asarray(A.indices, dtype=idx_dtype),\n",
    "        A.data,\n",
    "        np.asarray(B.indptr, dtype=idx_dtype),\n",
    "        np.asarray(B.indices, dtype=idx_dtype),\n",
    "        B.data,\n",
    "        ntop,\n",
    "        lower_bound,\n",
    "        indptr, indices, data)\n",
    "    return csr_matrix((data,indices,indptr),shape=(M,N))"
   ]
  },
  {
   "cell_type": "code",
   "execution_count": 54,
   "id": "a6cf8376",
   "metadata": {},
   "outputs": [],
   "source": [
    "matches = awesome_cossim_top(tf_idf_matrix, tf_idf_matrix.transpose(),1000,.9)\n"
   ]
  },
  {
   "cell_type": "code",
   "execution_count": 55,
   "id": "e2a969e0",
   "metadata": {},
   "outputs": [],
   "source": [
    "def get_matches_df(sparse_matrix, name_vector, top=100):\n",
    "    non_zeros = sparse_matrix.nonzero()\n",
    "    \n",
    "    sparserows = non_zeros[0]\n",
    "    sparsecols = non_zeros[1]\n",
    "    \n",
    "    if top:\n",
    "        nr_matches = top\n",
    "    else:\n",
    "        nr_matches = sparsecols.size\n",
    "    \n",
    "    left_side = np.empty([nr_matches], dtype=object)\n",
    "    right_side = np.empty([nr_matches], dtype=object)\n",
    "    similairity = np.zeros(nr_matches)\n",
    "    \n",
    "    for index in range(0, nr_matches):\n",
    "        left_side[index] = name_vector[sparserows[index]]\n",
    "        right_side[index] = name_vector[sparsecols[index]]\n",
    "        similairity[index] = sparse_matrix.data[index]\n",
    "    \n",
    "    return pd.DataFrame({'left_side': left_side,\n",
    "                          'right_side': right_side,\n",
    "                           'similairity': similairity})"
   ]
  },
  {
   "cell_type": "code",
   "execution_count": 56,
   "id": "263d66ed",
   "metadata": {},
   "outputs": [],
   "source": [
    "#Nothing below 1.0 seems to be an exact match, lets look at it sorted"
   ]
  },
  {
   "cell_type": "code",
   "execution_count": 57,
   "id": "bb19b1d2",
   "metadata": {},
   "outputs": [
    {
     "data": {
      "text/html": [
       "<div>\n",
       "<style scoped>\n",
       "    .dataframe tbody tr th:only-of-type {\n",
       "        vertical-align: middle;\n",
       "    }\n",
       "\n",
       "    .dataframe tbody tr th {\n",
       "        vertical-align: top;\n",
       "    }\n",
       "\n",
       "    .dataframe thead th {\n",
       "        text-align: right;\n",
       "    }\n",
       "</style>\n",
       "<table border=\"1\" class=\"dataframe\">\n",
       "  <thead>\n",
       "    <tr style=\"text-align: right;\">\n",
       "      <th></th>\n",
       "      <th>left_side</th>\n",
       "      <th>right_side</th>\n",
       "      <th>similairity</th>\n",
       "    </tr>\n",
       "  </thead>\n",
       "  <tbody>\n",
       "    <tr>\n",
       "      <th>87</th>\n",
       "      <td>Former reality show star Donald Trump has repe...</td>\n",
       "      <td>Former reality show star Donald Trump launched...</td>\n",
       "      <td>0.941648</td>\n",
       "    </tr>\n",
       "    <tr>\n",
       "      <th>573</th>\n",
       "      <td>Former Attorney General Eric Holder responded ...</td>\n",
       "      <td>Former Attorney General Eric Holder, who serve...</td>\n",
       "      <td>0.932853</td>\n",
       "    </tr>\n",
       "    <tr>\n",
       "      <th>72</th>\n",
       "      <td>Former reality show star Donald Trump just can...</td>\n",
       "      <td>Former reality show star Donald Trump has alwa...</td>\n",
       "      <td>0.943554</td>\n",
       "    </tr>\n",
       "    <tr>\n",
       "      <th>6</th>\n",
       "      <td>House Intelligence Committee Chairman Devin Nu...</td>\n",
       "      <td>The private investigator, Robert Mueller, had ...</td>\n",
       "      <td>0.952208</td>\n",
       "    </tr>\n",
       "    <tr>\n",
       "      <th>247</th>\n",
       "      <td>White House Chief of Staff John Kelly is a Fou...</td>\n",
       "      <td>A Birmingham, Alabama ABC affiliate sought out...</td>\n",
       "      <td>0.978108</td>\n",
       "    </tr>\n",
       "    <tr>\n",
       "      <th>921</th>\n",
       "      <td>It doesn t take a rocket scientist to know tha...</td>\n",
       "      <td>It doesn t take a rocket scientist to figure o...</td>\n",
       "      <td>0.962476</td>\n",
       "    </tr>\n",
       "    <tr>\n",
       "      <th>249</th>\n",
       "      <td>White House Chief of Staff John Kelly is a Fou...</td>\n",
       "      <td>They call and promise (to join the European Un...</td>\n",
       "      <td>0.911876</td>\n",
       "    </tr>\n",
       "    <tr>\n",
       "      <th>685</th>\n",
       "      <td>Donald Trump s conflicts of interest were of m...</td>\n",
       "      <td>Donald Trump s conflicts of interest are final...</td>\n",
       "      <td>0.951586</td>\n",
       "    </tr>\n",
       "    <tr>\n",
       "      <th>241</th>\n",
       "      <td>White House Chief of Staff John Kelly is a Fou...</td>\n",
       "      <td>DUBAI (Reuters) - Iran said on Wednesday it ha...</td>\n",
       "      <td>0.978108</td>\n",
       "    </tr>\n",
       "    <tr>\n",
       "      <th>245</th>\n",
       "      <td>White House Chief of Staff John Kelly is a Fou...</td>\n",
       "      <td>-Onions -Red peppers \\nNotice they are all hea...</td>\n",
       "      <td>0.978108</td>\n",
       "    </tr>\n",
       "    <tr>\n",
       "      <th>73</th>\n",
       "      <td>Former reality show star Donald Trump just can...</td>\n",
       "      <td>Former reality show star Donald Trump has repe...</td>\n",
       "      <td>0.943554</td>\n",
       "    </tr>\n",
       "    <tr>\n",
       "      <th>898</th>\n",
       "      <td>Donald Trump s son-in-law Jared Kushner has fo...</td>\n",
       "      <td>Jared Kushner, Donald Trump s son-in-law, has ...</td>\n",
       "      <td>0.934720</td>\n",
       "    </tr>\n",
       "    <tr>\n",
       "      <th>539</th>\n",
       "      <td>Milwaukee County Sheriff David Clarke seems li...</td>\n",
       "      <td>Brussels and Washington accuse Russia of inter...</td>\n",
       "      <td>0.989785</td>\n",
       "    </tr>\n",
       "    <tr>\n",
       "      <th>374</th>\n",
       "      <td>Republicans are desperately trying to repeal O...</td>\n",
       "      <td>Republicans are desperately trying to convince...</td>\n",
       "      <td>0.963767</td>\n",
       "    </tr>\n",
       "    <tr>\n",
       "      <th>244</th>\n",
       "      <td>White House Chief of Staff John Kelly is a Fou...</td>\n",
       "      <td>By LAURA MOWAT \\nLocals are fuming because the...</td>\n",
       "      <td>0.978108</td>\n",
       "    </tr>\n",
       "    <tr>\n",
       "      <th>889</th>\n",
       "      <td>Donald Trump s conflicts of interest are final...</td>\n",
       "      <td>Donald Trump s conflicts of interest were of m...</td>\n",
       "      <td>0.951586</td>\n",
       "    </tr>\n",
       "    <tr>\n",
       "      <th>7</th>\n",
       "      <td>House Intelligence Committee Chairman Devin Nu...</td>\n",
       "      <td>The private investigator, Robert Mueller, had ...</td>\n",
       "      <td>0.952208</td>\n",
       "    </tr>\n",
       "    <tr>\n",
       "      <th>540</th>\n",
       "      <td>Milwaukee County Sheriff David Clarke seems li...</td>\n",
       "      <td>NATO intends to turn the entire country of Mon...</td>\n",
       "      <td>0.989785</td>\n",
       "    </tr>\n",
       "    <tr>\n",
       "      <th>376</th>\n",
       "      <td>Republicans are desperately trying to repeal O...</td>\n",
       "      <td>Republicans are desperately trying to fix Dona...</td>\n",
       "      <td>0.958069</td>\n",
       "    </tr>\n",
       "    <tr>\n",
       "      <th>555</th>\n",
       "      <td>Hurricane Harvey devastated Texas on the 12th ...</td>\n",
       "      <td>Republican presidential candidate Donald Trump...</td>\n",
       "      <td>0.918259</td>\n",
       "    </tr>\n",
       "  </tbody>\n",
       "</table>\n",
       "</div>"
      ],
      "text/plain": [
       "                                             left_side  \\\n",
       "87   Former reality show star Donald Trump has repe...   \n",
       "573  Former Attorney General Eric Holder responded ...   \n",
       "72   Former reality show star Donald Trump just can...   \n",
       "6    House Intelligence Committee Chairman Devin Nu...   \n",
       "247  White House Chief of Staff John Kelly is a Fou...   \n",
       "921  It doesn t take a rocket scientist to know tha...   \n",
       "249  White House Chief of Staff John Kelly is a Fou...   \n",
       "685  Donald Trump s conflicts of interest were of m...   \n",
       "241  White House Chief of Staff John Kelly is a Fou...   \n",
       "245  White House Chief of Staff John Kelly is a Fou...   \n",
       "73   Former reality show star Donald Trump just can...   \n",
       "898  Donald Trump s son-in-law Jared Kushner has fo...   \n",
       "539  Milwaukee County Sheriff David Clarke seems li...   \n",
       "374  Republicans are desperately trying to repeal O...   \n",
       "244  White House Chief of Staff John Kelly is a Fou...   \n",
       "889  Donald Trump s conflicts of interest are final...   \n",
       "7    House Intelligence Committee Chairman Devin Nu...   \n",
       "540  Milwaukee County Sheriff David Clarke seems li...   \n",
       "376  Republicans are desperately trying to repeal O...   \n",
       "555  Hurricane Harvey devastated Texas on the 12th ...   \n",
       "\n",
       "                                            right_side  similairity  \n",
       "87   Former reality show star Donald Trump launched...     0.941648  \n",
       "573  Former Attorney General Eric Holder, who serve...     0.932853  \n",
       "72   Former reality show star Donald Trump has alwa...     0.943554  \n",
       "6    The private investigator, Robert Mueller, had ...     0.952208  \n",
       "247  A Birmingham, Alabama ABC affiliate sought out...     0.978108  \n",
       "921  It doesn t take a rocket scientist to figure o...     0.962476  \n",
       "249  They call and promise (to join the European Un...     0.911876  \n",
       "685  Donald Trump s conflicts of interest are final...     0.951586  \n",
       "241  DUBAI (Reuters) - Iran said on Wednesday it ha...     0.978108  \n",
       "245  -Onions -Red peppers \\nNotice they are all hea...     0.978108  \n",
       "73   Former reality show star Donald Trump has repe...     0.943554  \n",
       "898  Jared Kushner, Donald Trump s son-in-law, has ...     0.934720  \n",
       "539  Brussels and Washington accuse Russia of inter...     0.989785  \n",
       "374  Republicans are desperately trying to convince...     0.963767  \n",
       "244  By LAURA MOWAT \\nLocals are fuming because the...     0.978108  \n",
       "889  Donald Trump s conflicts of interest were of m...     0.951586  \n",
       "7    The private investigator, Robert Mueller, had ...     0.952208  \n",
       "540  NATO intends to turn the entire country of Mon...     0.989785  \n",
       "376  Republicans are desperately trying to fix Dona...     0.958069  \n",
       "555  Republican presidential candidate Donald Trump...     0.918259  "
      ]
     },
     "execution_count": 57,
     "metadata": {},
     "output_type": "execute_result"
    }
   ],
   "source": [
    "matches_df = get_matches_df(matches, news_df['text'], top=1000)\n",
    "matches_df = matches_df[matches_df['similairity'] < 0.99999]\n",
    "matches_df.sample(20)"
   ]
  },
  {
   "cell_type": "code",
   "execution_count": 58,
   "id": "5cfc8ebd",
   "metadata": {},
   "outputs": [],
   "source": [
    "#It seems that we can reasonably assume that less than 1.0 are not duplicates"
   ]
  },
  {
   "cell_type": "code",
   "execution_count": 59,
   "id": "9fa014fd",
   "metadata": {},
   "outputs": [
    {
     "data": {
      "text/html": [
       "<div>\n",
       "<style scoped>\n",
       "    .dataframe tbody tr th:only-of-type {\n",
       "        vertical-align: middle;\n",
       "    }\n",
       "\n",
       "    .dataframe tbody tr th {\n",
       "        vertical-align: top;\n",
       "    }\n",
       "\n",
       "    .dataframe thead th {\n",
       "        text-align: right;\n",
       "    }\n",
       "</style>\n",
       "<table border=\"1\" class=\"dataframe\">\n",
       "  <thead>\n",
       "    <tr style=\"text-align: right;\">\n",
       "      <th></th>\n",
       "      <th>left_side</th>\n",
       "      <th>right_side</th>\n",
       "      <th>similairity</th>\n",
       "    </tr>\n",
       "  </thead>\n",
       "  <tbody>\n",
       "    <tr>\n",
       "      <th>540</th>\n",
       "      <td>Milwaukee County Sheriff David Clarke seems li...</td>\n",
       "      <td>NATO intends to turn the entire country of Mon...</td>\n",
       "      <td>0.989785</td>\n",
       "    </tr>\n",
       "    <tr>\n",
       "      <th>539</th>\n",
       "      <td>Milwaukee County Sheriff David Clarke seems li...</td>\n",
       "      <td>Brussels and Washington accuse Russia of inter...</td>\n",
       "      <td>0.989785</td>\n",
       "    </tr>\n",
       "    <tr>\n",
       "      <th>247</th>\n",
       "      <td>White House Chief of Staff John Kelly is a Fou...</td>\n",
       "      <td>A Birmingham, Alabama ABC affiliate sought out...</td>\n",
       "      <td>0.978108</td>\n",
       "    </tr>\n",
       "    <tr>\n",
       "      <th>241</th>\n",
       "      <td>White House Chief of Staff John Kelly is a Fou...</td>\n",
       "      <td>DUBAI (Reuters) - Iran said on Wednesday it ha...</td>\n",
       "      <td>0.978108</td>\n",
       "    </tr>\n",
       "    <tr>\n",
       "      <th>246</th>\n",
       "      <td>White House Chief of Staff John Kelly is a Fou...</td>\n",
       "      <td>Countering Hillary’s Coup With a Counter Coup ...</td>\n",
       "      <td>0.978108</td>\n",
       "    </tr>\n",
       "    <tr>\n",
       "      <th>245</th>\n",
       "      <td>White House Chief of Staff John Kelly is a Fou...</td>\n",
       "      <td>-Onions -Red peppers \\nNotice they are all hea...</td>\n",
       "      <td>0.978108</td>\n",
       "    </tr>\n",
       "    <tr>\n",
       "      <th>244</th>\n",
       "      <td>White House Chief of Staff John Kelly is a Fou...</td>\n",
       "      <td>By LAURA MOWAT \\nLocals are fuming because the...</td>\n",
       "      <td>0.978108</td>\n",
       "    </tr>\n",
       "    <tr>\n",
       "      <th>243</th>\n",
       "      <td>White House Chief of Staff John Kelly is a Fou...</td>\n",
       "      <td>BNI Store Nov 6 2016 Like a good little sharia...</td>\n",
       "      <td>0.978108</td>\n",
       "    </tr>\n",
       "    <tr>\n",
       "      <th>242</th>\n",
       "      <td>White House Chief of Staff John Kelly is a Fou...</td>\n",
       "      <td>The U.S. Justice Department on Monday said it ...</td>\n",
       "      <td>0.978108</td>\n",
       "    </tr>\n",
       "    <tr>\n",
       "      <th>5</th>\n",
       "      <td>House Intelligence Committee Chairman Devin Nu...</td>\n",
       "      <td>If this keeps up, the Democrats will never win...</td>\n",
       "      <td>0.972838</td>\n",
       "    </tr>\n",
       "  </tbody>\n",
       "</table>\n",
       "</div>"
      ],
      "text/plain": [
       "                                             left_side  \\\n",
       "540  Milwaukee County Sheriff David Clarke seems li...   \n",
       "539  Milwaukee County Sheriff David Clarke seems li...   \n",
       "247  White House Chief of Staff John Kelly is a Fou...   \n",
       "241  White House Chief of Staff John Kelly is a Fou...   \n",
       "246  White House Chief of Staff John Kelly is a Fou...   \n",
       "245  White House Chief of Staff John Kelly is a Fou...   \n",
       "244  White House Chief of Staff John Kelly is a Fou...   \n",
       "243  White House Chief of Staff John Kelly is a Fou...   \n",
       "242  White House Chief of Staff John Kelly is a Fou...   \n",
       "5    House Intelligence Committee Chairman Devin Nu...   \n",
       "\n",
       "                                            right_side  similairity  \n",
       "540  NATO intends to turn the entire country of Mon...     0.989785  \n",
       "539  Brussels and Washington accuse Russia of inter...     0.989785  \n",
       "247  A Birmingham, Alabama ABC affiliate sought out...     0.978108  \n",
       "241  DUBAI (Reuters) - Iran said on Wednesday it ha...     0.978108  \n",
       "246  Countering Hillary’s Coup With a Counter Coup ...     0.978108  \n",
       "245  -Onions -Red peppers \\nNotice they are all hea...     0.978108  \n",
       "244  By LAURA MOWAT \\nLocals are fuming because the...     0.978108  \n",
       "243  BNI Store Nov 6 2016 Like a good little sharia...     0.978108  \n",
       "242  The U.S. Justice Department on Monday said it ...     0.978108  \n",
       "5    If this keeps up, the Democrats will never win...     0.972838  "
      ]
     },
     "execution_count": 59,
     "metadata": {},
     "output_type": "execute_result"
    }
   ],
   "source": [
    "matches_df.sort_values(['similairity'], ascending=False).head(10)\n"
   ]
  },
  {
   "cell_type": "code",
   "execution_count": 60,
   "id": "5bfc5707",
   "metadata": {},
   "outputs": [],
   "source": [
    "#I am inclined for simplicity sake to remove all with a similarity of 1.0, but lets look at these first 5\n",
    "#There are 226 'exact matches' much less than I was fearful of at the beginning\n",
    "#But I have to remember that this is a sample of the dataset. And that this is potentially 25% of my data.\n",
    "# Lets run the original "
   ]
  },
  {
   "cell_type": "code",
   "execution_count": 61,
   "id": "4b866a35",
   "metadata": {},
   "outputs": [
    {
     "data": {
      "text/html": [
       "<div>\n",
       "<style scoped>\n",
       "    .dataframe tbody tr th:only-of-type {\n",
       "        vertical-align: middle;\n",
       "    }\n",
       "\n",
       "    .dataframe tbody tr th {\n",
       "        vertical-align: top;\n",
       "    }\n",
       "\n",
       "    .dataframe thead th {\n",
       "        text-align: right;\n",
       "    }\n",
       "</style>\n",
       "<table border=\"1\" class=\"dataframe\">\n",
       "  <thead>\n",
       "    <tr style=\"text-align: right;\">\n",
       "      <th></th>\n",
       "      <th>left_side</th>\n",
       "      <th>right_side</th>\n",
       "      <th>similairity</th>\n",
       "    </tr>\n",
       "  </thead>\n",
       "  <tbody>\n",
       "    <tr>\n",
       "      <th>707</th>\n",
       "      <td>As her husband Donald Trump makes Twitter thre...</td>\n",
       "      <td>As her husband Donald Trump makes Twitter thre...</td>\n",
       "      <td>1.0</td>\n",
       "    </tr>\n",
       "    <tr>\n",
       "      <th>489</th>\n",
       "      <td>Donald Trump, Jr. went before Congress today t...</td>\n",
       "      <td>Donald Trump, Jr. went before Congress today t...</td>\n",
       "      <td>1.0</td>\n",
       "    </tr>\n",
       "    <tr>\n",
       "      <th>505</th>\n",
       "      <td>Ever since Donald Trump rode down the escalato...</td>\n",
       "      <td>Ever since Donald Trump rode down the escalato...</td>\n",
       "      <td>1.0</td>\n",
       "    </tr>\n",
       "    <tr>\n",
       "      <th>319</th>\n",
       "      <td>Has anyone else noticed that the government so...</td>\n",
       "      <td>Has anyone else noticed that the government so...</td>\n",
       "      <td>1.0</td>\n",
       "    </tr>\n",
       "    <tr>\n",
       "      <th>794</th>\n",
       "      <td>No one takes Donald Trump seriously anymore. N...</td>\n",
       "      <td>No one takes Donald Trump seriously anymore. N...</td>\n",
       "      <td>1.0</td>\n",
       "    </tr>\n",
       "    <tr>\n",
       "      <th>718</th>\n",
       "      <td>There are no two crazy people ever mentioned m...</td>\n",
       "      <td>There are no two crazy people ever mentioned m...</td>\n",
       "      <td>1.0</td>\n",
       "    </tr>\n",
       "    <tr>\n",
       "      <th>110</th>\n",
       "      <td>Senator Jeff Flake (R-AZ) is liberated now tha...</td>\n",
       "      <td>ISTANBUL (Reuters) - U.S. Secretary of State R...</td>\n",
       "      <td>1.0</td>\n",
       "    </tr>\n",
       "    <tr>\n",
       "      <th>913</th>\n",
       "      <td>Because there s totally nothing else better fo...</td>\n",
       "      <td>Because there s totally nothing else better fo...</td>\n",
       "      <td>1.0</td>\n",
       "    </tr>\n",
       "    <tr>\n",
       "      <th>227</th>\n",
       "      <td>Donald Trump s Twitter habit is dangerous. Whe...</td>\n",
       "      <td>Donald Trump s Twitter habit is dangerous. Whe...</td>\n",
       "      <td>1.0</td>\n",
       "    </tr>\n",
       "    <tr>\n",
       "      <th>483</th>\n",
       "      <td>Donald Trump s administration finds new ways t...</td>\n",
       "      <td>Donald Trump s administration finds new ways t...</td>\n",
       "      <td>1.0</td>\n",
       "    </tr>\n",
       "  </tbody>\n",
       "</table>\n",
       "</div>"
      ],
      "text/plain": [
       "                                             left_side  \\\n",
       "707  As her husband Donald Trump makes Twitter thre...   \n",
       "489  Donald Trump, Jr. went before Congress today t...   \n",
       "505  Ever since Donald Trump rode down the escalato...   \n",
       "319  Has anyone else noticed that the government so...   \n",
       "794  No one takes Donald Trump seriously anymore. N...   \n",
       "718  There are no two crazy people ever mentioned m...   \n",
       "110  Senator Jeff Flake (R-AZ) is liberated now tha...   \n",
       "913  Because there s totally nothing else better fo...   \n",
       "227  Donald Trump s Twitter habit is dangerous. Whe...   \n",
       "483  Donald Trump s administration finds new ways t...   \n",
       "\n",
       "                                            right_side  similairity  \n",
       "707  As her husband Donald Trump makes Twitter thre...          1.0  \n",
       "489  Donald Trump, Jr. went before Congress today t...          1.0  \n",
       "505  Ever since Donald Trump rode down the escalato...          1.0  \n",
       "319  Has anyone else noticed that the government so...          1.0  \n",
       "794  No one takes Donald Trump seriously anymore. N...          1.0  \n",
       "718  There are no two crazy people ever mentioned m...          1.0  \n",
       "110  ISTANBUL (Reuters) - U.S. Secretary of State R...          1.0  \n",
       "913  Because there s totally nothing else better fo...          1.0  \n",
       "227  Donald Trump s Twitter habit is dangerous. Whe...          1.0  \n",
       "483  Donald Trump s administration finds new ways t...          1.0  "
      ]
     },
     "execution_count": 61,
     "metadata": {},
     "output_type": "execute_result"
    }
   ],
   "source": [
    "matches_df = get_matches_df(matches, news_df['text'], top=1000)\n",
    "matches_df = matches_df[matches_df['similairity'] ==1.0]\n",
    "matches_df.sample(10)"
   ]
  },
  {
   "cell_type": "code",
   "execution_count": 62,
   "id": "e76747cd",
   "metadata": {},
   "outputs": [
    {
     "data": {
      "text/html": [
       "<div>\n",
       "<style scoped>\n",
       "    .dataframe tbody tr th:only-of-type {\n",
       "        vertical-align: middle;\n",
       "    }\n",
       "\n",
       "    .dataframe tbody tr th {\n",
       "        vertical-align: top;\n",
       "    }\n",
       "\n",
       "    .dataframe thead th {\n",
       "        text-align: right;\n",
       "    }\n",
       "</style>\n",
       "<table border=\"1\" class=\"dataframe\">\n",
       "  <thead>\n",
       "    <tr style=\"text-align: right;\">\n",
       "      <th></th>\n",
       "      <th>left_side</th>\n",
       "      <th>right_side</th>\n",
       "      <th>similairity</th>\n",
       "    </tr>\n",
       "  </thead>\n",
       "  <tbody>\n",
       "    <tr>\n",
       "      <th>9</th>\n",
       "      <td>On Christmas day, Donald Trump announced that ...</td>\n",
       "      <td>On Christmas day, Donald Trump announced that ...</td>\n",
       "      <td>1.0</td>\n",
       "    </tr>\n",
       "    <tr>\n",
       "      <th>13</th>\n",
       "      <td>In the wake of yet another court decision that...</td>\n",
       "      <td>In the wake of yet another court decision that...</td>\n",
       "      <td>1.0</td>\n",
       "    </tr>\n",
       "    <tr>\n",
       "      <th>14</th>\n",
       "      <td>Many people have raised the alarm regarding th...</td>\n",
       "      <td>Many people have raised the alarm regarding th...</td>\n",
       "      <td>1.0</td>\n",
       "    </tr>\n",
       "    <tr>\n",
       "      <th>25</th>\n",
       "      <td>Senate Majority Whip John Cornyn (R-TX) though...</td>\n",
       "      <td>Senate Majority Whip John Cornyn (R-TX) though...</td>\n",
       "      <td>1.0</td>\n",
       "    </tr>\n",
       "    <tr>\n",
       "      <th>27</th>\n",
       "      <td>In this #METOO moment, many powerful men are b...</td>\n",
       "      <td>In this #METOO moment, many powerful men are b...</td>\n",
       "      <td>1.0</td>\n",
       "    </tr>\n",
       "  </tbody>\n",
       "</table>\n",
       "</div>"
      ],
      "text/plain": [
       "                                            left_side  \\\n",
       "9   On Christmas day, Donald Trump announced that ...   \n",
       "13  In the wake of yet another court decision that...   \n",
       "14  Many people have raised the alarm regarding th...   \n",
       "25  Senate Majority Whip John Cornyn (R-TX) though...   \n",
       "27  In this #METOO moment, many powerful men are b...   \n",
       "\n",
       "                                           right_side  similairity  \n",
       "9   On Christmas day, Donald Trump announced that ...          1.0  \n",
       "13  In the wake of yet another court decision that...          1.0  \n",
       "14  Many people have raised the alarm regarding th...          1.0  \n",
       "25  Senate Majority Whip John Cornyn (R-TX) though...          1.0  \n",
       "27  In this #METOO moment, many powerful men are b...          1.0  "
      ]
     },
     "execution_count": 62,
     "metadata": {},
     "output_type": "execute_result"
    }
   ],
   "source": [
    "matches_df.head()"
   ]
  },
  {
   "cell_type": "code",
   "execution_count": 63,
   "id": "73d27d9f",
   "metadata": {},
   "outputs": [
    {
     "data": {
      "text/html": [
       "<div>\n",
       "<style scoped>\n",
       "    .dataframe tbody tr th:only-of-type {\n",
       "        vertical-align: middle;\n",
       "    }\n",
       "\n",
       "    .dataframe tbody tr th {\n",
       "        vertical-align: top;\n",
       "    }\n",
       "\n",
       "    .dataframe thead th {\n",
       "        text-align: right;\n",
       "    }\n",
       "</style>\n",
       "<table border=\"1\" class=\"dataframe\">\n",
       "  <thead>\n",
       "    <tr style=\"text-align: right;\">\n",
       "      <th></th>\n",
       "      <th>left_side</th>\n",
       "      <th>right_side</th>\n",
       "      <th>similairity</th>\n",
       "    </tr>\n",
       "  </thead>\n",
       "  <tbody>\n",
       "    <tr>\n",
       "      <th>984</th>\n",
       "      <td>Donald Trump just refuses to admit that most A...</td>\n",
       "      <td>Donald Trump just refuses to admit that most A...</td>\n",
       "      <td>1.0</td>\n",
       "    </tr>\n",
       "    <tr>\n",
       "      <th>988</th>\n",
       "      <td>Donald Trump and his vice-president are eager ...</td>\n",
       "      <td>Donald Trump and his vice-president are eager ...</td>\n",
       "      <td>1.0</td>\n",
       "    </tr>\n",
       "    <tr>\n",
       "      <th>990</th>\n",
       "      <td>Star Trek legend George Takei gloriously shred...</td>\n",
       "      <td>Star Trek legend George Takei gloriously shred...</td>\n",
       "      <td>1.0</td>\n",
       "    </tr>\n",
       "    <tr>\n",
       "      <th>993</th>\n",
       "      <td>By now, everyone is used to the rank ignorance...</td>\n",
       "      <td>By now, everyone is used to the rank ignorance...</td>\n",
       "      <td>1.0</td>\n",
       "    </tr>\n",
       "    <tr>\n",
       "      <th>994</th>\n",
       "      <td>We all know that the GOP is the party of anti-...</td>\n",
       "      <td>We all know that the GOP is the party of anti-...</td>\n",
       "      <td>1.0</td>\n",
       "    </tr>\n",
       "  </tbody>\n",
       "</table>\n",
       "</div>"
      ],
      "text/plain": [
       "                                             left_side  \\\n",
       "984  Donald Trump just refuses to admit that most A...   \n",
       "988  Donald Trump and his vice-president are eager ...   \n",
       "990  Star Trek legend George Takei gloriously shred...   \n",
       "993  By now, everyone is used to the rank ignorance...   \n",
       "994  We all know that the GOP is the party of anti-...   \n",
       "\n",
       "                                            right_side  similairity  \n",
       "984  Donald Trump just refuses to admit that most A...          1.0  \n",
       "988  Donald Trump and his vice-president are eager ...          1.0  \n",
       "990  Star Trek legend George Takei gloriously shred...          1.0  \n",
       "993  By now, everyone is used to the rank ignorance...          1.0  \n",
       "994  We all know that the GOP is the party of anti-...          1.0  "
      ]
     },
     "execution_count": 63,
     "metadata": {},
     "output_type": "execute_result"
    }
   ],
   "source": [
    "matches_df.tail()"
   ]
  },
  {
   "cell_type": "code",
   "execution_count": 64,
   "id": "07f6e2cd",
   "metadata": {
    "scrolled": false
   },
   "outputs": [],
   "source": [
    "#It seems reasonable to assume that anything identified as similarity of 1.0 is indeed a duplicate. \n",
    "#Now to remove them. \n",
    "#I have to be careful as these were a sample of my datasets. \n",
    "#Let's confirm I don't have more than 8000 duplicates"
   ]
  },
  {
   "cell_type": "code",
   "execution_count": 65,
   "id": "245678aa",
   "metadata": {},
   "outputs": [],
   "source": [
    "matches_df = get_matches_df(matches, news_df['text'], top=8000)\n",
    "matches_df = matches_df[matches_df['similairity'] ==1.0]\n",
    "matches_df.reset_index(inplace = True)"
   ]
  },
  {
   "cell_type": "code",
   "execution_count": 66,
   "id": "23e3a19c",
   "metadata": {},
   "outputs": [],
   "source": [
    "if matches_df['left_side'][0] == news_df['text'][0]:\n",
    "    print(True)"
   ]
  },
  {
   "cell_type": "code",
   "execution_count": 67,
   "id": "25644cd7",
   "metadata": {},
   "outputs": [],
   "source": [
    "#2278 out of 130274 are duplicates\n",
    "#Less than 2 percent, that is perfectly reasonable given that we are working with a few data sets. \n",
    "#Let's remove these from news_df"
   ]
  },
  {
   "cell_type": "code",
   "execution_count": 68,
   "id": "a875f365",
   "metadata": {},
   "outputs": [],
   "source": [
    "news_df_s = news_df.sample(n = 1000)\n",
    "news_df_s.reset_index(inplace = True)\n"
   ]
  },
  {
   "cell_type": "code",
   "execution_count": 69,
   "id": "a9a20996",
   "metadata": {},
   "outputs": [
    {
     "name": "stdout",
     "output_type": "stream",
     "text": [
      "36 1324\n",
      "98 1672\n",
      "123 138\n",
      "136 939\n",
      "281 1601\n",
      "462 820\n",
      "565 1624\n",
      "664 1037\n"
     ]
    }
   ],
   "source": [
    "x = len(matches_df)\n",
    "dups = []\n",
    "for i in range(1000):\n",
    "    for j in range(x):\n",
    "        if news_df_s['text'][i] is matches_df['left_side'][j]:\n",
    "            print(i,j)\n",
    "            dups.append(i)\n"
   ]
  },
  {
   "cell_type": "code",
   "execution_count": 70,
   "id": "d6307851",
   "metadata": {},
   "outputs": [
    {
     "data": {
      "text/plain": [
       "'OSLO (Reuters) - Backers of a global accord to fight climate change that formally comes into force o'"
      ]
     },
     "execution_count": 70,
     "metadata": {},
     "output_type": "execute_result"
    }
   ],
   "source": [
    "news_df_s['text'][59][:100]"
   ]
  },
  {
   "cell_type": "code",
   "execution_count": 71,
   "id": "60375607",
   "metadata": {},
   "outputs": [
    {
     "data": {
      "text/plain": [
       "'Following a Boston judge s refusal to renew the temporary stay on Trump s Muslim ban, a federal judg'"
      ]
     },
     "execution_count": 71,
     "metadata": {},
     "output_type": "execute_result"
    }
   ],
   "source": [
    "matches_df['left_side'][1005][:100]"
   ]
  },
  {
   "cell_type": "code",
   "execution_count": 72,
   "id": "9fab6a6e",
   "metadata": {},
   "outputs": [
    {
     "data": {
      "text/plain": [
       "'Hillary s such a champion of gay rights that her campaign is being funded by countries who throw gay'"
      ]
     },
     "execution_count": 72,
     "metadata": {},
     "output_type": "execute_result"
    }
   ],
   "source": [
    "news_df_s['text'][79][:100]"
   ]
  },
  {
   "cell_type": "code",
   "execution_count": 73,
   "id": "6f6cc716",
   "metadata": {},
   "outputs": [
    {
     "data": {
      "text/plain": [
       "'White House press secretary Sean Spicer literally denied the meaning of alleged president Donald Tru'"
      ]
     },
     "execution_count": 73,
     "metadata": {},
     "output_type": "execute_result"
    }
   ],
   "source": [
    "matches_df['left_side'][500][:100]"
   ]
  },
  {
   "cell_type": "code",
   "execution_count": 74,
   "id": "30cf3504",
   "metadata": {},
   "outputs": [
    {
     "data": {
      "text/plain": [
       "'Republican presidential candidates are attacking President Obama’s plan to use his Oval Office power'"
      ]
     },
     "execution_count": 74,
     "metadata": {},
     "output_type": "execute_result"
    }
   ],
   "source": [
    "news_df_s['text'][436][:100]"
   ]
  },
  {
   "cell_type": "code",
   "execution_count": 75,
   "id": "41090580",
   "metadata": {},
   "outputs": [
    {
     "data": {
      "text/plain": [
       "'Israeli Prime Minister Benjamin Netanyahu threw a temper tantrum like a petulant child because the U'"
      ]
     },
     "execution_count": 75,
     "metadata": {},
     "output_type": "execute_result"
    }
   ],
   "source": [
    "matches_df['left_side'][1156][:100]"
   ]
  },
  {
   "cell_type": "code",
   "execution_count": 76,
   "id": "ea1a131f",
   "metadata": {},
   "outputs": [
    {
     "data": {
      "text/plain": [
       "'The UN condemned the persecution of the Ukrainian Orthodox Church and concluded that there is a \"rel'"
      ]
     },
     "execution_count": 76,
     "metadata": {},
     "output_type": "execute_result"
    }
   ],
   "source": [
    "news_df_s['text'][489][:100]"
   ]
  },
  {
   "cell_type": "code",
   "execution_count": 77,
   "id": "46b9c785",
   "metadata": {},
   "outputs": [],
   "source": [
    "#matches_df['left_side'][2087][:100]"
   ]
  },
  {
   "cell_type": "code",
   "execution_count": 78,
   "id": "4a821299",
   "metadata": {},
   "outputs": [
    {
     "data": {
      "text/plain": [
       "'WASHINGTON (Reuters) - A quest by Republicans to open Alaska’s Arctic National Wildlife Reserve was '"
      ]
     },
     "execution_count": 78,
     "metadata": {},
     "output_type": "execute_result"
    }
   ],
   "source": [
    "news_df_s['text'][588][:100]"
   ]
  },
  {
   "cell_type": "code",
   "execution_count": 79,
   "id": "9e8b659d",
   "metadata": {},
   "outputs": [],
   "source": [
    "# This for loop seems to adequately find the indices of the duplicates lets do this and check on the full dataset. \n"
   ]
  },
  {
   "cell_type": "code",
   "execution_count": 80,
   "id": "fc0e234b",
   "metadata": {},
   "outputs": [],
   "source": [
    "x = len(matches_df)\n",
    "y = len(news_df)\n",
    "verify = []\n",
    "dups = []\n",
    "for i in range(y):\n",
    "    for j in range(x):\n",
    "        if news_df['text'][i] is matches_df['left_side'][j]:\n",
    "            verify.append(j)\n",
    "            dups.append(i)"
   ]
  },
  {
   "cell_type": "code",
   "execution_count": 84,
   "id": "22323f9e",
   "metadata": {},
   "outputs": [],
   "source": [
    "#verify is just the i of dups I want to look at some of the duplicates in dups e.g. 623"
   ]
  },
  {
   "cell_type": "code",
   "execution_count": 85,
   "id": "398399f4",
   "metadata": {},
   "outputs": [
    {
     "data": {
      "text/plain": [
       "142"
      ]
     },
     "execution_count": 85,
     "metadata": {},
     "output_type": "execute_result"
    }
   ],
   "source": [
    "dups.index(623)"
   ]
  },
  {
   "cell_type": "code",
   "execution_count": 86,
   "id": "ca84663d",
   "metadata": {},
   "outputs": [
    {
     "name": "stdout",
     "output_type": "stream",
     "text": [
      "[142, 143, 144, 145, 146, 147, 148]\n"
     ]
    }
   ],
   "source": [
    "#code adapted from https://datagy.io/python-list-find-all-index/\n",
    "def find_indices(list_to_check, item_to_find):\n",
    "    indices = []\n",
    "    for idx, value in enumerate(list_to_check):\n",
    "        if value == item_to_find:\n",
    "            indices.append(idx)\n",
    "    return indices\n",
    "\n",
    "print(find_indices(dups,623))"
   ]
  },
  {
   "cell_type": "code",
   "execution_count": 87,
   "id": "f59735f2",
   "metadata": {},
   "outputs": [
    {
     "data": {
      "text/plain": [
       "'The current occupant of the White House has been quiet about his campaign promise to combat the opio'"
      ]
     },
     "execution_count": 87,
     "metadata": {},
     "output_type": "execute_result"
    }
   ],
   "source": [
    "news_df['text'][623][:100]"
   ]
  },
  {
   "cell_type": "code",
   "execution_count": 88,
   "id": "09c0702c",
   "metadata": {},
   "outputs": [
    {
     "data": {
      "text/plain": [
       "'The current occupant of the White House has been quiet about his campaign promise to combat the opio'"
      ]
     },
     "execution_count": 88,
     "metadata": {},
     "output_type": "execute_result"
    }
   ],
   "source": [
    "matches_df['left_side'][142][:100]"
   ]
  },
  {
   "cell_type": "code",
   "execution_count": 89,
   "id": "81e60d43",
   "metadata": {},
   "outputs": [
    {
     "data": {
      "text/plain": [
       "'The current occupant of the White House has been quiet about his campaign promise to combat the opio'"
      ]
     },
     "execution_count": 89,
     "metadata": {},
     "output_type": "execute_result"
    }
   ],
   "source": [
    "matches_df['left_side'][143][:100]"
   ]
  },
  {
   "cell_type": "code",
   "execution_count": 90,
   "id": "cc8a7fe3",
   "metadata": {},
   "outputs": [
    {
     "data": {
      "text/plain": [
       "'The current occupant of the White House has been quiet about his campaign promise to combat the opio'"
      ]
     },
     "execution_count": 90,
     "metadata": {},
     "output_type": "execute_result"
    }
   ],
   "source": [
    "matches_df['left_side'][144][:100]"
   ]
  },
  {
   "cell_type": "code",
   "execution_count": 91,
   "id": "eda858ee",
   "metadata": {},
   "outputs": [
    {
     "data": {
      "text/plain": [
       "'The current occupant of the White House has been quiet about his campaign promise to combat the opio'"
      ]
     },
     "execution_count": 91,
     "metadata": {},
     "output_type": "execute_result"
    }
   ],
   "source": [
    "matches_df['left_side'][145][:100]"
   ]
  },
  {
   "cell_type": "code",
   "execution_count": 92,
   "id": "2cebb65f",
   "metadata": {},
   "outputs": [
    {
     "data": {
      "text/plain": [
       "'The current occupant of the White House has been quiet about his campaign promise to combat the opio'"
      ]
     },
     "execution_count": 92,
     "metadata": {},
     "output_type": "execute_result"
    }
   ],
   "source": [
    "matches_df['left_side'][146][:100]"
   ]
  },
  {
   "cell_type": "code",
   "execution_count": 93,
   "id": "98c4b37c",
   "metadata": {},
   "outputs": [
    {
     "data": {
      "text/plain": [
       "'The current occupant of the White House has been quiet about his campaign promise to combat the opio'"
      ]
     },
     "execution_count": 93,
     "metadata": {},
     "output_type": "execute_result"
    }
   ],
   "source": [
    "matches_df['left_side'][147][:100]"
   ]
  },
  {
   "cell_type": "code",
   "execution_count": 94,
   "id": "550375fd",
   "metadata": {},
   "outputs": [
    {
     "data": {
      "text/plain": [
       "'The current occupant of the White House has been quiet about his campaign promise to combat the opio'"
      ]
     },
     "execution_count": 94,
     "metadata": {},
     "output_type": "execute_result"
    }
   ],
   "source": [
    "matches_df['left_side'][148][:100]"
   ]
  },
  {
   "cell_type": "code",
   "execution_count": 95,
   "id": "f1b0d213",
   "metadata": {},
   "outputs": [],
   "source": [
    "#Everything seems to checkout so I am going to go ahead and drop the found duplicates"
   ]
  },
  {
   "cell_type": "code",
   "execution_count": 96,
   "id": "52197e16",
   "metadata": {},
   "outputs": [
    {
     "data": {
      "text/plain": [
       "1344"
      ]
     },
     "execution_count": 96,
     "metadata": {},
     "output_type": "execute_result"
    }
   ],
   "source": [
    "dups = list(set(dups))\n",
    "len(dups)"
   ]
  },
  {
   "cell_type": "code",
   "execution_count": 97,
   "id": "5336d89e",
   "metadata": {},
   "outputs": [],
   "source": [
    "news_df.drop(index = dups, inplace = True)"
   ]
  },
  {
   "cell_type": "code",
   "execution_count": 98,
   "id": "daff4b03",
   "metadata": {},
   "outputs": [],
   "source": [
    "news_df.to_pickle('News_df.pkl')"
   ]
  },
  {
   "cell_type": "code",
   "execution_count": null,
   "id": "5a3e4f71",
   "metadata": {},
   "outputs": [],
   "source": []
  }
 ],
 "metadata": {
  "kernelspec": {
   "display_name": "Python 3 (ipykernel)",
   "language": "python",
   "name": "python3"
  },
  "language_info": {
   "codemirror_mode": {
    "name": "ipython",
    "version": 3
   },
   "file_extension": ".py",
   "mimetype": "text/x-python",
   "name": "python",
   "nbconvert_exporter": "python",
   "pygments_lexer": "ipython3",
   "version": "3.10.9"
  }
 },
 "nbformat": 4,
 "nbformat_minor": 5
}
