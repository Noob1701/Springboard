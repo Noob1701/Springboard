{
 "cells": [
  {
   "cell_type": "code",
   "execution_count": 1,
   "id": "bd0dbb7e",
   "metadata": {},
   "outputs": [
    {
     "name": "stderr",
     "output_type": "stream",
     "text": [
      "[nltk_data] Downloading package punkt to\n",
      "[nltk_data]     C:\\Users\\danie\\AppData\\Roaming\\nltk_data...\n",
      "[nltk_data]   Package punkt is already up-to-date!\n"
     ]
    },
    {
     "data": {
      "text/plain": [
       "True"
      ]
     },
     "execution_count": 1,
     "metadata": {},
     "output_type": "execute_result"
    }
   ],
   "source": [
    "import numpy as np\n",
    "import pandas as pd\n",
    "import contractions\n",
    "import cleantext\n",
    "from cleantext import clean\n",
    "from readability import Readability\n",
    "import nltk\n",
    "nltk.download('punkt')"
   ]
  },
  {
   "cell_type": "code",
   "execution_count": 2,
   "id": "99971061",
   "metadata": {},
   "outputs": [
    {
     "data": {
      "text/html": [
       "<div>\n",
       "<style scoped>\n",
       "    .dataframe tbody tr th:only-of-type {\n",
       "        vertical-align: middle;\n",
       "    }\n",
       "\n",
       "    .dataframe tbody tr th {\n",
       "        vertical-align: top;\n",
       "    }\n",
       "\n",
       "    .dataframe thead th {\n",
       "        text-align: right;\n",
       "    }\n",
       "</style>\n",
       "<table border=\"1\" class=\"dataframe\">\n",
       "  <thead>\n",
       "    <tr style=\"text-align: right;\">\n",
       "      <th></th>\n",
       "      <th>text</th>\n",
       "      <th>real</th>\n",
       "      <th>subject</th>\n",
       "      <th>title</th>\n",
       "      <th>date</th>\n",
       "    </tr>\n",
       "  </thead>\n",
       "  <tbody>\n",
       "    <tr>\n",
       "      <th>0</th>\n",
       "      <td>Donald Trump just couldn t wish all Americans ...</td>\n",
       "      <td>0</td>\n",
       "      <td>None</td>\n",
       "      <td>None</td>\n",
       "      <td>None</td>\n",
       "    </tr>\n",
       "    <tr>\n",
       "      <th>1</th>\n",
       "      <td>House Intelligence Committee Chairman Devin Nu...</td>\n",
       "      <td>0</td>\n",
       "      <td>None</td>\n",
       "      <td>None</td>\n",
       "      <td>None</td>\n",
       "    </tr>\n",
       "    <tr>\n",
       "      <th>2</th>\n",
       "      <td>On Friday, it was revealed that former Milwauk...</td>\n",
       "      <td>0</td>\n",
       "      <td>None</td>\n",
       "      <td>None</td>\n",
       "      <td>None</td>\n",
       "    </tr>\n",
       "    <tr>\n",
       "      <th>4</th>\n",
       "      <td>Pope Francis used his annual Christmas Day mes...</td>\n",
       "      <td>0</td>\n",
       "      <td>None</td>\n",
       "      <td>None</td>\n",
       "      <td>None</td>\n",
       "    </tr>\n",
       "    <tr>\n",
       "      <th>5</th>\n",
       "      <td>The number of cases of cops brutalizing and ki...</td>\n",
       "      <td>0</td>\n",
       "      <td>None</td>\n",
       "      <td>None</td>\n",
       "      <td>None</td>\n",
       "    </tr>\n",
       "    <tr>\n",
       "      <th>...</th>\n",
       "      <td>...</td>\n",
       "      <td>...</td>\n",
       "      <td>...</td>\n",
       "      <td>...</td>\n",
       "      <td>...</td>\n",
       "    </tr>\n",
       "    <tr>\n",
       "      <th>130269</th>\n",
       "      <td>21st Century Wire says As 21WIRE reported earl...</td>\n",
       "      <td>0</td>\n",
       "      <td>Middle-east</td>\n",
       "      <td>McPain: John McCain Furious That Iran Treated ...</td>\n",
       "      <td>January 16, 2016</td>\n",
       "    </tr>\n",
       "    <tr>\n",
       "      <th>130270</th>\n",
       "      <td>21st Century Wire says It s a familiar theme. ...</td>\n",
       "      <td>0</td>\n",
       "      <td>Middle-east</td>\n",
       "      <td>JUSTICE? Yahoo Settles E-mail Privacy Class-ac...</td>\n",
       "      <td>January 16, 2016</td>\n",
       "    </tr>\n",
       "    <tr>\n",
       "      <th>130271</th>\n",
       "      <td>Patrick Henningsen  21st Century WireRemember ...</td>\n",
       "      <td>0</td>\n",
       "      <td>Middle-east</td>\n",
       "      <td>Sunnistan: US and Allied ‘Safe Zone’ Plan to T...</td>\n",
       "      <td>January 15, 2016</td>\n",
       "    </tr>\n",
       "    <tr>\n",
       "      <th>130272</th>\n",
       "      <td>21st Century Wire says Al Jazeera America will...</td>\n",
       "      <td>0</td>\n",
       "      <td>Middle-east</td>\n",
       "      <td>How to Blow $700 Million: Al Jazeera America F...</td>\n",
       "      <td>January 14, 2016</td>\n",
       "    </tr>\n",
       "    <tr>\n",
       "      <th>130273</th>\n",
       "      <td>21st Century Wire says As 21WIRE predicted in ...</td>\n",
       "      <td>0</td>\n",
       "      <td>Middle-east</td>\n",
       "      <td>10 U.S. Navy Sailors Held by Iranian Military ...</td>\n",
       "      <td>January 12, 2016</td>\n",
       "    </tr>\n",
       "  </tbody>\n",
       "</table>\n",
       "<p>128930 rows × 5 columns</p>\n",
       "</div>"
      ],
      "text/plain": [
       "                                                     text  real      subject  \\\n",
       "0       Donald Trump just couldn t wish all Americans ...     0         None   \n",
       "1       House Intelligence Committee Chairman Devin Nu...     0         None   \n",
       "2       On Friday, it was revealed that former Milwauk...     0         None   \n",
       "4       Pope Francis used his annual Christmas Day mes...     0         None   \n",
       "5       The number of cases of cops brutalizing and ki...     0         None   \n",
       "...                                                   ...   ...          ...   \n",
       "130269  21st Century Wire says As 21WIRE reported earl...     0  Middle-east   \n",
       "130270  21st Century Wire says It s a familiar theme. ...     0  Middle-east   \n",
       "130271  Patrick Henningsen  21st Century WireRemember ...     0  Middle-east   \n",
       "130272  21st Century Wire says Al Jazeera America will...     0  Middle-east   \n",
       "130273  21st Century Wire says As 21WIRE predicted in ...     0  Middle-east   \n",
       "\n",
       "                                                    title              date  \n",
       "0                                                    None              None  \n",
       "1                                                    None              None  \n",
       "2                                                    None              None  \n",
       "4                                                    None              None  \n",
       "5                                                    None              None  \n",
       "...                                                   ...               ...  \n",
       "130269  McPain: John McCain Furious That Iran Treated ...  January 16, 2016  \n",
       "130270  JUSTICE? Yahoo Settles E-mail Privacy Class-ac...  January 16, 2016  \n",
       "130271  Sunnistan: US and Allied ‘Safe Zone’ Plan to T...  January 15, 2016  \n",
       "130272  How to Blow $700 Million: Al Jazeera America F...  January 14, 2016  \n",
       "130273  10 U.S. Navy Sailors Held by Iranian Military ...  January 12, 2016  \n",
       "\n",
       "[128930 rows x 5 columns]"
      ]
     },
     "execution_count": 2,
     "metadata": {},
     "output_type": "execute_result"
    }
   ],
   "source": [
    "News_df = pd.read_pickle('News_df.pkl')\n",
    "News_df"
   ]
  },
  {
   "cell_type": "code",
   "execution_count": 3,
   "id": "44750414",
   "metadata": {},
   "outputs": [
    {
     "name": "stdout",
     "output_type": "stream",
     "text": [
      "<class 'pandas.core.frame.DataFrame'>\n",
      "Int64Index: 128930 entries, 0 to 130273\n",
      "Data columns (total 5 columns):\n",
      " #   Column   Non-Null Count   Dtype \n",
      "---  ------   --------------   ----- \n",
      " 0   text     128930 non-null  object\n",
      " 1   real     128930 non-null  int64 \n",
      " 2   subject  128930 non-null  object\n",
      " 3   title    128930 non-null  object\n",
      " 4   date     128930 non-null  object\n",
      "dtypes: int64(1), object(4)\n",
      "memory usage: 5.9+ MB\n"
     ]
    }
   ],
   "source": [
    "News_df.info()\n"
   ]
  },
  {
   "cell_type": "code",
   "execution_count": 4,
   "id": "1f459c00",
   "metadata": {},
   "outputs": [
    {
     "data": {
      "text/plain": [
       "'Donald Trump just couldn t wish all Americans a Happy New Year and leave it at that. Instead, he had to give a shout out to his enemies, haters and  the very dishonest fake news media.  The former reality show star had just one job to do and he couldn t do it. As our Country rapidly grows stronger and smarter, I want to wish all of my friends, supporters, enemies, haters, and even the very dishonest Fake News Media, a Happy and Healthy New Year,  President Angry Pants tweeted.  2018 will be a gr'"
      ]
     },
     "execution_count": 4,
     "metadata": {},
     "output_type": "execute_result"
    }
   ],
   "source": [
    "News_df['text'][0][:500]"
   ]
  },
  {
   "cell_type": "code",
   "execution_count": 5,
   "id": "2796fac9",
   "metadata": {},
   "outputs": [
    {
     "data": {
      "text/html": [
       "<div>\n",
       "<style scoped>\n",
       "    .dataframe tbody tr th:only-of-type {\n",
       "        vertical-align: middle;\n",
       "    }\n",
       "\n",
       "    .dataframe tbody tr th {\n",
       "        vertical-align: top;\n",
       "    }\n",
       "\n",
       "    .dataframe thead th {\n",
       "        text-align: right;\n",
       "    }\n",
       "</style>\n",
       "<table border=\"1\" class=\"dataframe\">\n",
       "  <thead>\n",
       "    <tr style=\"text-align: right;\">\n",
       "      <th></th>\n",
       "      <th>text</th>\n",
       "      <th>real</th>\n",
       "      <th>subject</th>\n",
       "      <th>title</th>\n",
       "      <th>date</th>\n",
       "    </tr>\n",
       "  </thead>\n",
       "  <tbody>\n",
       "    <tr>\n",
       "      <th>0</th>\n",
       "      <td>Donald Trump just couldn t wish all Americans ...</td>\n",
       "      <td>0</td>\n",
       "      <td>None</td>\n",
       "      <td>None</td>\n",
       "      <td>None</td>\n",
       "    </tr>\n",
       "    <tr>\n",
       "      <th>1</th>\n",
       "      <td>House Intelligence Committee Chairman Devin Nu...</td>\n",
       "      <td>0</td>\n",
       "      <td>None</td>\n",
       "      <td>None</td>\n",
       "      <td>None</td>\n",
       "    </tr>\n",
       "    <tr>\n",
       "      <th>2</th>\n",
       "      <td>On Friday, it was revealed that former Milwauk...</td>\n",
       "      <td>0</td>\n",
       "      <td>None</td>\n",
       "      <td>None</td>\n",
       "      <td>None</td>\n",
       "    </tr>\n",
       "    <tr>\n",
       "      <th>4</th>\n",
       "      <td>Pope Francis used his annual Christmas Day mes...</td>\n",
       "      <td>0</td>\n",
       "      <td>None</td>\n",
       "      <td>None</td>\n",
       "      <td>None</td>\n",
       "    </tr>\n",
       "    <tr>\n",
       "      <th>5</th>\n",
       "      <td>The number of cases of cops brutalizing and ki...</td>\n",
       "      <td>0</td>\n",
       "      <td>None</td>\n",
       "      <td>None</td>\n",
       "      <td>None</td>\n",
       "    </tr>\n",
       "  </tbody>\n",
       "</table>\n",
       "</div>"
      ],
      "text/plain": [
       "                                                text  real subject title  date\n",
       "0  Donald Trump just couldn t wish all Americans ...     0    None  None  None\n",
       "1  House Intelligence Committee Chairman Devin Nu...     0    None  None  None\n",
       "2  On Friday, it was revealed that former Milwauk...     0    None  None  None\n",
       "4  Pope Francis used his annual Christmas Day mes...     0    None  None  None\n",
       "5  The number of cases of cops brutalizing and ki...     0    None  None  None"
      ]
     },
     "execution_count": 5,
     "metadata": {},
     "output_type": "execute_result"
    }
   ],
   "source": [
    "News_df.head()"
   ]
  },
  {
   "cell_type": "code",
   "execution_count": 6,
   "id": "97b2719c",
   "metadata": {},
   "outputs": [],
   "source": [
    "News_df_samp = News_df.sample(1000, random_state = 1701)\n",
    "News_df_samp.reset_index(inplace = True)"
   ]
  },
  {
   "cell_type": "code",
   "execution_count": 7,
   "id": "49ae5559",
   "metadata": {},
   "outputs": [],
   "source": [
    "for i in range (5):\n",
    "    contractions.fix(News_df_samp['text'][i])"
   ]
  },
  {
   "cell_type": "code",
   "execution_count": 8,
   "id": "ee57629f",
   "metadata": {},
   "outputs": [
    {
     "data": {
      "text/plain": [
       "'Trump Spokesperson Katrina Pierson Caught In Blatant Lie, Threatened With Lawsuit (VIDEO) By Andrew Bradford   \\nThe Donald Trump for President campaign is filled with liars. From the candidate himself to the people who attempt to defend him on television, the default position for anyone who gets a paycheck from Trump is dishonesty. And perhaps no one better personifies this than spokesperson Katrina Pierson, who went so far on CNN this morning that she was threatened with a lawsuit. \\nPierson appeared, along with Democratic strategist Angela Rye, and Pierson began her lies by saying the American middle class is in trouble due to the economic policies of the Obama administration. Rye countered with facts : “I would like to go back to something Katrina mentioned, which was the middle class is hurting. Well I would go to what we’ve learned from the census bureau last year which is the middle class, and poor people, had the best year they’ve had ever since — in 2015. In quite some time rather. I won’t say ever. It says that real median household income was $56,500 in 2015. That is an increase from $53,700 the year prior. I would also point to you the fact that the unemployment rate is much lower than when President Obama started.” \\nThen host Carol Costello played a video clip of Trump referring to “ghettos,” and that led Rye to comment: “People like Donald Trump actually take for granted the fact that they have readily available access to capital.” \\nPierson began spitting and sputtering, so Rye told her: “I know you don’t want to hear this because the truth burns.” \\nUnable to come up with a reasoned defense, Pierson went personal, alleging that when Rye worked for the Congressional Black Caucus (CBC), she “ran (it) into the ground.” \\nRye replied: “I ran the CBC into the ground? That’s laughable.” \\nWhen Carol Costello asked Pierson exactly what she was referring to, Pierson told her : “The record is out there. Look at where the finances were.” \\nRye: “Let me just help you. Good luck with that lie. That’s crazy, what you’re talking about. That’s slander. I could sue you, Katrina.” \\nOnly problem is, if she did sue Pierson, she might not get much money. Pierson, you may recall, was arrested in 1997 for shoplifting and was also accused of illegally collecting unemployment benefits. Those who live in glass houses should never ever throw rocks at others, Katrina. \\nFeatured Image Via CNN Screengrab About Andrew Bradford \\nAndrew Bradford is a single father who lives in A'"
      ]
     },
     "execution_count": 8,
     "metadata": {},
     "output_type": "execute_result"
    }
   ],
   "source": [
    "News_df_samp['text'][3][:2500]"
   ]
  },
  {
   "cell_type": "code",
   "execution_count": 10,
   "id": "42c076db",
   "metadata": {},
   "outputs": [],
   "source": [
    "News_df_samp['text'] = News_df_samp['text'].str.replace('\\n','')"
   ]
  },
  {
   "cell_type": "code",
   "execution_count": 11,
   "id": "73454992",
   "metadata": {},
   "outputs": [
    {
     "data": {
      "text/html": [
       "<div>\n",
       "<style scoped>\n",
       "    .dataframe tbody tr th:only-of-type {\n",
       "        vertical-align: middle;\n",
       "    }\n",
       "\n",
       "    .dataframe tbody tr th {\n",
       "        vertical-align: top;\n",
       "    }\n",
       "\n",
       "    .dataframe thead th {\n",
       "        text-align: right;\n",
       "    }\n",
       "</style>\n",
       "<table border=\"1\" class=\"dataframe\">\n",
       "  <thead>\n",
       "    <tr style=\"text-align: right;\">\n",
       "      <th></th>\n",
       "      <th>index</th>\n",
       "      <th>text</th>\n",
       "      <th>real</th>\n",
       "      <th>subject</th>\n",
       "      <th>title</th>\n",
       "      <th>date</th>\n",
       "    </tr>\n",
       "  </thead>\n",
       "  <tbody>\n",
       "    <tr>\n",
       "      <th>0</th>\n",
       "      <td>73898</td>\n",
       "      <td>President Donald Trump met Lilian Tintori, the...</td>\n",
       "      <td>1</td>\n",
       "      <td>None</td>\n",
       "      <td>None</td>\n",
       "      <td>None</td>\n",
       "    </tr>\n",
       "    <tr>\n",
       "      <th>1</th>\n",
       "      <td>6225</td>\n",
       "      <td>It s no doubt Hillary Clinton has made gun vio...</td>\n",
       "      <td>0</td>\n",
       "      <td>None</td>\n",
       "      <td>None</td>\n",
       "      <td>None</td>\n",
       "    </tr>\n",
       "    <tr>\n",
       "      <th>2</th>\n",
       "      <td>17339</td>\n",
       "      <td>This story is a perfect example of how Muslim ...</td>\n",
       "      <td>0</td>\n",
       "      <td>None</td>\n",
       "      <td>None</td>\n",
       "      <td>None</td>\n",
       "    </tr>\n",
       "    <tr>\n",
       "      <th>3</th>\n",
       "      <td>26503</td>\n",
       "      <td>Trump Spokesperson Katrina Pierson Caught In B...</td>\n",
       "      <td>0</td>\n",
       "      <td>None</td>\n",
       "      <td>None</td>\n",
       "      <td>None</td>\n",
       "    </tr>\n",
       "    <tr>\n",
       "      <th>4</th>\n",
       "      <td>71903</td>\n",
       "      <td>How do New York Times journalists use technolo...</td>\n",
       "      <td>1</td>\n",
       "      <td>None</td>\n",
       "      <td>None</td>\n",
       "      <td>None</td>\n",
       "    </tr>\n",
       "    <tr>\n",
       "      <th>...</th>\n",
       "      <td>...</td>\n",
       "      <td>...</td>\n",
       "      <td>...</td>\n",
       "      <td>...</td>\n",
       "      <td>...</td>\n",
       "      <td>...</td>\n",
       "    </tr>\n",
       "    <tr>\n",
       "      <th>995</th>\n",
       "      <td>60974</td>\n",
       "      <td>The prospect of running for re-election with D...</td>\n",
       "      <td>1</td>\n",
       "      <td>None</td>\n",
       "      <td>None</td>\n",
       "      <td>None</td>\n",
       "    </tr>\n",
       "    <tr>\n",
       "      <th>996</th>\n",
       "      <td>77078</td>\n",
       "      <td>They went to unusual, even dangerous lengths t...</td>\n",
       "      <td>1</td>\n",
       "      <td>None</td>\n",
       "      <td>None</td>\n",
       "      <td>None</td>\n",
       "    </tr>\n",
       "    <tr>\n",
       "      <th>997</th>\n",
       "      <td>124416</td>\n",
       "      <td>This story is about more than a massive cover-...</td>\n",
       "      <td>0</td>\n",
       "      <td>left-news</td>\n",
       "      <td>BLACK CAUCUS MEMBER From Impoverished Detroit ...</td>\n",
       "      <td>Nov 21, 2017</td>\n",
       "    </tr>\n",
       "    <tr>\n",
       "      <th>998</th>\n",
       "      <td>88818</td>\n",
       "      <td>WASHINGTON (Reuters) - Former FBI Director Jam...</td>\n",
       "      <td>1</td>\n",
       "      <td>politicsNews</td>\n",
       "      <td>Comey to testify to U.S. Senate intelligence p...</td>\n",
       "      <td>June 1, 2017</td>\n",
       "    </tr>\n",
       "    <tr>\n",
       "      <th>999</th>\n",
       "      <td>15552</td>\n",
       "      <td>Dems Panic In 5 4 3 2 1 Donald Trump s preside...</td>\n",
       "      <td>0</td>\n",
       "      <td>None</td>\n",
       "      <td>None</td>\n",
       "      <td>None</td>\n",
       "    </tr>\n",
       "  </tbody>\n",
       "</table>\n",
       "<p>1000 rows × 6 columns</p>\n",
       "</div>"
      ],
      "text/plain": [
       "      index                                               text  real  \\\n",
       "0     73898  President Donald Trump met Lilian Tintori, the...     1   \n",
       "1      6225  It s no doubt Hillary Clinton has made gun vio...     0   \n",
       "2     17339  This story is a perfect example of how Muslim ...     0   \n",
       "3     26503  Trump Spokesperson Katrina Pierson Caught In B...     0   \n",
       "4     71903  How do New York Times journalists use technolo...     1   \n",
       "..      ...                                                ...   ...   \n",
       "995   60974  The prospect of running for re-election with D...     1   \n",
       "996   77078  They went to unusual, even dangerous lengths t...     1   \n",
       "997  124416  This story is about more than a massive cover-...     0   \n",
       "998   88818  WASHINGTON (Reuters) - Former FBI Director Jam...     1   \n",
       "999   15552  Dems Panic In 5 4 3 2 1 Donald Trump s preside...     0   \n",
       "\n",
       "          subject                                              title  \\\n",
       "0            None                                               None   \n",
       "1            None                                               None   \n",
       "2            None                                               None   \n",
       "3            None                                               None   \n",
       "4            None                                               None   \n",
       "..            ...                                                ...   \n",
       "995          None                                               None   \n",
       "996          None                                               None   \n",
       "997     left-news  BLACK CAUCUS MEMBER From Impoverished Detroit ...   \n",
       "998  politicsNews  Comey to testify to U.S. Senate intelligence p...   \n",
       "999          None                                               None   \n",
       "\n",
       "              date  \n",
       "0             None  \n",
       "1             None  \n",
       "2             None  \n",
       "3             None  \n",
       "4             None  \n",
       "..             ...  \n",
       "995           None  \n",
       "996           None  \n",
       "997   Nov 21, 2017  \n",
       "998  June 1, 2017   \n",
       "999           None  \n",
       "\n",
       "[1000 rows x 6 columns]"
      ]
     },
     "execution_count": 11,
     "metadata": {},
     "output_type": "execute_result"
    }
   ],
   "source": [
    "News_df_samp"
   ]
  },
  {
   "cell_type": "code",
   "execution_count": 12,
   "id": "f1f36da4",
   "metadata": {},
   "outputs": [
    {
     "data": {
      "text/plain": [
       "'Trump Spokesperson Katrina Pierson Caught In Blatant Lie, Threatened With Lawsuit (VIDEO) By Andrew Bradford   The Donald Trump for President campaign is filled with liars. From the candidate himself to the people who attempt to defend him on television, the default position for anyone who gets a paycheck from Trump is dishonesty. And perhaps no one better personifies this than spokesperson Katrina Pierson, who went so far on CNN this morning that she was threatened with a lawsuit. Pierson appeared, along with Democratic strategist Angela Rye, and Pierson began her lies by saying the American middle class is in trouble due to the economic policies of the Obama administration. Rye countered with facts : “I would like to go back to something Katrina mentioned, which was the middle class is hurting. Well I would go to what we’ve learned from the census bureau last year which is the middle class, and poor people, had the best year they’ve had ever since — in 2015. In quite some time rather. I won’t say ever. It says that real median household income was $56,500 in 2015. That is an increase from $53,700 the year prior. I would also point to you the fact that the unemployment rate is much lower than when President Obama started.” Then host Carol Costello played a video clip of Trump referring to “ghettos,” and that led Rye to comment: “People like Donald Trump actually take for granted the fact that they have readily available access to capital.” Pierson began spitting and sputtering, so Rye told her: “I know you don’t want to hear this because the truth burns.” Unable to come up with a reasoned defense, Pierson went personal, alleging that when Rye worked for the Congressional Black Caucus (CBC), she “ran (it) into the ground.” Rye replied: “I ran the CBC into the ground? That’s laughable.” When Carol Costello asked Pierson exactly what she was referring to, Pierson told her : “The record is out there. Look at where the finances were.” Rye: “Let me just help you. Good luck with that lie. That’s crazy, what you’re talking about. That’s slander. I could sue you, Katrina.” Only problem is, if she did sue Pierson, she might not get much money. Pierson, you may recall, was arrested in 1997 for shoplifting and was also accused of illegally collecting unemployment benefits. Those who live in glass houses should never ever throw rocks at others, Katrina. Featured Image Via CNN Screengrab About Andrew Bradford Andrew Bradford is a single father who lives in Atlanta. A member of the Christian Left, he has worked in the fields of academia, journalism, and political consulting. His passions are art, music, food, and literature. He believes in equal rights and justice for all. To see what else he likes to write about, check out his blog at Deepleftfield.info. Connect'"
      ]
     },
     "execution_count": 12,
     "metadata": {},
     "output_type": "execute_result"
    }
   ],
   "source": [
    "News_df_samp['text'][3]"
   ]
  },
  {
   "cell_type": "code",
   "execution_count": 27,
   "id": "f8159245",
   "metadata": {},
   "outputs": [
    {
     "name": "stderr",
     "output_type": "stream",
     "text": [
      "C:\\Users\\danie\\AppData\\Local\\Temp\\ipykernel_13520\\1916513632.py:5: SettingWithCopyWarning: \n",
      "A value is trying to be set on a copy of a slice from a DataFrame\n",
      "\n",
      "See the caveats in the documentation: https://pandas.pydata.org/pandas-docs/stable/user_guide/indexing.html#returning-a-view-versus-a-copy\n",
      "  News_df_samp['fk_grade'][i] = fk.grade_level\n"
     ]
    },
    {
     "ename": "ReadabilityException",
     "evalue": "100 words required.",
     "output_type": "error",
     "traceback": [
      "\u001b[1;31m---------------------------------------------------------------------------\u001b[0m",
      "\u001b[1;31mReadabilityException\u001b[0m                      Traceback (most recent call last)",
      "\u001b[1;32m~\\AppData\\Local\\Temp\\ipykernel_13520\\1916513632.py\u001b[0m in \u001b[0;36m<module>\u001b[1;34m\u001b[0m\n\u001b[0;32m      2\u001b[0m \u001b[1;32mfor\u001b[0m \u001b[0mi\u001b[0m \u001b[1;32min\u001b[0m \u001b[0mrange\u001b[0m\u001b[1;33m(\u001b[0m\u001b[1;36m1000\u001b[0m\u001b[1;33m)\u001b[0m\u001b[1;33m:\u001b[0m\u001b[1;33m\u001b[0m\u001b[1;33m\u001b[0m\u001b[0m\n\u001b[0;32m      3\u001b[0m     \u001b[0mr\u001b[0m \u001b[1;33m=\u001b[0m \u001b[0mReadability\u001b[0m\u001b[1;33m(\u001b[0m\u001b[0mNews_df_samp\u001b[0m\u001b[1;33m[\u001b[0m\u001b[1;34m'text'\u001b[0m\u001b[1;33m]\u001b[0m\u001b[1;33m[\u001b[0m\u001b[0mi\u001b[0m\u001b[1;33m]\u001b[0m\u001b[1;33m)\u001b[0m\u001b[1;33m\u001b[0m\u001b[1;33m\u001b[0m\u001b[0m\n\u001b[1;32m----> 4\u001b[1;33m     \u001b[0mfk\u001b[0m \u001b[1;33m=\u001b[0m \u001b[0mr\u001b[0m\u001b[1;33m.\u001b[0m\u001b[0mflesch_kincaid\u001b[0m\u001b[1;33m(\u001b[0m\u001b[1;33m)\u001b[0m\u001b[1;33m\u001b[0m\u001b[1;33m\u001b[0m\u001b[0m\n\u001b[0m\u001b[0;32m      5\u001b[0m     \u001b[0mNews_df_samp\u001b[0m\u001b[1;33m[\u001b[0m\u001b[1;34m'fk_grade'\u001b[0m\u001b[1;33m]\u001b[0m\u001b[1;33m[\u001b[0m\u001b[0mi\u001b[0m\u001b[1;33m]\u001b[0m \u001b[1;33m=\u001b[0m \u001b[0mfk\u001b[0m\u001b[1;33m.\u001b[0m\u001b[0mgrade_level\u001b[0m\u001b[1;33m\u001b[0m\u001b[1;33m\u001b[0m\u001b[0m\n\u001b[0;32m      6\u001b[0m \u001b[0mprint\u001b[0m\u001b[1;33m(\u001b[0m\u001b[0mNews_df_samp\u001b[0m\u001b[1;33m.\u001b[0m\u001b[0mhead\u001b[0m\u001b[1;33m(\u001b[0m\u001b[1;33m)\u001b[0m\u001b[1;33m)\u001b[0m\u001b[1;33m\u001b[0m\u001b[1;33m\u001b[0m\u001b[0m\n",
      "\u001b[1;32mC:\\ProgramData\\Anaconda3\\lib\\site-packages\\readability\\readability.py\u001b[0m in \u001b[0;36mflesch_kincaid\u001b[1;34m(self)\u001b[0m\n\u001b[0;32m     27\u001b[0m     \u001b[1;32mdef\u001b[0m \u001b[0mflesch_kincaid\u001b[0m\u001b[1;33m(\u001b[0m\u001b[0mself\u001b[0m\u001b[1;33m)\u001b[0m\u001b[1;33m:\u001b[0m\u001b[1;33m\u001b[0m\u001b[1;33m\u001b[0m\u001b[0m\n\u001b[0;32m     28\u001b[0m         \u001b[1;34m\"\"\"Calculate Flesch-Kincaid Grade Level.\"\"\"\u001b[0m\u001b[1;33m\u001b[0m\u001b[1;33m\u001b[0m\u001b[0m\n\u001b[1;32m---> 29\u001b[1;33m         \u001b[1;32mreturn\u001b[0m \u001b[0mFleschKincaid\u001b[0m\u001b[1;33m(\u001b[0m\u001b[0mself\u001b[0m\u001b[1;33m.\u001b[0m\u001b[0m_statistics\u001b[0m\u001b[1;33m)\u001b[0m\u001b[1;33m.\u001b[0m\u001b[0mscore\u001b[0m\u001b[1;33m(\u001b[0m\u001b[1;33m)\u001b[0m\u001b[1;33m\u001b[0m\u001b[1;33m\u001b[0m\u001b[0m\n\u001b[0m\u001b[0;32m     30\u001b[0m \u001b[1;33m\u001b[0m\u001b[0m\n\u001b[0;32m     31\u001b[0m     \u001b[1;32mdef\u001b[0m \u001b[0mgunning_fog\u001b[0m\u001b[1;33m(\u001b[0m\u001b[0mself\u001b[0m\u001b[1;33m)\u001b[0m\u001b[1;33m:\u001b[0m\u001b[1;33m\u001b[0m\u001b[1;33m\u001b[0m\u001b[0m\n",
      "\u001b[1;32mC:\\ProgramData\\Anaconda3\\lib\\site-packages\\readability\\scorers\\flesch_kincaid.py\u001b[0m in \u001b[0;36m__init__\u001b[1;34m(self, stats)\u001b[0m\n\u001b[0;32m     16\u001b[0m         \u001b[0mself\u001b[0m\u001b[1;33m.\u001b[0m\u001b[0m_stats\u001b[0m \u001b[1;33m=\u001b[0m \u001b[0mstats\u001b[0m\u001b[1;33m\u001b[0m\u001b[1;33m\u001b[0m\u001b[0m\n\u001b[0;32m     17\u001b[0m         \u001b[1;32mif\u001b[0m \u001b[0mstats\u001b[0m\u001b[1;33m.\u001b[0m\u001b[0mnum_words\u001b[0m \u001b[1;33m<\u001b[0m \u001b[1;36m100\u001b[0m\u001b[1;33m:\u001b[0m\u001b[1;33m\u001b[0m\u001b[1;33m\u001b[0m\u001b[0m\n\u001b[1;32m---> 18\u001b[1;33m             \u001b[1;32mraise\u001b[0m \u001b[0mReadabilityException\u001b[0m\u001b[1;33m(\u001b[0m\u001b[1;34m'100 words required.'\u001b[0m\u001b[1;33m)\u001b[0m\u001b[1;33m\u001b[0m\u001b[1;33m\u001b[0m\u001b[0m\n\u001b[0m\u001b[0;32m     19\u001b[0m \u001b[1;33m\u001b[0m\u001b[0m\n\u001b[0;32m     20\u001b[0m     \u001b[1;32mdef\u001b[0m \u001b[0mscore\u001b[0m\u001b[1;33m(\u001b[0m\u001b[0mself\u001b[0m\u001b[1;33m)\u001b[0m\u001b[1;33m:\u001b[0m\u001b[1;33m\u001b[0m\u001b[1;33m\u001b[0m\u001b[0m\n",
      "\u001b[1;31mReadabilityException\u001b[0m: 100 words required."
     ]
    }
   ],
   "source": [
    "News_df_samp['fk_grade'] = np.empty(1000)\n",
    "for i in range(1000):    \n",
    "    r = Readability(News_df_samp['text'][i])\n",
    "    fk = r.flesch_kincaid()\n",
    "    News_df_samp['fk_grade'][i] = fk.grade_level\n",
    "print(News_df_samp.head())\n"
   ]
  },
  {
   "cell_type": "code",
   "execution_count": 14,
   "id": "64d95fdd",
   "metadata": {},
   "outputs": [
    {
     "name": "stdout",
     "output_type": "stream",
     "text": [
      "[['college'], ['college'], ['college'], ['8', '9'], ['8', '9']]\n"
     ]
    }
   ],
   "source": [
    "rlist_fe = []\n",
    "for i in range(5):    \n",
    "    r = Readability(News_df_samp['text'][i])\n",
    "    f = r.flesch()\n",
    "    rlist_fe.append(f.grade_levels)\n",
    "print(rlist_fe)"
   ]
  },
  {
   "cell_type": "code",
   "execution_count": 15,
   "id": "8eba88ee",
   "metadata": {},
   "outputs": [
    {
     "name": "stdout",
     "output_type": "stream",
     "text": [
      "[['college_graduate'], ['college_graduate'], ['college_graduate'], ['college'], ['college']]\n"
     ]
    }
   ],
   "source": [
    "rlist_dc = []\n",
    "for i in range(5):    \n",
    "    r = Readability(News_df_samp['text'][i])\n",
    "    dc = r.dale_chall()\n",
    "    rlist_dc.append(dc.grade_levels)\n",
    "print(rlist_dc)"
   ]
  },
  {
   "cell_type": "code",
   "execution_count": 16,
   "id": "5d91d310",
   "metadata": {},
   "outputs": [
    {
     "name": "stdout",
     "output_type": "stream",
     "text": [
      "[['college_graduate'], ['college_graduate'], ['college_graduate'], ['10'], ['8']]\n"
     ]
    }
   ],
   "source": [
    "rlist_ari = []\n",
    "for i in range(5):    \n",
    "    r = Readability(News_df_samp['text'][i])\n",
    "    ari = r.ari()\n",
    "    rlist_ari.append(ari.grade_levels)\n",
    "print(rlist_ari)"
   ]
  },
  {
   "cell_type": "code",
   "execution_count": 17,
   "id": "7944e313",
   "metadata": {},
   "outputs": [
    {
     "name": "stdout",
     "output_type": "stream",
     "text": [
      "['13', '11', '13', '9', '6']\n"
     ]
    }
   ],
   "source": [
    "rlist_cl = []\n",
    "for i in range(5):    \n",
    "    r = Readability(News_df_samp['text'][i])\n",
    "    cl = r.coleman_liau()\n",
    "    rlist_cl.append(cl.grade_level)\n",
    "print(rlist_cl)"
   ]
  },
  {
   "cell_type": "code",
   "execution_count": 18,
   "id": "5694fa54",
   "metadata": {},
   "outputs": [
    {
     "name": "stdout",
     "output_type": "stream",
     "text": [
      "['13', '11', '13', '9', '6']\n"
     ]
    }
   ],
   "source": [
    "rlist_gf = []\n",
    "for i in range(5):    \n",
    "    r = Readability(News_df_samp['text'][i])\n",
    "    gf = r.coleman_liau()\n",
    "    rlist_gf.append(gf.grade_level)\n",
    "print(rlist_gf)"
   ]
  },
  {
   "cell_type": "code",
   "execution_count": 20,
   "id": "46f421ca",
   "metadata": {},
   "outputs": [
    {
     "name": "stdout",
     "output_type": "stream",
     "text": [
      "['8', '10', '8', '7', '6']\n"
     ]
    }
   ],
   "source": [
    "rlist_s = []\n",
    "for i in range(5):    \n",
    "    r = Readability(News_df_samp['text'][i])\n",
    "    s = r.spache()\n",
    "    rlist_s.append(s.grade_level)\n",
    "print(rlist_s)"
   ]
  },
  {
   "cell_type": "code",
   "execution_count": 21,
   "id": "2d52d4fb",
   "metadata": {},
   "outputs": [
    {
     "name": "stdout",
     "output_type": "stream",
     "text": [
      "['8', '10', '8', '7', '6']\n"
     ]
    }
   ],
   "source": [
    "rlist_lw = []\n",
    "for i in range(5):    \n",
    "    r = Readability(News_df_samp['text'][i])\n",
    "    lw = r.linsear_write()\n",
    "    rlist_lw.append(lw.grade_level)\n",
    "print(rlist_s)"
   ]
  },
  {
   "cell_type": "code",
   "execution_count": 23,
   "id": "c9b01699",
   "metadata": {},
   "outputs": [
    {
     "data": {
      "text/plain": [
       "'\\nNot tried in this notebook was the SMOG readability formula. This requires at least 20 sentences, less than some of the articles\\nand thus was eliminated from consideration. Also as flesch, Dale Chall, and ari, sometypes give non-numeric input for grade\\nlevel and will be eliminated from grade level analysis. \\n'"
      ]
     },
     "execution_count": 23,
     "metadata": {},
     "output_type": "execute_result"
    }
   ],
   "source": [
    "'''\n",
    "Not tried in this notebook was the SMOG readability formula. This requires at least 20 sentences, less than some of the articles\n",
    "and thus was eliminated from consideration. Also as flesch, Dale Chall, and ari, sometypes give non-numeric input for grade\n",
    "level and will be eliminated from grade level analysis. \n",
    "'''"
   ]
  },
  {
   "cell_type": "code",
   "execution_count": null,
   "id": "cbb26e4b",
   "metadata": {},
   "outputs": [],
   "source": []
  }
 ],
 "metadata": {
  "kernelspec": {
   "display_name": "Python 3 (ipykernel)",
   "language": "python",
   "name": "python3"
  },
  "language_info": {
   "codemirror_mode": {
    "name": "ipython",
    "version": 3
   },
   "file_extension": ".py",
   "mimetype": "text/x-python",
   "name": "python",
   "nbconvert_exporter": "python",
   "pygments_lexer": "ipython3",
   "version": "3.9.13"
  }
 },
 "nbformat": 4,
 "nbformat_minor": 5
}
