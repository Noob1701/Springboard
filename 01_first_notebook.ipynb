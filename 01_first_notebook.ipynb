{
 "cells": [
  {
   "cell_type": "markdown",
   "id": "50f4e9b5",
   "metadata": {},
   "source": [
    "# Introduction\n",
    "    "
   ]
  },
  {
   "cell_type": "markdown",
   "id": "cb2b7192",
   "metadata": {},
   "source": [
    " This is my *first* Jupyter Notebook\n"
   ]
  },
  {
   "cell_type": "code",
   "execution_count": 2,
   "id": "7290ea49",
   "metadata": {},
   "outputs": [
    {
     "name": "stdout",
     "output_type": "stream",
     "text": [
      "11\n"
     ]
    }
   ],
   "source": [
    "x = 5\n",
    "y = 6\n",
    "z = x + y\n",
    "print(z)"
   ]
  },
  {
   "cell_type": "code",
   "execution_count": null,
   "id": "9a091254",
   "metadata": {},
   "outputs": [],
   "source": []
  },
  {
   "cell_type": "code",
   "execution_count": null,
   "id": "488d1fa4",
   "metadata": {},
   "outputs": [],
   "source": []
  }
 ],
 "metadata": {
  "kernelspec": {
   "display_name": "Python 3 (ipykernel)",
   "language": "python",
   "name": "python3"
  },
  "language_info": {
   "codemirror_mode": {
    "name": "ipython",
    "version": 3
   },
   "file_extension": ".py",
   "mimetype": "text/x-python",
   "name": "python",
   "nbconvert_exporter": "python",
   "pygments_lexer": "ipython3",
   "version": "3.9.13"
  }
 },
 "nbformat": 4,
 "nbformat_minor": 5
}
