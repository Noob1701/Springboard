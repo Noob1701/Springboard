{
 "cells": [
  {
   "cell_type": "code",
   "execution_count": 1,
   "id": "c9b8a50b",
   "metadata": {},
   "outputs": [],
   "source": [
    "import pandas as pd\n",
    "import numpy as np\n",
    "from pandas.tseries.offsets import DateOffset\n",
    "import matplotlib.pyplot as plt\n",
    "from sklearn.ensemble import RandomForestRegressor\n",
    "from sklearn.model_selection import train_test_split\n",
    "from sklearn import metrics\n",
    "from sklearn.metrics import r2_score\n",
    "from sklearn.metrics import mean_absolute_percentage_error\n"
   ]
  },
  {
   "cell_type": "code",
   "execution_count": 2,
   "id": "be8b0c4e",
   "metadata": {},
   "outputs": [],
   "source": [
    "login_df = pd.read_json('logins.json')"
   ]
  },
  {
   "cell_type": "code",
   "execution_count": 3,
   "id": "f7c40fae",
   "metadata": {},
   "outputs": [
    {
     "data": {
      "text/html": [
       "<div>\n",
       "<style scoped>\n",
       "    .dataframe tbody tr th:only-of-type {\n",
       "        vertical-align: middle;\n",
       "    }\n",
       "\n",
       "    .dataframe tbody tr th {\n",
       "        vertical-align: top;\n",
       "    }\n",
       "\n",
       "    .dataframe thead th {\n",
       "        text-align: right;\n",
       "    }\n",
       "</style>\n",
       "<table border=\"1\" class=\"dataframe\">\n",
       "  <thead>\n",
       "    <tr style=\"text-align: right;\">\n",
       "      <th></th>\n",
       "      <th>login_time</th>\n",
       "    </tr>\n",
       "  </thead>\n",
       "  <tbody>\n",
       "    <tr>\n",
       "      <th>0</th>\n",
       "      <td>1970-01-01 20:13:18</td>\n",
       "    </tr>\n",
       "    <tr>\n",
       "      <th>1</th>\n",
       "      <td>1970-01-01 20:16:10</td>\n",
       "    </tr>\n",
       "    <tr>\n",
       "      <th>2</th>\n",
       "      <td>1970-01-01 20:16:37</td>\n",
       "    </tr>\n",
       "    <tr>\n",
       "      <th>3</th>\n",
       "      <td>1970-01-01 20:16:36</td>\n",
       "    </tr>\n",
       "    <tr>\n",
       "      <th>4</th>\n",
       "      <td>1970-01-01 20:26:21</td>\n",
       "    </tr>\n",
       "  </tbody>\n",
       "</table>\n",
       "</div>"
      ],
      "text/plain": [
       "           login_time\n",
       "0 1970-01-01 20:13:18\n",
       "1 1970-01-01 20:16:10\n",
       "2 1970-01-01 20:16:37\n",
       "3 1970-01-01 20:16:36\n",
       "4 1970-01-01 20:26:21"
      ]
     },
     "execution_count": 3,
     "metadata": {},
     "output_type": "execute_result"
    }
   ],
   "source": [
    "login_df.head()"
   ]
  },
  {
   "cell_type": "code",
   "execution_count": 4,
   "id": "16dee363",
   "metadata": {},
   "outputs": [
    {
     "data": {
      "text/plain": [
       "dtype('<M8[ns]')"
      ]
     },
     "execution_count": 4,
     "metadata": {},
     "output_type": "execute_result"
    }
   ],
   "source": [
    "login_df['login_time'] = pd.to_datetime(login_df['login_time'])\n",
    "np.dtype(login_df['login_time'])"
   ]
  },
  {
   "cell_type": "code",
   "execution_count": 5,
   "id": "077d5d05",
   "metadata": {},
   "outputs": [
    {
     "data": {
      "text/plain": [
       "True"
      ]
     },
     "execution_count": 5,
     "metadata": {},
     "output_type": "execute_result"
    }
   ],
   "source": [
    "login_df['login_time'][0] < login_df['login_time'][1]"
   ]
  },
  {
   "cell_type": "code",
   "execution_count": 6,
   "id": "f2c4675d",
   "metadata": {},
   "outputs": [],
   "source": [
    "offset = login_df['login_time'][0] + pd.DateOffset(minutes = 15)"
   ]
  },
  {
   "cell_type": "code",
   "execution_count": 7,
   "id": "9de726e1",
   "metadata": {},
   "outputs": [
    {
     "data": {
      "text/plain": [
       "True"
      ]
     },
     "execution_count": 7,
     "metadata": {},
     "output_type": "execute_result"
    }
   ],
   "source": [
    "login_df['login_time'][0] < offset"
   ]
  },
  {
   "cell_type": "code",
   "execution_count": 8,
   "id": "a03cee6e",
   "metadata": {},
   "outputs": [],
   "source": [
    "x = len(login_df)\n",
    "bin_lst = []\n",
    "offset_begin_lst = []\n",
    "offset_end_lst = []\n",
    "plus_15 = 15\n",
    "bin_num = 1\n",
    "offset_begin = login_df['login_time'][0]\n",
    "offset_end = login_df['login_time'][0] + pd.DateOffset(minutes = plus_15)\n",
    "for i in range(x):\n",
    "    if login_df['login_time'][i] <= offset_end:\n",
    "        bin_lst.append(bin_num)\n",
    "        offset_begin_lst.append(offset_begin)\n",
    "        offset_end_lst.append(offset_end)\n",
    "    else:\n",
    "        bin_num += 1\n",
    "        offset_begin = offset_end\n",
    "        offset_end = offset_end + pd.DateOffset(minutes=plus_15)\n",
    "        bin_lst.append(bin_num)\n",
    "        offset_begin_lst.append(offset_begin)\n",
    "        offset_end_lst.append(offset_end)"
   ]
  },
  {
   "cell_type": "code",
   "execution_count": 9,
   "id": "44ad2656",
   "metadata": {},
   "outputs": [],
   "source": [
    "login_df['bin_number'] = bin_lst"
   ]
  },
  {
   "cell_type": "code",
   "execution_count": 10,
   "id": "4e983c64",
   "metadata": {},
   "outputs": [],
   "source": [
    "login_df['bin_start'] = offset_begin_lst"
   ]
  },
  {
   "cell_type": "code",
   "execution_count": 11,
   "id": "04b8e461",
   "metadata": {},
   "outputs": [],
   "source": [
    "login_df['bin_end'] = offset_end_lst"
   ]
  },
  {
   "cell_type": "code",
   "execution_count": 12,
   "id": "646ce3e8",
   "metadata": {},
   "outputs": [
    {
     "data": {
      "text/html": [
       "<div>\n",
       "<style scoped>\n",
       "    .dataframe tbody tr th:only-of-type {\n",
       "        vertical-align: middle;\n",
       "    }\n",
       "\n",
       "    .dataframe tbody tr th {\n",
       "        vertical-align: top;\n",
       "    }\n",
       "\n",
       "    .dataframe thead th {\n",
       "        text-align: right;\n",
       "    }\n",
       "</style>\n",
       "<table border=\"1\" class=\"dataframe\">\n",
       "  <thead>\n",
       "    <tr style=\"text-align: right;\">\n",
       "      <th></th>\n",
       "      <th>login_time</th>\n",
       "      <th>bin_number</th>\n",
       "      <th>bin_start</th>\n",
       "      <th>bin_end</th>\n",
       "    </tr>\n",
       "  </thead>\n",
       "  <tbody>\n",
       "    <tr>\n",
       "      <th>0</th>\n",
       "      <td>1970-01-01 20:13:18</td>\n",
       "      <td>1</td>\n",
       "      <td>1970-01-01 20:13:18</td>\n",
       "      <td>1970-01-01 20:28:18</td>\n",
       "    </tr>\n",
       "    <tr>\n",
       "      <th>1</th>\n",
       "      <td>1970-01-01 20:16:10</td>\n",
       "      <td>1</td>\n",
       "      <td>1970-01-01 20:13:18</td>\n",
       "      <td>1970-01-01 20:28:18</td>\n",
       "    </tr>\n",
       "  </tbody>\n",
       "</table>\n",
       "</div>"
      ],
      "text/plain": [
       "           login_time  bin_number           bin_start             bin_end\n",
       "0 1970-01-01 20:13:18           1 1970-01-01 20:13:18 1970-01-01 20:28:18\n",
       "1 1970-01-01 20:16:10           1 1970-01-01 20:13:18 1970-01-01 20:28:18"
      ]
     },
     "execution_count": 12,
     "metadata": {},
     "output_type": "execute_result"
    }
   ],
   "source": [
    "login_df.head(2)"
   ]
  },
  {
   "cell_type": "code",
   "execution_count": 13,
   "id": "6576705d",
   "metadata": {},
   "outputs": [],
   "source": [
    "y = max(login_df['bin_number'])"
   ]
  },
  {
   "cell_type": "code",
   "execution_count": 14,
   "id": "3c2e7916",
   "metadata": {},
   "outputs": [
    {
     "data": {
      "text/plain": [
       "Timestamp('1970-01-01 20:43:18')"
      ]
     },
     "execution_count": 14,
     "metadata": {},
     "output_type": "execute_result"
    }
   ],
   "source": [
    "login_df.loc[login_df['bin_number'] == 2, 'bin_end'].iloc[0]"
   ]
  },
  {
   "cell_type": "code",
   "execution_count": 15,
   "id": "47ec5283",
   "metadata": {},
   "outputs": [],
   "source": [
    "count = []\n",
    "bin_end = []\n",
    "for i in range(y):\n",
    "    count.append(login_df['bin_number'].value_counts()[i+1])\n",
    "    bin_end.append(login_df.loc[login_df['bin_number'] == i+1, 'bin_end'].iloc[0])"
   ]
  },
  {
   "cell_type": "code",
   "execution_count": 16,
   "id": "b930a2a0",
   "metadata": {},
   "outputs": [
    {
     "data": {
      "image/png": "[encoded data removed]",
      "text/plain": [
       "<Figure size 2000x600 with 1 Axes>"
      ]
     },
     "metadata": {},
     "output_type": "display_data"
    }
   ],
   "source": [
    "x_axis = bin_end\n",
    "y_axis = count\n",
    "\n",
    "plt.figure(figsize=(20,6))\n",
    "plt.plot(x_axis, y_axis)\n",
    "plt.title('Login Counts in 15 Minute Intervals')\n",
    "plt.xlabel('Time')\n",
    "plt.ylabel('Number of Logins')\n",
    "plt.show()"
   ]
  },
  {
   "cell_type": "code",
   "execution_count": 17,
   "id": "b7412210",
   "metadata": {},
   "outputs": [],
   "source": [
    "login_count = pd.DataFrame(list(zip(count, bin_end)), columns = ['Count', 'Bin End'])  "
   ]
  },
  {
   "cell_type": "code",
   "execution_count": 18,
   "id": "79d1da49",
   "metadata": {},
   "outputs": [
    {
     "data": {
      "text/html": [
       "<div>\n",
       "<style scoped>\n",
       "    .dataframe tbody tr th:only-of-type {\n",
       "        vertical-align: middle;\n",
       "    }\n",
       "\n",
       "    .dataframe tbody tr th {\n",
       "        vertical-align: top;\n",
       "    }\n",
       "\n",
       "    .dataframe thead th {\n",
       "        text-align: right;\n",
       "    }\n",
       "</style>\n",
       "<table border=\"1\" class=\"dataframe\">\n",
       "  <thead>\n",
       "    <tr style=\"text-align: right;\">\n",
       "      <th></th>\n",
       "      <th>Count</th>\n",
       "      <th>Bin End</th>\n",
       "    </tr>\n",
       "  </thead>\n",
       "  <tbody>\n",
       "    <tr>\n",
       "      <th>0</th>\n",
       "      <td>7</td>\n",
       "      <td>1970-01-01 20:28:18</td>\n",
       "    </tr>\n",
       "    <tr>\n",
       "      <th>1</th>\n",
       "      <td>2</td>\n",
       "      <td>1970-01-01 20:43:18</td>\n",
       "    </tr>\n",
       "    <tr>\n",
       "      <th>2</th>\n",
       "      <td>13</td>\n",
       "      <td>1970-01-01 20:58:18</td>\n",
       "    </tr>\n",
       "    <tr>\n",
       "      <th>3</th>\n",
       "      <td>2</td>\n",
       "      <td>1970-01-01 21:13:18</td>\n",
       "    </tr>\n",
       "    <tr>\n",
       "      <th>4</th>\n",
       "      <td>4</td>\n",
       "      <td>1970-01-01 21:28:18</td>\n",
       "    </tr>\n",
       "  </tbody>\n",
       "</table>\n",
       "</div>"
      ],
      "text/plain": [
       "   Count             Bin End\n",
       "0      7 1970-01-01 20:28:18\n",
       "1      2 1970-01-01 20:43:18\n",
       "2     13 1970-01-01 20:58:18\n",
       "3      2 1970-01-01 21:13:18\n",
       "4      4 1970-01-01 21:28:18"
      ]
     },
     "execution_count": 18,
     "metadata": {},
     "output_type": "execute_result"
    }
   ],
   "source": [
    "login_count.head()"
   ]
  },
  {
   "cell_type": "code",
   "execution_count": 19,
   "id": "c91620b9",
   "metadata": {},
   "outputs": [],
   "source": [
    "day = []\n",
    "for i in range(y):\n",
    "    day.append(login_count['Bin End'][i].weekday())"
   ]
  },
  {
   "cell_type": "code",
   "execution_count": 20,
   "id": "02c4d618",
   "metadata": {},
   "outputs": [],
   "source": [
    "login_count['Day of Week'] = day"
   ]
  },
  {
   "cell_type": "code",
   "execution_count": 21,
   "id": "7a63a22b",
   "metadata": {},
   "outputs": [],
   "source": [
    "login_count['Hour'] = login_count['Bin End'].dt.strftime(\"%H\")"
   ]
  },
  {
   "cell_type": "code",
   "execution_count": 22,
   "id": "59998a32",
   "metadata": {},
   "outputs": [],
   "source": [
    "login_count['Minute'] = login_count['Bin End'].dt.strftime(\"%M\")"
   ]
  },
  {
   "cell_type": "code",
   "execution_count": 23,
   "id": "0d27f14a",
   "metadata": {},
   "outputs": [],
   "source": [
    "login_count['Month'] = login_count['Bin End'].dt.strftime(\"%m\")"
   ]
  },
  {
   "cell_type": "code",
   "execution_count": 24,
   "id": "8a373e6f",
   "metadata": {},
   "outputs": [],
   "source": [
    "login_count['Day'] = login_count['Bin End'].dt.strftime(\"%d\")"
   ]
  },
  {
   "cell_type": "code",
   "execution_count": 25,
   "id": "d9a739ba",
   "metadata": {},
   "outputs": [
    {
     "data": {
      "text/html": [
       "<div>\n",
       "<style scoped>\n",
       "    .dataframe tbody tr th:only-of-type {\n",
       "        vertical-align: middle;\n",
       "    }\n",
       "\n",
       "    .dataframe tbody tr th {\n",
       "        vertical-align: top;\n",
       "    }\n",
       "\n",
       "    .dataframe thead th {\n",
       "        text-align: right;\n",
       "    }\n",
       "</style>\n",
       "<table border=\"1\" class=\"dataframe\">\n",
       "  <thead>\n",
       "    <tr style=\"text-align: right;\">\n",
       "      <th></th>\n",
       "      <th>Count</th>\n",
       "      <th>Bin End</th>\n",
       "      <th>Day of Week</th>\n",
       "      <th>Hour</th>\n",
       "      <th>Minute</th>\n",
       "      <th>Month</th>\n",
       "      <th>Day</th>\n",
       "    </tr>\n",
       "  </thead>\n",
       "  <tbody>\n",
       "    <tr>\n",
       "      <th>0</th>\n",
       "      <td>7</td>\n",
       "      <td>1970-01-01 20:28:18</td>\n",
       "      <td>3</td>\n",
       "      <td>20</td>\n",
       "      <td>28</td>\n",
       "      <td>01</td>\n",
       "      <td>01</td>\n",
       "    </tr>\n",
       "    <tr>\n",
       "      <th>1</th>\n",
       "      <td>2</td>\n",
       "      <td>1970-01-01 20:43:18</td>\n",
       "      <td>3</td>\n",
       "      <td>20</td>\n",
       "      <td>43</td>\n",
       "      <td>01</td>\n",
       "      <td>01</td>\n",
       "    </tr>\n",
       "    <tr>\n",
       "      <th>2</th>\n",
       "      <td>13</td>\n",
       "      <td>1970-01-01 20:58:18</td>\n",
       "      <td>3</td>\n",
       "      <td>20</td>\n",
       "      <td>58</td>\n",
       "      <td>01</td>\n",
       "      <td>01</td>\n",
       "    </tr>\n",
       "    <tr>\n",
       "      <th>3</th>\n",
       "      <td>2</td>\n",
       "      <td>1970-01-01 21:13:18</td>\n",
       "      <td>3</td>\n",
       "      <td>21</td>\n",
       "      <td>13</td>\n",
       "      <td>01</td>\n",
       "      <td>01</td>\n",
       "    </tr>\n",
       "    <tr>\n",
       "      <th>4</th>\n",
       "      <td>4</td>\n",
       "      <td>1970-01-01 21:28:18</td>\n",
       "      <td>3</td>\n",
       "      <td>21</td>\n",
       "      <td>28</td>\n",
       "      <td>01</td>\n",
       "      <td>01</td>\n",
       "    </tr>\n",
       "  </tbody>\n",
       "</table>\n",
       "</div>"
      ],
      "text/plain": [
       "   Count             Bin End  Day of Week Hour Minute Month Day\n",
       "0      7 1970-01-01 20:28:18            3   20     28    01  01\n",
       "1      2 1970-01-01 20:43:18            3   20     43    01  01\n",
       "2     13 1970-01-01 20:58:18            3   20     58    01  01\n",
       "3      2 1970-01-01 21:13:18            3   21     13    01  01\n",
       "4      4 1970-01-01 21:28:18            3   21     28    01  01"
      ]
     },
     "execution_count": 25,
     "metadata": {},
     "output_type": "execute_result"
    }
   ],
   "source": [
    "login_count.head()"
   ]
  },
  {
   "cell_type": "code",
   "execution_count": 26,
   "id": "22627611",
   "metadata": {},
   "outputs": [],
   "source": [
    "rfr = RandomForestRegressor(random_state = 1701)"
   ]
  },
  {
   "cell_type": "code",
   "execution_count": 27,
   "id": "0c0ff0b7",
   "metadata": {},
   "outputs": [],
   "source": [
    "X_train, X_test, y_train, y_test = train_test_split(login_count.drop(columns=['Bin End', 'Count']), \n",
    "                                                    login_count.Count, test_size=0.25, random_state=1701)"
   ]
  },
  {
   "cell_type": "code",
   "execution_count": 28,
   "id": "d7e8d7d3",
   "metadata": {},
   "outputs": [
    {
     "data": {
      "text/html": [
       "<style>#sk-container-id-1 {color: black;background-color: white;}#sk-container-id-1 pre{padding: 0;}#sk-container-id-1 div.sk-toggleable {background-color: white;}#sk-container-id-1 label.sk-toggleable__label {cursor: pointer;display: block;width: 100%;margin-bottom: 0;padding: 0.3em;box-sizing: border-box;text-align: center;}#sk-container-id-1 label.sk-toggleable__label-arrow:before {content: \"▸\";float: left;margin-right: 0.25em;color: #696969;}#sk-container-id-1 label.sk-toggleable__label-arrow:hover:before {color: black;}#sk-container-id-1 div.sk-estimator:hover label.sk-toggleable__label-arrow:before {color: black;}#sk-container-id-1 div.sk-toggleable__content {max-height: 0;max-width: 0;overflow: hidden;text-align: left;background-color: #f0f8ff;}#sk-container-id-1 div.sk-toggleable__content pre {margin: 0.2em;color: black;border-radius: 0.25em;background-color: #f0f8ff;}#sk-container-id-1 input.sk-toggleable__control:checked~div.sk-toggleable__content {max-height: 200px;max-width: 100%;overflow: auto;}#sk-container-id-1 input.sk-toggleable__control:checked~label.sk-toggleable__label-arrow:before {content: \"▾\";}#sk-container-id-1 div.sk-estimator input.sk-toggleable__control:checked~label.sk-toggleable__label {background-color: #d4ebff;}#sk-container-id-1 div.sk-label input.sk-toggleable__control:checked~label.sk-toggleable__label {background-color: #d4ebff;}#sk-container-id-1 input.sk-hidden--visually {border: 0;clip: rect(1px 1px 1px 1px);clip: rect(1px, 1px, 1px, 1px);height: 1px;margin: -1px;overflow: hidden;padding: 0;position: absolute;width: 1px;}#sk-container-id-1 div.sk-estimator {font-family: monospace;background-color: #f0f8ff;border: 1px dotted black;border-radius: 0.25em;box-sizing: border-box;margin-bottom: 0.5em;}#sk-container-id-1 div.sk-estimator:hover {background-color: #d4ebff;}#sk-container-id-1 div.sk-parallel-item::after {content: \"\";width: 100%;border-bottom: 1px solid gray;flex-grow: 1;}#sk-container-id-1 div.sk-label:hover label.sk-toggleable__label {background-color: #d4ebff;}#sk-container-id-1 div.sk-serial::before {content: \"\";position: absolute;border-left: 1px solid gray;box-sizing: border-box;top: 0;bottom: 0;left: 50%;z-index: 0;}#sk-container-id-1 div.sk-serial {display: flex;flex-direction: column;align-items: center;background-color: white;padding-right: 0.2em;padding-left: 0.2em;position: relative;}#sk-container-id-1 div.sk-item {position: relative;z-index: 1;}#sk-container-id-1 div.sk-parallel {display: flex;align-items: stretch;justify-content: center;background-color: white;position: relative;}#sk-container-id-1 div.sk-item::before, #sk-container-id-1 div.sk-parallel-item::before {content: \"\";position: absolute;border-left: 1px solid gray;box-sizing: border-box;top: 0;bottom: 0;left: 50%;z-index: -1;}#sk-container-id-1 div.sk-parallel-item {display: flex;flex-direction: column;z-index: 1;position: relative;background-color: white;}#sk-container-id-1 div.sk-parallel-item:first-child::after {align-self: flex-end;width: 50%;}#sk-container-id-1 div.sk-parallel-item:last-child::after {align-self: flex-start;width: 50%;}#sk-container-id-1 div.sk-parallel-item:only-child::after {width: 0;}#sk-container-id-1 div.sk-dashed-wrapped {border: 1px dashed gray;margin: 0 0.4em 0.5em 0.4em;box-sizing: border-box;padding-bottom: 0.4em;background-color: white;}#sk-container-id-1 div.sk-label label {font-family: monospace;font-weight: bold;display: inline-block;line-height: 1.2em;}#sk-container-id-1 div.sk-label-container {text-align: center;}#sk-container-id-1 div.sk-container {/* jupyter's `normalize.less` sets `[hidden] { display: none; }` but bootstrap.min.css set `[hidden] { display: none !important; }` so we also need the `!important` here to be able to override the default hidden behavior on the sphinx rendered scikit-learn.org. See: https://github.com/scikit-learn/scikit-learn/issues/21755 */display: inline-block !important;position: relative;}#sk-container-id-1 div.sk-text-repr-fallback {display: none;}</style><div id=\"sk-container-id-1\" class=\"sk-top-container\"><div class=\"sk-text-repr-fallback\"><pre>RandomForestRegressor(random_state=1701)</pre><b>In a Jupyter environment, please rerun this cell to show the HTML representation or trust the notebook. <br />On GitHub, the HTML representation is unable to render, please try loading this page with nbviewer.org.</b></div><div class=\"sk-container\" hidden><div class=\"sk-item\"><div class=\"sk-estimator sk-toggleable\"><input class=\"sk-toggleable__control sk-hidden--visually\" id=\"sk-estimator-id-1\" type=\"checkbox\" checked><label for=\"sk-estimator-id-1\" class=\"sk-toggleable__label sk-toggleable__label-arrow\">RandomForestRegressor</label><div class=\"sk-toggleable__content\"><pre>RandomForestRegressor(random_state=1701)</pre></div></div></div></div></div>"
      ],
      "text/plain": [
       "RandomForestRegressor(random_state=1701)"
      ]
     },
     "execution_count": 28,
     "metadata": {},
     "output_type": "execute_result"
    }
   ],
   "source": [
    "rfr.fit(X_train, y_train)"
   ]
  },
  {
   "cell_type": "code",
   "execution_count": 29,
   "id": "ef4dbc06",
   "metadata": {},
   "outputs": [],
   "source": [
    "def regression_metrics(y_true, y_pred):\n",
    "    meanAbErr = metrics.mean_absolute_error(y_true, y_pred)\n",
    "    meanSqErr = metrics.mean_squared_error(y_true, y_pred)\n",
    "    rootMeanSqErr = np.sqrt(metrics.mean_squared_error(y_true, y_pred))\n",
    "    r2 = r2_score(y_true, y_pred)\n",
    "    mape = mean_absolute_percentage_error(y_true, y_pred)\n",
    "    print('R squared:', r2)\n",
    "    print('Mean Absolute Error:', meanAbErr)\n",
    "    print('Mean Square Error:', meanSqErr)\n",
    "    print('Root Mean Square Error:', rootMeanSqErr)\n",
    "    print('Mean Absolute Percentage Error:', mape)"
   ]
  },
  {
   "cell_type": "code",
   "execution_count": 30,
   "id": "5bf25027",
   "metadata": {},
   "outputs": [],
   "source": [
    "y_pred = rfr.predict(X_test)"
   ]
  },
  {
   "cell_type": "code",
   "execution_count": 31,
   "id": "3d97a1cf",
   "metadata": {},
   "outputs": [
    {
     "name": "stdout",
     "output_type": "stream",
     "text": [
      "R squared: 0.5627586557704707\n",
      "Mean Absolute Error: 3.955929709848794\n",
      "Mean Square Error: 34.3645258684103\n",
      "Root Mean Square Error: 5.862126394782894\n",
      "Mean Absolute Percentage Error: 0.6858446490020944\n"
     ]
    }
   ],
   "source": [
    "regression_metrics(y_test, y_pred)"
   ]
  },
  {
   "cell_type": "code",
   "execution_count": 32,
   "id": "c4ee6de9",
   "metadata": {},
   "outputs": [],
   "source": [
    "importances = rfr.feature_importances_"
   ]
  },
  {
   "cell_type": "code",
   "execution_count": 33,
   "id": "84ce00a3",
   "metadata": {},
   "outputs": [],
   "source": [
    "rfr_importances = pd.Series(importances, index = X_test.columns)\n",
    "rfr_importances = rfr_importances.sort_values(ascending = False)"
   ]
  },
  {
   "cell_type": "code",
   "execution_count": 34,
   "id": "e94cb14c",
   "metadata": {},
   "outputs": [
    {
     "data": {
      "text/plain": [
       "Hour           0.458930\n",
       "Day of Week    0.190004\n",
       "Day            0.145104\n",
       "Minute         0.116185\n",
       "Month          0.089776\n",
       "dtype: float64"
      ]
     },
     "execution_count": 34,
     "metadata": {},
     "output_type": "execute_result"
    }
   ],
   "source": [
    "rfr_importances"
   ]
  },
  {
   "cell_type": "code",
   "execution_count": 35,
   "id": "e3cf14fa",
   "metadata": {},
   "outputs": [
    {
     "data": {
      "image/png": "[encoded data removed]",
      "text/plain": [
       "<Figure size 2000x600 with 1 Axes>"
      ]
     },
     "metadata": {},
     "output_type": "display_data"
    }
   ],
   "source": [
    "x_axis = login_count['Hour']\n",
    "y_axis = count\n",
    "\n",
    "plt.figure(figsize=(20,6))\n",
    "plt.bar(x_axis, y_axis)\n",
    "plt.title('Login Counts by Hour')\n",
    "plt.xlabel('Time')\n",
    "plt.ylabel('Number of Logins')\n",
    "plt.show()"
   ]
  },
  {
   "cell_type": "code",
   "execution_count": 36,
   "id": "2c54b1a4",
   "metadata": {},
   "outputs": [],
   "source": [
    "login_count['Weekday'] = login_count['Bin End'].dt.strftime(\"%A\")"
   ]
  },
  {
   "cell_type": "code",
   "execution_count": 37,
   "id": "54d3a6ec",
   "metadata": {},
   "outputs": [
    {
     "data": {
      "text/html": [
       "<div>\n",
       "<style scoped>\n",
       "    .dataframe tbody tr th:only-of-type {\n",
       "        vertical-align: middle;\n",
       "    }\n",
       "\n",
       "    .dataframe tbody tr th {\n",
       "        vertical-align: top;\n",
       "    }\n",
       "\n",
       "    .dataframe thead th {\n",
       "        text-align: right;\n",
       "    }\n",
       "</style>\n",
       "<table border=\"1\" class=\"dataframe\">\n",
       "  <thead>\n",
       "    <tr style=\"text-align: right;\">\n",
       "      <th></th>\n",
       "      <th>Count</th>\n",
       "      <th>Bin End</th>\n",
       "      <th>Day of Week</th>\n",
       "      <th>Hour</th>\n",
       "      <th>Minute</th>\n",
       "      <th>Month</th>\n",
       "      <th>Day</th>\n",
       "      <th>Weekday</th>\n",
       "    </tr>\n",
       "  </thead>\n",
       "  <tbody>\n",
       "    <tr>\n",
       "      <th>9786</th>\n",
       "      <td>11</td>\n",
       "      <td>1970-04-13 18:58:18</td>\n",
       "      <td>0</td>\n",
       "      <td>18</td>\n",
       "      <td>58</td>\n",
       "      <td>04</td>\n",
       "      <td>13</td>\n",
       "      <td>Monday</td>\n",
       "    </tr>\n",
       "    <tr>\n",
       "      <th>2387</th>\n",
       "      <td>2</td>\n",
       "      <td>1970-01-26 17:13:18</td>\n",
       "      <td>0</td>\n",
       "      <td>17</td>\n",
       "      <td>13</td>\n",
       "      <td>01</td>\n",
       "      <td>26</td>\n",
       "      <td>Monday</td>\n",
       "    </tr>\n",
       "    <tr>\n",
       "      <th>2386</th>\n",
       "      <td>10</td>\n",
       "      <td>1970-01-26 16:58:18</td>\n",
       "      <td>0</td>\n",
       "      <td>16</td>\n",
       "      <td>58</td>\n",
       "      <td>01</td>\n",
       "      <td>26</td>\n",
       "      <td>Monday</td>\n",
       "    </tr>\n",
       "    <tr>\n",
       "      <th>2385</th>\n",
       "      <td>3</td>\n",
       "      <td>1970-01-26 16:43:18</td>\n",
       "      <td>0</td>\n",
       "      <td>16</td>\n",
       "      <td>43</td>\n",
       "      <td>01</td>\n",
       "      <td>26</td>\n",
       "      <td>Monday</td>\n",
       "    </tr>\n",
       "    <tr>\n",
       "      <th>2384</th>\n",
       "      <td>6</td>\n",
       "      <td>1970-01-26 16:28:18</td>\n",
       "      <td>0</td>\n",
       "      <td>16</td>\n",
       "      <td>28</td>\n",
       "      <td>01</td>\n",
       "      <td>26</td>\n",
       "      <td>Monday</td>\n",
       "    </tr>\n",
       "    <tr>\n",
       "      <th>...</th>\n",
       "      <td>...</td>\n",
       "      <td>...</td>\n",
       "      <td>...</td>\n",
       "      <td>...</td>\n",
       "      <td>...</td>\n",
       "      <td>...</td>\n",
       "      <td>...</td>\n",
       "      <td>...</td>\n",
       "    </tr>\n",
       "    <tr>\n",
       "      <th>1614</th>\n",
       "      <td>14</td>\n",
       "      <td>1970-01-18 15:58:18</td>\n",
       "      <td>6</td>\n",
       "      <td>15</td>\n",
       "      <td>58</td>\n",
       "      <td>01</td>\n",
       "      <td>18</td>\n",
       "      <td>Sunday</td>\n",
       "    </tr>\n",
       "    <tr>\n",
       "      <th>1613</th>\n",
       "      <td>8</td>\n",
       "      <td>1970-01-18 15:43:18</td>\n",
       "      <td>6</td>\n",
       "      <td>15</td>\n",
       "      <td>43</td>\n",
       "      <td>01</td>\n",
       "      <td>18</td>\n",
       "      <td>Sunday</td>\n",
       "    </tr>\n",
       "    <tr>\n",
       "      <th>1612</th>\n",
       "      <td>12</td>\n",
       "      <td>1970-01-18 15:28:18</td>\n",
       "      <td>6</td>\n",
       "      <td>15</td>\n",
       "      <td>28</td>\n",
       "      <td>01</td>\n",
       "      <td>18</td>\n",
       "      <td>Sunday</td>\n",
       "    </tr>\n",
       "    <tr>\n",
       "      <th>1621</th>\n",
       "      <td>5</td>\n",
       "      <td>1970-01-18 17:43:18</td>\n",
       "      <td>6</td>\n",
       "      <td>17</td>\n",
       "      <td>43</td>\n",
       "      <td>01</td>\n",
       "      <td>18</td>\n",
       "      <td>Sunday</td>\n",
       "    </tr>\n",
       "    <tr>\n",
       "      <th>8961</th>\n",
       "      <td>34</td>\n",
       "      <td>1970-04-05 04:43:18</td>\n",
       "      <td>6</td>\n",
       "      <td>04</td>\n",
       "      <td>43</td>\n",
       "      <td>04</td>\n",
       "      <td>05</td>\n",
       "      <td>Sunday</td>\n",
       "    </tr>\n",
       "  </tbody>\n",
       "</table>\n",
       "<p>9787 rows × 8 columns</p>\n",
       "</div>"
      ],
      "text/plain": [
       "      Count             Bin End  Day of Week Hour Minute Month Day Weekday\n",
       "9786     11 1970-04-13 18:58:18            0   18     58    04  13  Monday\n",
       "2387      2 1970-01-26 17:13:18            0   17     13    01  26  Monday\n",
       "2386     10 1970-01-26 16:58:18            0   16     58    01  26  Monday\n",
       "2385      3 1970-01-26 16:43:18            0   16     43    01  26  Monday\n",
       "2384      6 1970-01-26 16:28:18            0   16     28    01  26  Monday\n",
       "...     ...                 ...          ...  ...    ...   ...  ..     ...\n",
       "1614     14 1970-01-18 15:58:18            6   15     58    01  18  Sunday\n",
       "1613      8 1970-01-18 15:43:18            6   15     43    01  18  Sunday\n",
       "1612     12 1970-01-18 15:28:18            6   15     28    01  18  Sunday\n",
       "1621      5 1970-01-18 17:43:18            6   17     43    01  18  Sunday\n",
       "8961     34 1970-04-05 04:43:18            6   04     43    04  05  Sunday\n",
       "\n",
       "[9787 rows x 8 columns]"
      ]
     },
     "execution_count": 37,
     "metadata": {},
     "output_type": "execute_result"
    }
   ],
   "source": [
    "login_count.sort_values('Day of Week')"
   ]
  },
  {
   "cell_type": "code",
   "execution_count": 39,
   "id": "9a5ba7ad",
   "metadata": {},
   "outputs": [
    {
     "data": {
      "image/png": "[encoded data removed]",
      "text/plain": [
       "<Figure size 2000x600 with 1 Axes>"
      ]
     },
     "metadata": {},
     "output_type": "display_data"
    }
   ],
   "source": [
    "x_axis = login_count['Weekday']\n",
    "y_axis = count\n",
    "plt.figure(figsize=(20,6))\n",
    "plt.bar(x_axis, y_axis)\n",
    "plt.title('Login Counts by Day of Week')\n",
    "plt.xlabel('Day')\n",
    "plt.ylabel('Count')\n",
    "\n",
    "plt.show()"
   ]
  },
  {
   "cell_type": "code",
   "execution_count": null,
   "id": "e28c1e28",
   "metadata": {},
   "outputs": [],
   "source": [
    "'''There are several problems with the data. 1) The data is very old. It is hard to imagine that it could be of any business use.\n",
    "2) There is no time zone associated with the timestamps. It would have to be verified separately that the data come from the same time\n",
    "zone or are otherwise converted for usefulness 3) The data only covers Jan-April of 1970, a very limited timeframe.\n",
    "\n",
    "As requested the data was initially binned by 15 minute intervals. I chose the end time, but an early version of this notebook \n",
    "used the start time of the interval. There were no significant differences in the graphs from either version. \n",
    "After running the Random Forest Regressor and it's modest performance. I decided to look at the features it determined most \n",
    "important. The first of these was the hour that the 15 minute interval ended in. The most popular times for login where \n",
    "approximately between 10pm and 5am. With a sharp drop off in the 6am - 10 am hours. Also of note the Friday, Saturday, and Sunday\n",
    "all had the highest number of logins. Saturday being the most popular. Monday being the least popular. '''"
   ]
  },
  {
   "cell_type": "code",
   "execution_count": null,
   "id": "b06b1354",
   "metadata": {},
   "outputs": [],
   "source": []
  },
  {
   "cell_type": "code",
   "execution_count": null,
   "id": "bd377a5c",
   "metadata": {},
   "outputs": [],
   "source": []
  }
 ],
 "metadata": {
  "kernelspec": {
   "display_name": "Python 3 (ipykernel)",
   "language": "python",
   "name": "python3"
  },
  "language_info": {
   "codemirror_mode": {
    "name": "ipython",
    "version": 3
   },
   "file_extension": ".py",
   "mimetype": "text/x-python",
   "name": "python",
   "nbconvert_exporter": "python",
   "pygments_lexer": "ipython3",
   "version": "3.10.9"
  }
 },
 "nbformat": 4,
 "nbformat_minor": 5
}
